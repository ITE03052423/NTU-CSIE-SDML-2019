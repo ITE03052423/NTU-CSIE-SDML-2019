{
 "cells": [
  {
   "cell_type": "code",
   "execution_count": 1,
   "metadata": {
    "colab": {},
    "colab_type": "code",
    "id": "OyQOo0f65daB"
   },
   "outputs": [],
   "source": [
    "import torch\n",
    "import torch.nn as nn\n",
    "import torch.optim as optim\n",
    "\n",
    "# import spacy\n",
    "\n",
    "import random\n",
    "import math\n",
    "import time\n",
    "\n",
    "import collections\n",
    "import pickle\n",
    "import os\n",
    "import tensorflow as tf\n",
    "from torch.utils.data import DataLoader, Dataset, SequentialSampler, RandomSampler\n",
    "import torch.nn.utils.rnn as rnn_utils"
   ]
  },
  {
   "cell_type": "code",
   "execution_count": 2,
   "metadata": {
    "colab": {},
    "colab_type": "code",
    "id": "nQsfWxm26sGU"
   },
   "outputs": [],
   "source": [
    "data_dir = './data/'\n",
    "proj_dir = './'"
   ]
  },
  {
   "cell_type": "code",
   "execution_count": 3,
   "metadata": {
    "colab": {},
    "colab_type": "code",
    "id": "Tx8u7Nsf63L5"
   },
   "outputs": [],
   "source": [
    "class Vocabulary(object):\n",
    "\n",
    "    def __init__(self):\n",
    "        self.word2idx = {'<SOS>': 0, '<EOS>': 1, '<PAD>': 2, '<UNK>': 3}\n",
    "        self.idx2word = {0: '<SOS>', 1: '<EOS>', 2: '<PAD>', 3: '<UNK>'}\n",
    "        self.num_words = 4\n",
    "        self.OOV_list = []\n",
    "        self.OOV=0\n",
    "#         for i in range(10):\n",
    "#             word = str(i)\n",
    "#             self.word2idx[word] = self.num_words\n",
    "#             self.idx2word[self.num_words] = word\n",
    "#             self.num_words += 1           \n",
    "\n",
    "    def build_vocab(self, data_path):\n",
    "        \"\"\"Construct the relation between words and indices\"\"\"\n",
    "        i=0\n",
    "        with open(data_path, 'r', encoding='utf-8') as dataset:\n",
    "            for words in dataset:\n",
    "                parts = words.strip('\\n').strip().split('\\t')\n",
    "                assert len(parts) == 2, 'Not 2 parts'+words\n",
    "                words = parts[0].split()\n",
    "                if i<5:\n",
    "                    print(words)\n",
    "                i+=1\n",
    "                for word in words:\n",
    "                    if word not in self.word2idx:\n",
    "                        self.word2idx[word] = self.num_words\n",
    "                        self.idx2word[self.num_words] = word\n",
    "                        self.num_words += 1\n",
    "\n",
    "    def sequence_to_indices(self, sequence, add_eos=False, add_sos=False):\n",
    "        \"\"\"Transform a char sequence to index sequence\n",
    "            :param sequence: a string composed with chars\n",
    "            :param add_eos: if true, add the <EOS> tag at the end of given sentence\n",
    "            :param add_sos: if true, add the <SOS> tag at the beginning of given sentence\n",
    "        \"\"\"\n",
    "        index_sequence = [self.word2idx['<SOS>']] if add_sos else []\n",
    "\n",
    "        for word in sequence:\n",
    "            if word not in self.word2idx:\n",
    "                self.OOV+=1\n",
    "                self.OOV_list.append(word)\n",
    "                index_sequence.append((self.word2idx['<UNK>']))\n",
    "            else:\n",
    "                index_sequence.append(self.word2idx[word])\n",
    "\n",
    "        if add_eos:\n",
    "            index_sequence.append(self.word2idx['<EOS>'])\n",
    "\n",
    "        return index_sequence\n",
    "\n",
    "    def indices_to_sequence(self, indices,print_signal=False):\n",
    "        \"\"\"Transform a list of indices\n",
    "            :param indices: a list\n",
    "        \"\"\"\n",
    "        sequence = []\n",
    "        for idx in indices:\n",
    "            word = self.idx2word[idx]\n",
    "            if word == \"<EOS>\" and (not print_signal):\n",
    "                sequence.append(word)\n",
    "                break\n",
    "            elif word == '<PAD>':\n",
    "                break\n",
    "            else:\n",
    "                sequence.append(word)\n",
    "        return sequence\n",
    "\n",
    "    def __str__(self):\n",
    "        str = \"Vocab information:\\n\"\n",
    "        for idx, word in self.idx2word.items():\n",
    "            str += \"word: %s Index: %d\\n\" % (word, idx)\n",
    "        return str"
   ]
  },
  {
   "cell_type": "code",
   "execution_count": 4,
   "metadata": {
    "colab": {},
    "colab_type": "code",
    "id": "jKj7rJox7S4S"
   },
   "outputs": [],
   "source": [
    "class MyData(Dataset):\n",
    "    def __init__(self, path,corpus_path=None,vocab=None):\n",
    "        self.src_indices_seq = []\n",
    "        self.trg_indices_seq = []\n",
    "        if vocab == None:\n",
    "            self.vocab = Vocabulary()\n",
    "            self.vocab.build_vocab(corpus_path)\n",
    "        else:\n",
    "            self.vocab = vocab\n",
    "            self.vocab.build_vocab(corpus_path)\n",
    "        self.PAD_ID = self.vocab.word2idx[\"<PAD>\"]\n",
    "        self.SOS_ID = self.vocab.word2idx[\"<SOS>\"]\n",
    "        self.vocab_size = self.vocab.num_words\n",
    "        self.max_length = -1\n",
    "        self.raw_src_sent_data = [] #src sentence\n",
    "        self.raw_trg_sent_data = [] #target sentence\n",
    "#         self.max_length = self.vocab.max_length\n",
    "        c=0\n",
    "        file=open(path, 'r', encoding='utf-8')\n",
    "        for line in file:\n",
    "            pparts = line.strip('\\n').split('\\t')\n",
    "            assert len(pparts) == 2, 'Error!!'\n",
    "            words,trg_sentence = pparts\n",
    "            trg_sentence = trg_sentence.split()\n",
    "            self.raw_trg_sent_data.append(trg_sentence)\n",
    "            if trg_sentence[0]!='<SOS>':\n",
    "                print('trg:',trg_sentence)\n",
    "            if self.max_length < len(trg_sentence):\n",
    "                self.max_length = len(trg_sentence)\n",
    "            src_sent = words.strip('\\n').split()\n",
    "            self.raw_src_sent_data.append(src_sent)\n",
    "            if src_sent[0]!='<SOS>':\n",
    "                print('src:',src_sent)\n",
    "            if self.max_length < len(src_sent):\n",
    "                self.max_length = len(src_sent)\n",
    "        assert len(self.raw_trg_sent_data)==len(self.raw_src_sent_data),'Error 2!'+line\n",
    "        for i,trg_sent in enumerate(self.raw_trg_sent_data):\n",
    "            indices_seq = self.vocab.sequence_to_indices(self.raw_src_sent_data[i], add_eos=False)\n",
    "            self.src_indices_seq.append(torch.tensor(indices_seq))\n",
    "            indices_seq = self.vocab.sequence_to_indices(trg_sent, add_eos=False)\n",
    "            self.trg_indices_seq.append(torch.tensor(indices_seq))\n",
    "        self.src_indices_seq = rnn_utils.pad_sequence(self.src_indices_seq, batch_first=True, padding_value=self.PAD_ID)\n",
    "        self.trg_indices_seq = rnn_utils.pad_sequence(self.trg_indices_seq, batch_first=True, padding_value=self.PAD_ID)\n",
    "        print(\"## J: Total examples: %d, unique words:%d, Max seq length: %d\"%(len(self.src_indices_seq),self.vocab_size,self.max_length))\n",
    "    # def collate_fn(data):\n",
    "    #     data = rnn_utils.pad_sequence(data, batch_first=True, padding_value=0)\n",
    "    #     return data\n",
    "    def __len__(self):\n",
    "        return len(self.src_indices_seq)\n",
    "\n",
    "    def __getitem__(self, idx):\n",
    "        return torch.tensor(self.src_indices_seq[idx]), torch.tensor(self.trg_indices_seq[idx])\n"
   ]
  },
  {
   "cell_type": "code",
   "execution_count": 5,
   "metadata": {
    "colab": {
     "base_uri": "https://localhost:8080/",
     "height": 51
    },
    "colab_type": "code",
    "id": "bff9czp3--Yi",
    "outputId": "9313241a-7162-4017-d517-d7658263c931"
   },
   "outputs": [
    {
     "name": "stdout",
     "output_type": "stream",
     "text": [
      "['<SOS>', 'you', 'ca', \"n't\", 'have', 'that', '<EOS>', '0', '1', '2']\n",
      "['<SOS>', 'i', 'told', 'you', 'i', 'did', \"n't\", 'want', 'to', 'go', 'to', 'boston', '<EOS>', '4', '5', '1']\n",
      "['<SOS>', 'that', \"'s\", 'what', 'i', 'said', 'to', 'tom', '<EOS>', '2', '0', '-2']\n",
      "['<SOS>', 'tom', 'has', 'done', 'well', 'here', '<EOS>', '3', '1', '-1']\n",
      "['<SOS>', 'tom', 'just', 'told', 'me', 'what', 'to', 'do', '<EOS>', '6', '-1', '-1']\n",
      "## J: Total examples: 98040, unique words:198, Max seq length: 19\n",
      "['<SOS>', 'tom', 'said', 'he', 'would', \"n't\", 'do', 'that', ',', 'so', 'i', 'asked', 'mary', 'to', '<EOS>', '4', '7', '2']\n",
      "['<SOS>', 'tom', 'said', 'he', 'would', \"n't\", 'do', 'that', ',', 'so', 'i', 'asked', 'mary', 'to', '<EOS>', '0', '-1', '-2']\n",
      "['<SOS>', 'tom', 'said', 'he', 'would', \"n't\", 'do', 'that', ',', 'so', 'i', 'asked', 'mary', 'to', '<EOS>', '11', '5', '-2']\n",
      "['<SOS>', 'tom', 'said', 'he', 'would', \"n't\", 'do', 'that', ',', 'so', 'i', 'asked', 'mary', 'to', '<EOS>', '1', '10', '2']\n",
      "['<SOS>', 'tom', 'said', 'he', 'would', \"n't\", 'do', 'that', ',', 'so', 'i', 'asked', 'mary', 'to', '<EOS>', '5', '9', '2']\n",
      "## J: Total examples: 24510, unique words:198, Max seq length: 19\n"
     ]
    }
   ],
   "source": [
    "train_set = MyData(data_dir+'final_data/train.txt',corpus_path=data_dir+'final_data/train.txt')\n",
    "test_set = MyData(data_dir+'final_data/val.txt',vocab=train_set.vocab,corpus_path=data_dir+'final_data/val.txt')\n",
    "# test_set = TestData('./datatest/'+'hw2.1-1_testing_data.txt',max_length=train_set.max_length,vocab=train_set.vocab)"
   ]
  },
  {
   "cell_type": "code",
   "execution_count": 6,
   "metadata": {},
   "outputs": [
    {
     "name": "stdout",
     "output_type": "stream",
     "text": [
      "---- 0 -----\n",
      "data: ['<SOS>', 'you', 'ca', \"n't\", 'have', 'that', '<EOS>', '0', '1', '2']\n",
      "trg: ['<SOS>', 'you', '<EOS>']\n",
      "---- 1 -----\n",
      "data: ['<SOS>', 'i', 'told', 'you', 'i', 'did', \"n't\", 'want', 'to', 'go', 'to', 'boston', '<EOS>', '4', '5', '1']\n",
      "trg: ['<SOS>', 'did', '<EOS>']\n",
      "---- 2 -----\n",
      "data: ['<SOS>', 'that', \"'s\", 'what', 'i', 'said', 'to', 'tom', '<EOS>', '2', '0', '-2']\n",
      "trg: ['<SOS>', 'what', '<EOS>']\n",
      "---- 3 -----\n",
      "data: ['<SOS>', 'tom', 'has', 'done', 'well', 'here', '<EOS>', '3', '1', '-1']\n",
      "trg: ['<SOS>', 'well', 'done', '<EOS>']\n",
      "---- 4 -----\n",
      "data: ['<SOS>', 'tom', 'just', 'told', 'me', 'what', 'to', 'do', '<EOS>', '6', '-1', '-1']\n",
      "trg: ['<SOS>', 'do', 'to', 'what', 'me', 'told', 'just', 'tom', '<EOS>']\n",
      "---- 5 -----\n",
      "data: ['<SOS>', 'she', 'told', 'him', 'that', 'he', 'was', 'right', '<EOS>', '1', '5', '1']\n",
      "trg: ['<SOS>', 'told', 'him', 'that', 'he', '<EOS>']\n",
      "---- 6 -----\n",
      "data: ['<SOS>', 'is', \"n't\", 'tom', 'with', 'you', '<EOS>', '0', '2', '2']\n",
      "trg: ['<SOS>', 'is', '<EOS>']\n",
      "---- 7 -----\n",
      "data: ['<SOS>', 'tom', 'told', 'us', 'he', 'could', \"n't\", 'help', '<EOS>', '5', '4', '-2']\n",
      "trg: ['<SOS>', \"n't\", '<EOS>']\n",
      "---- 8 -----\n",
      "data: ['<SOS>', 'i', \"'ve\", 'been', 'here', 'before', '<EOS>', '4', '0', '-1']\n",
      "trg: ['<SOS>', 'before', 'here', 'been', \"'ve\", '<EOS>']\n",
      "---- 9 -----\n",
      "data: ['<SOS>', 'let', 'me', 'know', 'when', 'it', \"'s\", 'time', '<EOS>', '2', '3', '1']\n",
      "trg: ['<SOS>', 'know', '<EOS>']\n",
      "---- 10 -----\n",
      "data: ['<SOS>', 'tom', 'wo', \"n't\", 'do', 'that', ',', 'but', 'mary', 'will', '<EOS>', '4', '1', '-2']\n",
      "trg: ['<SOS>', 'that', \"n't\", '<EOS>']\n",
      "---- 11 -----\n",
      "data: ['<SOS>', 'i', 'have', 'too', 'much', 'to', 'think', 'about', '<EOS>', '2', '6', '1']\n",
      "trg: ['<SOS>', 'too', 'much', 'to', 'think', '<EOS>']\n",
      "---- 12 -----\n",
      "data: ['<SOS>', 'i', 'need', 'time', 'to', 'think', 'about', 'all', 'of', 'this', '<EOS>', '7', '3', '-1']\n",
      "trg: ['<SOS>', 'of', 'all', 'about', 'think', '<EOS>']\n",
      "---- 13 -----\n",
      "data: ['<SOS>', 'tom', 'might', \"'ve\", 'been', 'there', '<EOS>', '2', '1', '-1']\n",
      "trg: ['<SOS>', \"'ve\", '<EOS>']\n",
      "---- 14 -----\n",
      "data: ['<SOS>', 'let', 'me', 'say', 'that', 'again', '<EOS>', '0', '2', '2']\n",
      "trg: ['<SOS>', 'let', '<EOS>']\n",
      "---- 15 -----\n",
      "data: ['<SOS>', 'how', 'did', 'you', 'know', 'tom', 'would', 'help', '<EOS>', '5', '0', '-1']\n",
      "trg: ['<SOS>', 'would', 'tom', 'know', 'you', 'did', '<EOS>']\n",
      "---- 16 -----\n",
      "data: ['<SOS>', 'you', 'do', \"n't\", 'have', 'to', 'eat', 'this', 'if', 'you', 'do', \"n't\", 'want', 'to', '<EOS>', '6', '13', '2']\n",
      "trg: ['<SOS>', 'this', 'you', \"n't\", 'to', '<EOS>']\n",
      "---- 17 -----\n",
      "data: ['<SOS>', 'i', 'think', 'we', 'can', 'do', 'that', 'tomorrow', '<EOS>', '3', '-1', '-2']\n",
      "trg: ['<SOS>', 'can', 'think', '<EOS>']\n",
      "---- 18 -----\n",
      "data: ['<SOS>', 'we', \"'re\", 'not', 'really', 'going', 'to', 'do', 'this', ',', 'are', 'we', '<EOS>', '5', '-1', '-2']\n",
      "trg: ['<SOS>', 'to', 'really', \"'re\", '<EOS>']\n",
      "---- 19 -----\n",
      "data: ['<SOS>', 'we', 'ca', \"n't\", 'see', 'it', '<EOS>', '0', '3', '2']\n",
      "trg: ['<SOS>', 'we', \"n't\", '<EOS>']\n",
      "---- 20 -----\n",
      "data: ['<SOS>', 'i', 'speak', 'french', 'at', 'home', '<EOS>', '3', '5', '2']\n",
      "trg: ['<SOS>', 'at', '<EOS>']\n",
      "---- 21 -----\n",
      "data: ['<SOS>', 'tom', 'has', \"n't\", 'said', 'anything', 'to', 'me', '<EOS>', '3', '2', '-2']\n",
      "trg: ['<SOS>', 'said', '<EOS>']\n",
      "---- 22 -----\n",
      "data: ['<SOS>', 'why', 'is', \"n't\", 'tom', 'going', 'to', 'boston', '<EOS>', '3', '4', '1']\n",
      "trg: ['<SOS>', 'tom', '<EOS>']\n",
      "---- 23 -----\n",
      "data: ['<SOS>', 'tom', 'will', 'never', 'back', 'down', '<EOS>', '4', '3', '-2']\n",
      "trg: ['<SOS>', 'down', '<EOS>']\n",
      "---- 24 -----\n",
      "data: ['<SOS>', 'i', 'do', \"n't\", 'think', 'so', '<EOS>', '1', '-1', '-2']\n",
      "trg: ['<SOS>', 'do', '<EOS>']\n",
      "---- 25 -----\n",
      "data: ['<SOS>', 'tom', 'did', \"n't\", 'have', 'to', 'go', 'back', 'to', 'boston', '<EOS>', '3', '6', '2']\n",
      "trg: ['<SOS>', 'have', 'go', '<EOS>']\n",
      "---- 26 -----\n",
      "data: ['<SOS>', 'i', 'would', \"n't\", 'think', 'of', 'doing', 'that', '<EOS>', '1', '0', '-1']\n",
      "trg: ['<SOS>', 'would', '<EOS>']\n",
      "---- 27 -----\n",
      "data: ['<SOS>', 'i', \"'ve\", 'always', 'wanted', 'to', 'do', 'that', '<EOS>', '3', '1', '-2']\n",
      "trg: ['<SOS>', 'wanted', '<EOS>']\n",
      "---- 28 -----\n",
      "data: ['<SOS>', 'i', 'thought', 'tom', 'would', \"n't\", 'like', 'me', '<EOS>', '0', '5', '2']\n",
      "trg: ['<SOS>', 'i', 'tom', \"n't\", '<EOS>']\n",
      "---- 29 -----\n",
      "data: ['<SOS>', 'why', 'do', \"n't\", 'you', 'do', 'that', 'now', '<EOS>', '6', '0', '-1']\n",
      "trg: ['<SOS>', 'now', 'that', 'do', 'you', \"n't\", 'do', '<EOS>']\n",
      "---- 30 -----\n",
      "data: ['<SOS>', 'tom', 'said', 'you', 'were', 'here', '<EOS>', '4', '3', '-2']\n",
      "trg: ['<SOS>', 'here', '<EOS>']\n",
      "---- 31 -----\n",
      "data: ['<SOS>', 'i', 'must', 'be', 'going', 'now', '<EOS>', '1', '3', '1']\n",
      "trg: ['<SOS>', 'must', 'be', '<EOS>']\n",
      "---- 32 -----\n",
      "data: ['<SOS>', 'what', 'would', 'you', 'do', 'if', 'you', 'were', 'here', 'now', '<EOS>', '1', '5', '2']\n",
      "trg: ['<SOS>', 'would', 'do', '<EOS>']\n",
      "---- 33 -----\n",
      "data: ['<SOS>', 'i', \"'m\", 'not', 'sure', 'when', 'i', \"'ll\", 'get', 'home', '<EOS>', '2', '8', '1']\n",
      "trg: ['<SOS>', 'not', 'sure', 'when', 'i', \"'ll\", 'get', '<EOS>']\n",
      "---- 34 -----\n",
      "data: ['<SOS>', 'i', 'thought', 'we', 'had', 'something', 'to', 'give', 'to', 'tom', '<EOS>', '7', '-1', '-2']\n",
      "trg: ['<SOS>', 'to', 'to', 'had', 'thought', '<EOS>']\n",
      "---- 35 -----\n",
      "data: ['<SOS>', 'i', 'need', 'you', 'here', 'tomorrow', '<EOS>', '3', '2', '-1']\n",
      "trg: ['<SOS>', 'here', '<EOS>']\n",
      "---- 36 -----\n",
      "data: ['<SOS>', 'let', \"'s\", 'go', 'tell', 'tom', '<EOS>', '2', '4', '2']\n",
      "trg: ['<SOS>', 'go', '<EOS>']\n",
      "---- 37 -----\n",
      "data: ['<SOS>', 'why', 'ca', \"n't\", 'you', 'stay', '<EOS>', '2', '-1', '-2']\n",
      "trg: ['<SOS>', \"n't\", 'why', '<EOS>']\n",
      "---- 38 -----\n",
      "data: ['<SOS>', 'did', 'tom', 'really', 'say', 'that', '<EOS>', '2', '-1', '-1']\n",
      "trg: ['<SOS>', 'really', 'tom', 'did', '<EOS>']\n",
      "---- 39 -----\n",
      "data: ['<SOS>', 'we', 'all', 'want', 'you', 'back', '<EOS>', '3', '2', '-2']\n",
      "trg: ['<SOS>', 'you', '<EOS>']\n",
      "---- 40 -----\n",
      "data: ['<SOS>', 'i', 'knew', 'you', 'would', 'come', '<EOS>', '1', '2', '2']\n",
      "trg: ['<SOS>', 'knew', '<EOS>']\n",
      "---- 41 -----\n",
      "data: ['<SOS>', 'i', 'do', \"n't\", 'think', 'i', \"'ll\", 'be', 'doing', 'that', 'with', 'tom', '<EOS>', '4', '9', '1']\n",
      "trg: ['<SOS>', 'i', \"'ll\", 'be', 'doing', 'that', '<EOS>']\n",
      "---- 42 -----\n",
      "data: ['<SOS>', 'are', 'you', 'sure', 'you', 'ca', \"n't\", 'stay', '<EOS>', '5', '7', '2']\n",
      "trg: ['<SOS>', \"n't\", '<EOS>']\n",
      "---- 43 -----\n",
      "data: ['<SOS>', 'you', \"'re\", 'going', 'to', 'have', 'to', 'come', 'with', 'us', ',', 'tom', '<EOS>', '10', '-1', '-2']\n",
      "trg: ['<SOS>', 'tom', 'us', 'come', 'have', 'going', 'you', '<EOS>']\n",
      "---- 44 -----\n",
      "data: ['<SOS>', 'she', 'did', \"n't\", 'want', 'him', 'to', 'leave', 'the', 'room', '<EOS>', '8', '-1', '-2']\n",
      "trg: ['<SOS>', 'room', 'leave', 'him', \"n't\", 'she', '<EOS>']\n",
      "---- 45 -----\n",
      "data: ['<SOS>', 'how', 'did', 'tom', 'ever', 'get', 'mary', 'to', 'go', 'out', 'with', 'him', '<EOS>', '8', '9', '2']\n",
      "trg: ['<SOS>', 'out', '<EOS>']\n",
      "---- 46 -----\n",
      "data: ['<SOS>', 'we', \"'ll\", 'stay', 'with', 'tom', '<EOS>', '2', '1', '-2']\n",
      "trg: ['<SOS>', 'stay', '<EOS>']\n",
      "---- 47 -----\n",
      "data: ['<SOS>', 'he', 'will', 'be', 'back', 'tomorrow', '<EOS>', '4', '-1', '-1']\n",
      "trg: ['<SOS>', 'tomorrow', 'back', 'be', 'will', 'he', '<EOS>']\n",
      "---- 48 -----\n",
      "data: ['<SOS>', 'tom', 'did', \"n't\", 'do', 'what', 'he', 'had', 'to', 'do', '<EOS>', '4', '7', '2']\n",
      "trg: ['<SOS>', 'what', 'had', '<EOS>']\n",
      "---- 49 -----\n",
      "data: ['<SOS>', 'i', 'might', 'need', 'some', 'help', '<EOS>', '2', '4', '2']\n",
      "trg: ['<SOS>', 'need', '<EOS>']\n",
      "---- 50 -----\n",
      "data: ['<SOS>', 'you', 'need', 'to', 'eat', 'something', '<EOS>', '0', '1', '2']\n",
      "trg: ['<SOS>', 'you', '<EOS>']\n",
      "---- 51 -----\n",
      "data: ['<SOS>', 'there', \"'s\", 'no', 'way', 'i', \"'m\", 'going', 'in', 'there', '<EOS>', '5', '0', '-1']\n",
      "trg: ['<SOS>', \"'m\", 'i', 'way', 'no', \"'s\", '<EOS>']\n",
      "---- 52 -----\n",
      "data: ['<SOS>', 'i', 'can', 'always', 'go', 'back', 'to', 'school', '<EOS>', '5', '7', '1']\n",
      "trg: ['<SOS>', 'to', 'school', '<EOS>']\n",
      "---- 53 -----\n",
      "data: ['<SOS>', 'what', 'do', 'we', 'want', 'here', '<EOS>', '1', '3', '1']\n",
      "trg: ['<SOS>', 'do', 'we', '<EOS>']\n",
      "---- 54 -----\n",
      "data: ['<SOS>', 'we', 'just', 'have', 'to', 'go', 'do', 'that', '<EOS>', '6', '7', '1']\n",
      "trg: ['<SOS>', 'that', '<EOS>']\n",
      "---- 55 -----\n",
      "data: ['<SOS>', 'tom', 'went', 'out', 'with', 'mary', '<EOS>', '4', '-1', '-1']\n",
      "trg: ['<SOS>', 'mary', 'with', 'out', 'went', 'tom', '<EOS>']\n",
      "---- 56 -----\n",
      "data: ['<SOS>', 'do', \"n't\", 'let', 'tom', 'know', 'what', 'you', \"'re\", 'doing', '<EOS>', '0', '4', '2']\n",
      "trg: ['<SOS>', 'do', 'let', '<EOS>']\n",
      "---- 57 -----\n",
      "data: ['<SOS>', 'let', 'me', 'help', 'you', 'find', 'a', 'job', '<EOS>', '0', '1', '1']\n",
      "trg: ['<SOS>', 'let', '<EOS>']\n",
      "---- 58 -----\n",
      "data: ['<SOS>', 'you', 'can', 'tell', 'tom', 'really', 'does', \"n't\", 'want', 'to', 'be', 'here', '<EOS>', '10', '11', '1']\n",
      "trg: ['<SOS>', 'here', '<EOS>']\n",
      "---- 59 -----\n",
      "data: ['<SOS>', 'you', \"'re\", 'used', 'to', 'that', ',', 'are', \"n't\", 'you', '<EOS>', '5', '7', '2']\n",
      "trg: ['<SOS>', ',', '<EOS>']\n",
      "---- 60 -----\n",
      "data: ['<SOS>', 'tom', 'said', 'that', 'mary', 'would', 'do', 'that', '<EOS>', '0', '-1', '-2']\n",
      "trg: ['<SOS>', 'tom', '<EOS>']\n",
      "---- 61 -----\n",
      "data: ['<SOS>', 'tom', 'wanted', 'to', 'go', 'home', '<EOS>', '4', '-1', '-1']\n",
      "trg: ['<SOS>', 'home', 'go', 'to', 'wanted', 'tom', '<EOS>']\n",
      "---- 62 -----\n",
      "data: ['<SOS>', 'i', 'want', 'to', 'know', 'when', 'you', \"'ll\", 'be', 'back', '<EOS>', '7', '5', '-2']\n",
      "trg: ['<SOS>', 'be', '<EOS>']\n",
      "---- 63 -----\n",
      "data: ['<SOS>', 'i', 'do', \"n't\", 'know', 'why', 'i', 'have', 'to', 'go', '<EOS>', '4', '2', '-1']\n",
      "trg: ['<SOS>', 'why', 'know', '<EOS>']\n",
      "---- 64 -----\n",
      "data: ['<SOS>', 'do', 'you', 'want', 'tom', 'there', '<EOS>', '3', '5', '2']\n",
      "trg: ['<SOS>', 'tom', '<EOS>']\n",
      "---- 65 -----\n",
      "data: ['<SOS>', 'tom', 'said', 'mary', 'thought', 'he', 'should', 'do', 'that', 'tomorrow', '<EOS>', '4', '5', '1']\n",
      "trg: ['<SOS>', 'he', '<EOS>']\n",
      "---- 66 -----\n",
      "data: ['<SOS>', 'is', 'that', 'all', 'you', 'have', 'to', 'say', 'to', 'me', '<EOS>', '7', '4', '-1']\n",
      "trg: ['<SOS>', 'to', 'say', 'to', '<EOS>']\n",
      "---- 67 -----\n",
      "data: ['<SOS>', 'he', 'has', 'something', 'to', 'do', 'with', 'it', '<EOS>', '6', '4', '-1']\n",
      "trg: ['<SOS>', 'it', 'with', '<EOS>']\n",
      "---- 68 -----\n",
      "data: ['<SOS>', 'i', 'should', \"'ve\", 'said', 'no', '<EOS>', '2', '3', '1']\n",
      "trg: ['<SOS>', \"'ve\", '<EOS>']\n",
      "---- 69 -----\n",
      "data: ['<SOS>', 'tom', 'and', 'mary', 'leave', 'tomorrow', '<EOS>', '0', '4', '1']\n",
      "trg: ['<SOS>', 'tom', 'and', 'mary', 'leave', '<EOS>']\n",
      "---- 70 -----\n",
      "data: ['<SOS>', 'i', 'did', 'that', 'just', 'like', 'tom', 'did', '<EOS>', '0', '6', '2']\n",
      "trg: ['<SOS>', 'i', 'that', 'like', '<EOS>']\n",
      "---- 71 -----\n",
      "data: ['<SOS>', 'that', \"'s\", 'something', 'tom', 'used', 'to', 'do', '<EOS>', '5', '7', '1']\n",
      "trg: ['<SOS>', 'to', 'do', '<EOS>']\n",
      "---- 72 -----\n",
      "data: ['<SOS>', 'tom', 'said', 'mary', 'would', 'do', 'that', 'tomorrow', '<EOS>', '4', '-1', '-1']\n",
      "trg: ['<SOS>', 'do', 'would', 'mary', 'said', 'tom', '<EOS>']\n",
      "---- 73 -----\n",
      "data: ['<SOS>', 'tom', 'did', \"n't\", 'say', 'much', 'about', 'that', '<EOS>', '1', '4', '1']\n",
      "trg: ['<SOS>', 'did', \"n't\", 'say', '<EOS>']\n",
      "---- 74 -----\n",
      "data: ['<SOS>', 'tom', 'said', 'he', 'knew', 'you', '<EOS>', '3', '4', '1']\n",
      "trg: ['<SOS>', 'knew', '<EOS>']\n",
      "---- 75 -----\n",
      "data: ['<SOS>', 'i', 'think', 'i', 'could', 'still', 'do', 'it', '<EOS>', '2', '6', '1']\n",
      "trg: ['<SOS>', 'i', 'could', 'still', 'do', '<EOS>']\n",
      "---- 76 -----\n",
      "data: ['<SOS>', 'do', 'you', 'think', 'tom', 'might', 'want', 'this', '<EOS>', '3', '6', '2']\n",
      "trg: ['<SOS>', 'tom', 'want', '<EOS>']\n",
      "---- 77 -----\n",
      "data: ['<SOS>', 'i', \"'m\", 'not', 'sure', 'how', 'it', 'happened', '<EOS>', '5', '4', '-2']\n",
      "trg: ['<SOS>', 'it', '<EOS>']\n",
      "---- 78 -----\n",
      "data: ['<SOS>', 'i', 'think', 'we', 'could', \"'ve\", 'done', 'more', '<EOS>', '2', '1', '-1']\n",
      "trg: ['<SOS>', 'we', '<EOS>']\n",
      "---- 79 -----\n",
      "data: ['<SOS>', 'are', 'you', 'back', 'home', 'now', '<EOS>', '1', '3', '1']\n",
      "trg: ['<SOS>', 'you', 'back', '<EOS>']\n",
      "---- 80 -----\n",
      "data: ['<SOS>', 'tom', 'would', 'like', 'to', 'talk', 'with', 'you', '<EOS>', '3', '-1', '-2']\n",
      "trg: ['<SOS>', 'to', 'would', '<EOS>']\n",
      "---- 81 -----\n",
      "data: ['<SOS>', 'i', 'want', 'to', 'know', 'about', 'tom', \"'s\", 'new', 'job', '<EOS>', '3', '1', '-1']\n",
      "trg: ['<SOS>', 'know', 'to', '<EOS>']\n",
      "---- 82 -----\n",
      "data: ['<SOS>', 'what', 'time', 'do', 'we', 'get', 'to', 'boston', '<EOS>', '5', '0', '-2']\n",
      "trg: ['<SOS>', 'to', 'we', 'time', '<EOS>']\n",
      "---- 83 -----\n",
      "data: ['<SOS>', 'i', 'do', \"n't\", 'think', 'i', 'should', 'go', 'out', 'on', 'a', 'day', 'like', 'this', '<EOS>', '9', '13', '2']\n",
      "trg: ['<SOS>', 'a', 'like', '<EOS>']\n",
      "---- 84 -----\n",
      "data: ['<SOS>', 'we', \"'re\", 'always', 'doing', 'something', '<EOS>', '2', '3', '1']\n",
      "trg: ['<SOS>', 'always', '<EOS>']\n",
      "---- 85 -----\n",
      "data: ['<SOS>', 'i', \"'m\", 'not', 'very', 'good', '<EOS>', '0', '-1', '-2']\n",
      "trg: ['<SOS>', 'i', '<EOS>']\n",
      "---- 86 -----\n",
      "data: ['<SOS>', 'how', 'do', 'you', 'think', 'tom', 'did', 'that', '<EOS>', '6', '-1', '-2']\n",
      "trg: ['<SOS>', 'that', 'tom', 'you', 'how', '<EOS>']\n",
      "---- 87 -----\n",
      "data: ['<SOS>', 'can', 'we', 'come', '<EOS>', '2', '-1', '-1']\n",
      "trg: ['<SOS>', 'come', 'we', 'can', '<EOS>']\n",
      "---- 88 -----\n",
      "data: ['<SOS>', 'i', \"'ll\", 'see', 'you', 'there', '<EOS>', '3', '0', '-1']\n",
      "trg: ['<SOS>', 'you', 'see', \"'ll\", '<EOS>']\n",
      "---- 89 -----\n",
      "data: ['<SOS>', 'we', 'would', 'never', 'do', 'that', '<EOS>', '3', '4', '1']\n",
      "trg: ['<SOS>', 'do', '<EOS>']\n",
      "---- 90 -----\n",
      "data: ['<SOS>', 'tom', 'should', \"n't\", 'do', 'it', 'that', 'way', '<EOS>', '3', '2', '-2']\n",
      "trg: ['<SOS>', 'do', '<EOS>']\n",
      "---- 91 -----\n",
      "data: ['<SOS>', 'tom', 'said', 'it', 'was', 'time', 'to', 'eat', '<EOS>', '0', '4', '2']\n",
      "trg: ['<SOS>', 'tom', 'it', '<EOS>']\n",
      "---- 92 -----\n",
      "data: ['<SOS>', 'i', 'think', 'tom', 'had', 'something', 'to', 'do', 'with', 'this', '<EOS>', '6', '7', '1']\n",
      "trg: ['<SOS>', 'do', '<EOS>']\n",
      "---- 93 -----\n",
      "data: ['<SOS>', 'if', 'you', 'do', \"n't\", 'want', 'to', 'say', 'anything', ',', 'you', 'do', \"n't\", 'have', 'to', '<EOS>', '5', '1', '-1']\n",
      "trg: ['<SOS>', 'to', 'want', \"n't\", 'do', '<EOS>']\n",
      "---- 94 -----\n",
      "data: ['<SOS>', 'you', \"'re\", 'not', 'always', 'right', '<EOS>', '0', '1', '1']\n",
      "trg: ['<SOS>', 'you', '<EOS>']\n",
      "---- 95 -----\n",
      "data: ['<SOS>', 'that', \"'s\", 'all', 'there', 'was', '<EOS>', '3', '5', '2']\n",
      "trg: ['<SOS>', 'there', '<EOS>']\n",
      "---- 96 -----\n",
      "data: ['<SOS>', 'this', 'is', 'good', 'for', 'us', '<EOS>', '2', '-1', '-1']\n",
      "trg: ['<SOS>', 'good', 'is', 'this', '<EOS>']\n",
      "---- 97 -----\n",
      "data: ['<SOS>', 'i', 'know', 'what', 'tom', 'wants', 'to', 'do', '<EOS>', '0', '4', '1']\n",
      "trg: ['<SOS>', 'i', 'know', 'what', 'tom', '<EOS>']\n",
      "---- 98 -----\n",
      "data: ['<SOS>', 'you', 'could', 'well', 'be', 'right', '<EOS>', '2', '-1', '-2']\n",
      "trg: ['<SOS>', 'well', 'you', '<EOS>']\n",
      "---- 99 -----\n",
      "data: ['<SOS>', 'i', 'see', 'no', 'need', 'to', 'tell', 'you', '<EOS>', '3', '4', '1']\n",
      "trg: ['<SOS>', 'need', '<EOS>']\n",
      "---- 100 -----\n",
      "data: ['<SOS>', 'we', \"'ve\", 'got', 'to', 'get', 'over', 'there', '<EOS>', '6', '-1', '-1']\n",
      "trg: ['<SOS>', 'there', 'over', 'get', 'to', 'got', \"'ve\", 'we', '<EOS>']\n",
      "---- 101 -----\n",
      "data: ['<SOS>', 'tom', 'would', 'never', 'let', 'mary', 'do', 'that', '<EOS>', '3', '2', '-2']\n",
      "trg: ['<SOS>', 'let', '<EOS>']\n"
     ]
    }
   ],
   "source": [
    "dataset=train_set\n",
    "for i in range(len(dataset.src_indices_seq)):\n",
    "    print('----',i,'-----')\n",
    "    print('data:',dataset.vocab.indices_to_sequence(dataset.src_indices_seq[i].numpy(),print_signal=True))\n",
    "    print('trg:',dataset.vocab.indices_to_sequence(dataset.trg_indices_seq[i].numpy(),print_signal=True))\n",
    "    if i>100:\n",
    "        break"
   ]
  },
  {
   "cell_type": "code",
   "execution_count": 6,
   "metadata": {
    "colab": {},
    "colab_type": "code",
    "id": "SKE9EQD1GVZd"
   },
   "outputs": [
    {
     "data": {
      "text/plain": [
       "<torch._C.Generator at 0x7f671e1b3fd0>"
      ]
     },
     "execution_count": 6,
     "metadata": {},
     "output_type": "execute_result"
    }
   ],
   "source": [
    "SEED = 1234\n",
    "\n",
    "random.seed(SEED)\n",
    "torch.manual_seed(SEED)\n",
    "# torch.backends.cudnn.deterministic = True"
   ]
  },
  {
   "cell_type": "code",
   "execution_count": 6,
   "metadata": {
    "colab": {},
    "colab_type": "code",
    "id": "Ts8gDQj_G0WR"
   },
   "outputs": [],
   "source": [
    "device = torch.device('cuda:1')"
   ]
  },
  {
   "cell_type": "code",
   "execution_count": 7,
   "metadata": {
    "colab": {},
    "colab_type": "code",
    "id": "yqD0fuycHB58"
   },
   "outputs": [],
   "source": [
    "class Encoder(nn.Module):\n",
    "    def __init__(self, input_dim, emb_dim, hid_dim, n_layers, dropout):\n",
    "        super().__init__()\n",
    "        \n",
    "        self.hid_dim = hid_dim\n",
    "        self.n_layers = n_layers\n",
    "        \n",
    "        self.embedding = nn.Embedding(input_dim, emb_dim)\n",
    "        \n",
    "        # self.rnn = nn.LSTM(emb_dim, hid_dim, n_layers, dropout = dropout)\n",
    "        self.gru = nn.GRU(emb_dim, hid_dim, n_layers,batch_first=True)\n",
    "        self.dropout = nn.Dropout(dropout)\n",
    "        self.layerN = nn.LayerNorm(emb_dim)\n",
    "        \n",
    "    def forward(self, src):\n",
    "        \n",
    "        #src = [src sent len, batch size]\n",
    "        \n",
    "        embedded = self.dropout(self.layerN((self.embedding(src))))\n",
    "#         embedded = self.dropout(src)\n",
    "        \n",
    "        #embedded = [src sent len, batch size, emb dim]\n",
    "        \n",
    "        # outputs, (hidden, cell) = self.rnn(embedded)\n",
    "        outputs, hidden = self.gru(embedded)\n",
    "        \n",
    "        #outputs = [src sent len, batch size, hid dim * n directions]\n",
    "        #hidden = [n layers * n directions, batch size, hid dim]\n",
    "        #cell = [n layers * n directions, batch size, hid dim]\n",
    "        \n",
    "        #outputs are always from the top hidden layer\n",
    "        \n",
    "        return hidden"
   ]
  },
  {
   "cell_type": "code",
   "execution_count": 8,
   "metadata": {},
   "outputs": [],
   "source": [
    "class Decoder(nn.Module):\n",
    "    def __init__(self, output_dim, emb_dim, hid_dim, n_layers, dropout):\n",
    "        super().__init__()\n",
    "        \n",
    "        self.output_dim = output_dim\n",
    "        self.hid_dim = hid_dim\n",
    "        self.n_layers = n_layers\n",
    "        \n",
    "        self.embedding = nn.Embedding(output_dim, emb_dim)\n",
    "        \n",
    "        # self.rnn = nn.LSTM(emb_dim, hid_dim, n_layers, dropout = dropout)\n",
    "        self.gru = nn.GRU(emb_dim, hid_dim, n_layers,batch_first=True)\n",
    "        \n",
    "        self.out = nn.Linear(hid_dim, output_dim)\n",
    "        \n",
    "        self.layerN_emb = nn.LayerNorm(emb_dim)\n",
    "        self.layerN = nn.LayerNorm(hid_dim)\n",
    "        self.dropout = nn.Dropout(dropout)\n",
    "        self.dp_dense = nn.Dropout(0.1)\n",
    "        \n",
    "    def forward(self, input, hidden):\n",
    "        \n",
    "        #input = [batch size]\n",
    "        #hidden = [n layers * n directions, batch size, hid dim]\n",
    "        #cell = [n layers * n directions, batch size, hid dim]\n",
    "        \n",
    "        #n directions in the decoder will both always be 1, therefore:\n",
    "        #hidden = [n layers, batch size, hid dim]\n",
    "        #context = [n layers, batch size, hid dim]\n",
    "        \n",
    "        input = input.unsqueeze(1)\n",
    "        \n",
    "#         #input = [1, batch size]\n",
    "        \n",
    "        embedded = self.dropout(self.layerN_emb(self.embedding(input)))\n",
    "#         embedded = self.dropout(input)\n",
    "        \n",
    "        #embedded = [1, batch size, emb dim]\n",
    "                \n",
    "        # output, (hidden, cell) = self.rnn(embedded, (hidden, cell))\n",
    "        output, hidden = self.gru(embedded,hidden)\n",
    "        \n",
    "        #output = [sent len, batch size, hid dim * n directions]\n",
    "        #hidden = [n layers * n directions, batch size, hid dim]\n",
    "        #cell = [n layers * n directions, batch size, hid dim]\n",
    "        \n",
    "        #sent len and n directions will always be 1 in the decoder, therefore:\n",
    "        #output = [1, batch size, hid dim]\n",
    "        #hidden = [n layers, batch size, hid dim]\n",
    "        #cell = [n layers, batch size, hid dim]\n",
    "        prediction = self.layerN(output.squeeze(1))\n",
    "        prediction = self.out(self.dp_dense(prediction))\n",
    "        \n",
    "        #prediction = [batch size, output dim]\n",
    "        \n",
    "        return prediction, hidden\n",
    "class Seq2Seq(nn.Module):\n",
    "    def __init__(self, encoder, decoder, device):\n",
    "        super().__init__()\n",
    "#         self.embedding = nn.Embedding(output_dim, emb_dim)\n",
    "        self.encoder = encoder\n",
    "        self.decoder = decoder\n",
    "        self.device = device\n",
    "        \n",
    "        assert encoder.hid_dim == decoder.hid_dim, \\\n",
    "            \"Hidden dimensions of encoder and decoder must be equal!\"\n",
    "        assert encoder.n_layers == decoder.n_layers, \\\n",
    "            \"Encoder and decoder must have equal number of layers!\"\n",
    "        \n",
    "    def forward(self, src, trg, teacher_forcing_ratio = 0.5):\n",
    "        \n",
    "        #src = [src sent len, batch size]\n",
    "        #trg = [trg sent len, batch size]\n",
    "        #teacher_forcing_ratio is probability to use teacher forcing\n",
    "        #e.g. if teacher_forcing_ratio is 0.75 we use ground-truth inputs 75% of the time\n",
    "        \n",
    "        batch_size = trg.shape[0]\n",
    "        max_len = trg.shape[1]\n",
    "        trg_vocab_size = self.decoder.output_dim\n",
    "        \n",
    "        #tensor to store decoder outputs\n",
    "#         outputs = torch.zeros(max_len, batch_size, trg_vocab_size).to(self.device)\n",
    "        outputs = torch.zeros(batch_size, max_len, trg_vocab_size).to(self.device)\n",
    "        outputs_idx = torch.zeros(batch_size, max_len-1)\n",
    "\n",
    "        #last hidden state of the encoder is used as the initial hidden state of the decoder\n",
    "        hidden = self.encoder(src)\n",
    "#         embedded = self.embedding(src)\n",
    "#         hidden = self.encoder(embedded)\n",
    "        \n",
    "        #first input to the decoder is the <sos> tokens\n",
    "        input = trg[:,0]\n",
    "        \n",
    "        for t in range(1, max_len):\n",
    "            \n",
    "            #insert input token embedding, previous hidden and previous cell states\n",
    "            #receive output tensor (predictions) and new hidden and cell states\n",
    "            output, hidden= self.decoder(input, hidden)\n",
    "#             input = input.unsqueeze(1)\n",
    "#             embedded = self.embedding(input)\n",
    "#             output, hidden= self.decoder(embedded, hidden)\n",
    "            \n",
    "            #place predictions in a tensor holding predictions for each token\n",
    "            outputs[:,t,:] = output\n",
    "            \n",
    "            #decide if we are going to use teacher forcing or not\n",
    "            teacher_force = random.random() < teacher_forcing_ratio\n",
    "            \n",
    "            #get the highest predicted token from our predictions\n",
    "            top1 = output.argmax(1)\n",
    "            outputs_idx[:,t-1] = top1\n",
    "            \n",
    "            #if teacher forcing, use actual next token as next input\n",
    "            #if not, use predicted token\n",
    "            input = trg[:,t] if teacher_force else top1\n",
    "        \n",
    "        return outputs,outputs_idx"
   ]
  },
  {
   "cell_type": "code",
   "execution_count": 82,
   "metadata": {
    "colab": {},
    "colab_type": "code",
    "id": "guiNdiVZJ4ia"
   },
   "outputs": [],
   "source": [
    "INPUT_DIM = train_set.vocab_size\n",
    "OUTPUT_DIM = train_set.vocab_size\n",
    "ENC_EMB_DIM = 64\n",
    "DEC_EMB_DIM = 64\n",
    "HID_DIM = 256\n",
    "N_LAYERS = 1\n",
    "ENC_DROPOUT = 0.1\n",
    "DEC_DROPOUT = 0.1\n",
    "\n",
    "enc = Encoder(INPUT_DIM, ENC_EMB_DIM, HID_DIM, N_LAYERS, ENC_DROPOUT)\n",
    "dec = Decoder(OUTPUT_DIM, DEC_EMB_DIM, HID_DIM, N_LAYERS, DEC_DROPOUT)\n",
    "model = Seq2Seq(enc, dec, device).to(device)\n",
    "\n",
    "# model = torch.load(open('./output_final/dataset2/model_8458.pkl','rb'))\n",
    "# model = model.to(device)"
   ]
  },
  {
   "cell_type": "code",
   "execution_count": 83,
   "metadata": {
    "colab": {
     "base_uri": "https://localhost:8080/",
     "height": 238
    },
    "colab_type": "code",
    "id": "h4-SE_JSKqfv",
    "outputId": "07663fc1-75a3-4945-f80f-59a6fb6a1d5a"
   },
   "outputs": [
    {
     "data": {
      "text/plain": [
       "Seq2Seq(\n",
       "  (encoder): Encoder(\n",
       "    (embedding): Embedding(198, 64)\n",
       "    (gru): GRU(64, 256, batch_first=True)\n",
       "    (dropout): Dropout(p=0.1, inplace=False)\n",
       "    (layerN): LayerNorm((64,), eps=1e-05, elementwise_affine=True)\n",
       "  )\n",
       "  (decoder): Decoder(\n",
       "    (embedding): Embedding(198, 64)\n",
       "    (gru): GRU(64, 256, batch_first=True)\n",
       "    (out): Linear(in_features=256, out_features=198, bias=True)\n",
       "    (layerN_emb): LayerNorm((64,), eps=1e-05, elementwise_affine=True)\n",
       "    (layerN): LayerNorm((256,), eps=1e-05, elementwise_affine=True)\n",
       "    (dropout): Dropout(p=0.1, inplace=False)\n",
       "    (dp_dense): Dropout(p=0.1, inplace=False)\n",
       "  )\n",
       ")"
      ]
     },
     "execution_count": 83,
     "metadata": {},
     "output_type": "execute_result"
    }
   ],
   "source": [
    "def init_weights(m):\n",
    "    for name, param in m.named_parameters():\n",
    "        nn.init.uniform_(param.data, -0.08, 0.08)\n",
    "        \n",
    "model.apply(init_weights)"
   ]
  },
  {
   "cell_type": "code",
   "execution_count": 84,
   "metadata": {
    "colab": {
     "base_uri": "https://localhost:8080/",
     "height": 34
    },
    "colab_type": "code",
    "id": "4zSS9lLcKuM_",
    "outputId": "5f644f9d-6108-41e7-dee5-3c518e73897d"
   },
   "outputs": [
    {
     "name": "stdout",
     "output_type": "stream",
     "text": [
      "The model has 571,590 trainable parameters\n"
     ]
    }
   ],
   "source": [
    "def count_parameters(model):\n",
    "    return sum(p.numel() for p in model.parameters() if p.requires_grad)\n",
    "\n",
    "print(f'The model has {count_parameters(model):,} trainable parameters')"
   ]
  },
  {
   "cell_type": "code",
   "execution_count": 85,
   "metadata": {
    "colab": {},
    "colab_type": "code",
    "id": "JYTHv4rWKwi2"
   },
   "outputs": [],
   "source": [
    "optimizer = optim.Adam(model.parameters())"
   ]
  },
  {
   "cell_type": "code",
   "execution_count": 9,
   "metadata": {
    "colab": {},
    "colab_type": "code",
    "id": "ql0jyibYK0ih"
   },
   "outputs": [],
   "source": [
    "criterion = nn.CrossEntropyLoss(ignore_index = train_set.PAD_ID)"
   ]
  },
  {
   "cell_type": "code",
   "execution_count": 10,
   "metadata": {
    "colab": {},
    "colab_type": "code",
    "id": "mcEuKqL5LCXL"
   },
   "outputs": [],
   "source": [
    "from tqdm import tqdm, trange\n",
    "def train(model, optimizer, criterion, clip):\n",
    "    model.train()\n",
    "    \n",
    "    epoch_loss = 0\n",
    "    batch_size = 128 #128\n",
    "    data_loader = DataLoader(train_set, batch_size=batch_size, shuffle=True)\n",
    "    trange = tqdm(enumerate(data_loader), total=len(data_loader),desc='Train')\n",
    "    for step,batch in trange:\n",
    "        # print(step)\n",
    "        src = batch[0]\n",
    "        trg = batch[1]\n",
    "        src = src.to(device)\n",
    "        trg = trg.to(device)       \n",
    "        optimizer.zero_grad()\n",
    "        # print(trg.size())\n",
    "        output,output_idx = model(src, trg,teacher_forcing_ratio=0.5)\n",
    "        \n",
    "        #trg = [trg sent len, batch size]\n",
    "        #output = [trg sent len, batch size, output dim]\n",
    "        \n",
    "        output = output[:,1:].reshape(-1, output.shape[-1])\n",
    "        trg = trg[:,1:].reshape(-1)\n",
    "        \n",
    "        #trg = [(trg sent len - 1) * batch size]\n",
    "        #output = [(trg sent len - 1) * batch size, output dim]\n",
    "        \n",
    "        loss = criterion(output, trg)\n",
    "        \n",
    "        loss.backward()\n",
    "        \n",
    "        torch.nn.utils.clip_grad_norm_(model.parameters(), clip)\n",
    "        \n",
    "        optimizer.step()\n",
    "        \n",
    "        epoch_loss += loss.item()\n",
    "    return epoch_loss / len(data_loader)\n",
    "\n"
   ]
  },
  {
   "cell_type": "code",
   "execution_count": 11,
   "metadata": {
    "colab": {},
    "colab_type": "code",
    "id": "WEnMgjnlOATV"
   },
   "outputs": [],
   "source": [
    "def decode_string(output,dataset):\n",
    "    results = []\n",
    "    trg = []\n",
    "    correct = 0\n",
    "    for i,seq in enumerate(output):\n",
    "        results.append(' '.join(['<SOS>']+dataset.vocab.indices_to_sequence(seq)))\n",
    "        trg.append(' '.join(dataset.raw_trg_sent_data[i]))\n",
    "        if results[-1] == trg[-1]:\n",
    "            correct+=1\n",
    "        \n",
    "    print('-----exm-----')\n",
    "    print(results[:10])\n",
    "    print(trg[:10])\n",
    "    return results, correct/len(output)\n",
    "\n",
    "def evaluate(model,criterion,dataset):\n",
    "    prediction = []\n",
    "    model.eval()\n",
    "    \n",
    "    epoch_loss = 0\n",
    "    data_loader = DataLoader(dataset, batch_size=512, shuffle=False)\n",
    "    trange = tqdm(enumerate(data_loader), total=len(data_loader),desc='valid')\n",
    "    for step, batch in trange:\n",
    "        src = batch[0]\n",
    "        trg = batch[1]\n",
    "        src = src.to(device)\n",
    "        trg = trg.to(device)\n",
    "        with torch.no_grad():\n",
    "            output,output_idx = model(src, trg, 0) #turn off teacher forcing\n",
    "            prediction.append(output_idx.to('cpu'))\n",
    "\n",
    "            #trg = [trg sent len, batch size]\n",
    "            #output = [trg sent len, batch size, output dim]\n",
    "\n",
    "            output = output[:,1:].reshape(-1, output.shape[-1])\n",
    "            trg = trg[:,1:].reshape(-1)\n",
    "\n",
    "            #trg = [(trg sent len - 1) * batch size]\n",
    "            #output = [(trg sent len - 1) * batch size, output dim]\n",
    "\n",
    "            loss = criterion(output, trg)\n",
    "\n",
    "            epoch_loss += loss.item()\n",
    "    prediction = torch.cat(prediction).detach().numpy().astype(int)\n",
    "    prediction,acc = decode_string(prediction,dataset)\n",
    "    return epoch_loss / len(data_loader),prediction,acc"
   ]
  },
  {
   "cell_type": "code",
   "execution_count": 89,
   "metadata": {
    "colab": {},
    "colab_type": "code",
    "id": "vNToEQa1NCoC"
   },
   "outputs": [],
   "source": [
    "def epoch_time(start_time, end_time):\n",
    "    elapsed_time = end_time - start_time\n",
    "    elapsed_mins = int(elapsed_time / 60)\n",
    "    elapsed_secs = int(elapsed_time - (elapsed_mins * 60))\n",
    "    return elapsed_mins, elapsed_secs"
   ]
  },
  {
   "cell_type": "code",
   "execution_count": 90,
   "metadata": {
    "colab": {
     "base_uri": "https://localhost:8080/",
     "height": 1000
    },
    "colab_type": "code",
    "id": "1WH3st1fPIJN",
    "outputId": "3427a5eb-a2ac-437f-b918-cf545b28b358"
   },
   "outputs": [
    {
     "name": "stderr",
     "output_type": "stream",
     "text": [
      "Train:   0%|          | 0/766 [00:00<?, ?it/s]/root/anaconda3/lib/python3.6/site-packages/ipykernel_launcher.py:52: UserWarning: To copy construct from a tensor, it is recommended to use sourceTensor.clone().detach() or sourceTensor.clone().detach().requires_grad_(True), rather than torch.tensor(sourceTensor).\n",
      "Train: 100%|██████████| 766/766 [00:52<00:00, 14.73it/s]\n",
      "valid: 100%|██████████| 192/192 [00:07<00:00, 24.56it/s]\n",
      "valid:   6%|▋         | 3/48 [00:00<00:01, 24.58it/s]"
     ]
    },
    {
     "name": "stdout",
     "output_type": "stream",
     "text": [
      "-----exm-----\n",
      "['<SOS> you <EOS>', '<SOS> want <EOS>', '<SOS> i <EOS>', '<SOS> in is <EOS>', \"<SOS> that me me me told tom 's <EOS>\", '<SOS> was he was that <EOS>', '<SOS> tom <EOS>', \"<SOS> n't <EOS>\", \"<SOS> here got 've 've <EOS>\", \"<SOS> n't <EOS>\"]\n",
      "['<SOS> you <EOS>', '<SOS> did <EOS>', '<SOS> what <EOS>', '<SOS> well done <EOS>', '<SOS> do to what me told just tom <EOS>', '<SOS> told him that he <EOS>', '<SOS> is <EOS>', \"<SOS> n't <EOS>\", \"<SOS> before here been 've <EOS>\", '<SOS> know <EOS>']\n"
     ]
    },
    {
     "name": "stderr",
     "output_type": "stream",
     "text": [
      "valid: 100%|██████████| 48/48 [00:01<00:00, 25.00it/s]\n",
      "/root/anaconda3/lib/python3.6/site-packages/torch/serialization.py:256: UserWarning: Couldn't retrieve source code for container of type Seq2Seq. It won't be checked for correctness upon loading.\n",
      "  \"type \" + obj.__name__ + \". It won't be checked \"\n",
      "/root/anaconda3/lib/python3.6/site-packages/torch/serialization.py:256: UserWarning: Couldn't retrieve source code for container of type Encoder. It won't be checked for correctness upon loading.\n",
      "  \"type \" + obj.__name__ + \". It won't be checked \"\n",
      "/root/anaconda3/lib/python3.6/site-packages/torch/serialization.py:256: UserWarning: Couldn't retrieve source code for container of type Decoder. It won't be checked for correctness upon loading.\n",
      "  \"type \" + obj.__name__ + \". It won't be checked \"\n",
      "Train:   0%|          | 2/766 [00:00<00:57, 13.28it/s]"
     ]
    },
    {
     "name": "stdout",
     "output_type": "stream",
     "text": [
      "-----exm-----\n",
      "[\"<SOS> he n't <EOS>\", '<SOS> tom <EOS>', \"<SOS> that n't n't <EOS>\", \"<SOS> did n't that that <EOS>\", \"<SOS> he n't <EOS>\", \"<SOS> that mary he he tom n't <EOS>\", \"<SOS> 'll get do <EOS>\", '<SOS> do <EOS>', '<SOS> i have to <EOS>', '<SOS> do to <EOS>']\n",
      "[\"<SOS> n't that <EOS>\", '<SOS> tom <EOS>', '<SOS> mary i , <EOS>', '<SOS> said would do , i <EOS>', '<SOS> do , <EOS>', '<SOS> mary i , do would said <EOS>', '<SOS> much time i <EOS>', '<SOS> do <EOS>', '<SOS> how more do <EOS>', '<SOS> i time <EOS>']\n",
      "Epoch: 01 | Time: 1m 2s\n",
      "\tTrain Loss: 3.093 | Train PPL:  22.034\n",
      "\t Val. Loss: 2.142 |  Val. PPL:   8.519 | val acc: 0.144 \n"
     ]
    },
    {
     "name": "stderr",
     "output_type": "stream",
     "text": [
      "Train: 100%|██████████| 766/766 [00:52<00:00, 14.67it/s]\n",
      "valid: 100%|██████████| 192/192 [00:08<00:00, 22.53it/s]\n",
      "valid:   6%|▋         | 3/48 [00:00<00:02, 21.87it/s]"
     ]
    },
    {
     "name": "stdout",
     "output_type": "stream",
     "text": [
      "-----exm-----\n",
      "['<SOS> you <EOS>', '<SOS> i <EOS>', '<SOS> what <EOS>', '<SOS> done done <EOS>', '<SOS> do to what me me told i <EOS>', '<SOS> told mary that he <EOS>', '<SOS> tom <EOS>', \"<SOS> n't <EOS>\", \"<SOS> before here been 've <EOS>\", '<SOS> know <EOS>']\n",
      "['<SOS> you <EOS>', '<SOS> did <EOS>', '<SOS> what <EOS>', '<SOS> well done <EOS>', '<SOS> do to what me told just tom <EOS>', '<SOS> told him that he <EOS>', '<SOS> is <EOS>', \"<SOS> n't <EOS>\", \"<SOS> before here been 've <EOS>\", '<SOS> know <EOS>']\n"
     ]
    },
    {
     "name": "stderr",
     "output_type": "stream",
     "text": [
      "valid: 100%|██████████| 48/48 [00:02<00:00, 23.75it/s]\n",
      "Train:   0%|          | 0/766 [00:00<?, ?it/s]"
     ]
    },
    {
     "name": "stdout",
     "output_type": "stream",
     "text": [
      "-----exm-----\n",
      "['<SOS> that that <EOS>', '<SOS> tom <EOS>', '<SOS> that that , <EOS>', '<SOS> said that do that , <EOS>', '<SOS> that do <EOS>', '<SOS> that that that he would tom <EOS>', '<SOS> much more i <EOS>', '<SOS> i <EOS>', '<SOS> how more do <EOS>', '<SOS> i more <EOS>']\n",
      "[\"<SOS> n't that <EOS>\", '<SOS> tom <EOS>', '<SOS> mary i , <EOS>', '<SOS> said would do , i <EOS>', '<SOS> do , <EOS>', '<SOS> mary i , do would said <EOS>', '<SOS> much time i <EOS>', '<SOS> do <EOS>', '<SOS> how more do <EOS>', '<SOS> i time <EOS>']\n",
      "Epoch: 02 | Time: 1m 3s\n",
      "\tTrain Loss: 1.546 | Train PPL:   4.691\n",
      "\t Val. Loss: 0.994 |  Val. PPL:   2.701 | val acc: 0.461 \n"
     ]
    },
    {
     "name": "stderr",
     "output_type": "stream",
     "text": [
      "Train: 100%|██████████| 766/766 [00:52<00:00, 14.60it/s]\n",
      "valid: 100%|██████████| 192/192 [00:08<00:00, 23.93it/s]\n",
      "valid:   6%|▋         | 3/48 [00:00<00:02, 22.43it/s]"
     ]
    },
    {
     "name": "stdout",
     "output_type": "stream",
     "text": [
      "-----exm-----\n",
      "['<SOS> you <EOS>', \"<SOS> n't <EOS>\", '<SOS> what <EOS>', '<SOS> done done <EOS>', '<SOS> do to what me told just tom <EOS>', '<SOS> told me that he <EOS>', '<SOS> is <EOS>', '<SOS> could <EOS>', \"<SOS> before here been 've <EOS>\", '<SOS> know <EOS>']\n",
      "['<SOS> you <EOS>', '<SOS> did <EOS>', '<SOS> what <EOS>', '<SOS> well done <EOS>', '<SOS> do to what me told just tom <EOS>', '<SOS> told him that he <EOS>', '<SOS> is <EOS>', \"<SOS> n't <EOS>\", \"<SOS> before here been 've <EOS>\", '<SOS> know <EOS>']\n"
     ]
    },
    {
     "name": "stderr",
     "output_type": "stream",
     "text": [
      "valid: 100%|██████████| 48/48 [00:02<00:00, 22.18it/s]\n",
      "Train:   0%|          | 0/766 [00:00<?, ?it/s]"
     ]
    },
    {
     "name": "stdout",
     "output_type": "stream",
     "text": [
      "-----exm-----\n",
      "['<SOS> do that <EOS>', '<SOS> tom <EOS>', '<SOS> , but i <EOS>', '<SOS> said would do , but <EOS>', '<SOS> that , <EOS>', \"<SOS> had that that n't he tom <EOS>\", '<SOS> much more i <EOS>', '<SOS> more <EOS>', '<SOS> how more i <EOS>', '<SOS> i money <EOS>']\n",
      "[\"<SOS> n't that <EOS>\", '<SOS> tom <EOS>', '<SOS> mary i , <EOS>', '<SOS> said would do , i <EOS>', '<SOS> do , <EOS>', '<SOS> mary i , do would said <EOS>', '<SOS> much time i <EOS>', '<SOS> do <EOS>', '<SOS> how more do <EOS>', '<SOS> i time <EOS>']\n",
      "Epoch: 03 | Time: 1m 3s\n",
      "\tTrain Loss: 0.780 | Train PPL:   2.182\n",
      "\t Val. Loss: 0.556 |  Val. PPL:   1.744 | val acc: 0.677 \n"
     ]
    },
    {
     "name": "stderr",
     "output_type": "stream",
     "text": [
      "Train: 100%|██████████| 766/766 [00:45<00:00, 16.85it/s]\n",
      "valid: 100%|██████████| 192/192 [00:05<00:00, 32.10it/s]\n",
      "valid:   8%|▊         | 4/48 [00:00<00:01, 30.52it/s]"
     ]
    },
    {
     "name": "stdout",
     "output_type": "stream",
     "text": [
      "-----exm-----\n",
      "['<SOS> you <EOS>', '<SOS> did <EOS>', '<SOS> what <EOS>', '<SOS> well done <EOS>', '<SOS> do to what me told just tom <EOS>', '<SOS> told me that he <EOS>', '<SOS> is <EOS>', \"<SOS> n't <EOS>\", \"<SOS> before here been 've <EOS>\", '<SOS> know <EOS>']\n",
      "['<SOS> you <EOS>', '<SOS> did <EOS>', '<SOS> what <EOS>', '<SOS> well done <EOS>', '<SOS> do to what me told just tom <EOS>', '<SOS> told him that he <EOS>', '<SOS> is <EOS>', \"<SOS> n't <EOS>\", \"<SOS> before here been 've <EOS>\", '<SOS> know <EOS>']\n"
     ]
    },
    {
     "name": "stderr",
     "output_type": "stream",
     "text": [
      "valid: 100%|██████████| 48/48 [00:01<00:00, 32.28it/s]\n",
      "Train:   0%|          | 0/766 [00:00<?, ?it/s]"
     ]
    },
    {
     "name": "stdout",
     "output_type": "stream",
     "text": [
      "-----exm-----\n",
      "[\"<SOS> n't that <EOS>\", '<SOS> tom <EOS>', '<SOS> asked i that <EOS>', '<SOS> said would do , but <EOS>', '<SOS> that , <EOS>', '<SOS> had but that do would tom <EOS>', '<SOS> much more have <EOS>', '<SOS> do <EOS>', '<SOS> how more time <EOS>', '<SOS> i money <EOS>']\n",
      "[\"<SOS> n't that <EOS>\", '<SOS> tom <EOS>', '<SOS> mary i , <EOS>', '<SOS> said would do , i <EOS>', '<SOS> do , <EOS>', '<SOS> mary i , do would said <EOS>', '<SOS> much time i <EOS>', '<SOS> do <EOS>', '<SOS> how more do <EOS>', '<SOS> i time <EOS>']\n",
      "Epoch: 04 | Time: 0m 53s\n",
      "\tTrain Loss: 0.486 | Train PPL:   1.626\n",
      "\t Val. Loss: 0.371 |  Val. PPL:   1.450 | val acc: 0.770 \n"
     ]
    },
    {
     "name": "stderr",
     "output_type": "stream",
     "text": [
      "Train: 100%|██████████| 766/766 [00:37<00:00, 20.36it/s]\n",
      "valid: 100%|██████████| 192/192 [00:05<00:00, 32.92it/s]\n",
      "valid:   8%|▊         | 4/48 [00:00<00:01, 33.35it/s]"
     ]
    },
    {
     "name": "stdout",
     "output_type": "stream",
     "text": [
      "-----exm-----\n",
      "['<SOS> you <EOS>', '<SOS> did <EOS>', '<SOS> what <EOS>', '<SOS> well done <EOS>', '<SOS> do to what me told just tom <EOS>', '<SOS> told him that he <EOS>', '<SOS> is <EOS>', '<SOS> could <EOS>', \"<SOS> before here been 've <EOS>\", '<SOS> know <EOS>']\n",
      "['<SOS> you <EOS>', '<SOS> did <EOS>', '<SOS> what <EOS>', '<SOS> well done <EOS>', '<SOS> do to what me told just tom <EOS>', '<SOS> told him that he <EOS>', '<SOS> is <EOS>', \"<SOS> n't <EOS>\", \"<SOS> before here been 've <EOS>\", '<SOS> know <EOS>']\n"
     ]
    },
    {
     "name": "stderr",
     "output_type": "stream",
     "text": [
      "valid: 100%|██████████| 48/48 [00:01<00:00, 28.83it/s]\n",
      "Train:   0%|          | 2/766 [00:00<00:42, 18.14it/s]"
     ]
    },
    {
     "name": "stdout",
     "output_type": "stream",
     "text": [
      "-----exm-----\n",
      "[\"<SOS> n't that <EOS>\", '<SOS> tom <EOS>', '<SOS> asked i that <EOS>', '<SOS> said would do , so <EOS>', '<SOS> do , <EOS>', \"<SOS> he but that n't would tom <EOS>\", '<SOS> much more have <EOS>', '<SOS> time <EOS>', '<SOS> how more i <EOS>', '<SOS> i more <EOS>']\n",
      "[\"<SOS> n't that <EOS>\", '<SOS> tom <EOS>', '<SOS> mary i , <EOS>', '<SOS> said would do , i <EOS>', '<SOS> do , <EOS>', '<SOS> mary i , do would said <EOS>', '<SOS> much time i <EOS>', '<SOS> do <EOS>', '<SOS> how more do <EOS>', '<SOS> i time <EOS>']\n",
      "Epoch: 05 | Time: 0m 45s\n",
      "\tTrain Loss: 0.346 | Train PPL:   1.414\n",
      "\t Val. Loss: 0.294 |  Val. PPL:   1.342 | val acc: 0.819 \n"
     ]
    },
    {
     "name": "stderr",
     "output_type": "stream",
     "text": [
      "Train: 100%|██████████| 766/766 [00:36<00:00, 20.77it/s]\n",
      "valid: 100%|██████████| 192/192 [00:06<00:00, 31.94it/s]\n",
      "valid:   8%|▊         | 4/48 [00:00<00:01, 33.16it/s]"
     ]
    },
    {
     "name": "stdout",
     "output_type": "stream",
     "text": [
      "-----exm-----\n",
      "['<SOS> you <EOS>', '<SOS> did <EOS>', '<SOS> what <EOS>', '<SOS> well done <EOS>', '<SOS> do to what me told just tom <EOS>', '<SOS> told him that he <EOS>', '<SOS> is <EOS>', '<SOS> could <EOS>', \"<SOS> before here been 've <EOS>\", '<SOS> know <EOS>']\n",
      "['<SOS> you <EOS>', '<SOS> did <EOS>', '<SOS> what <EOS>', '<SOS> well done <EOS>', '<SOS> do to what me told just tom <EOS>', '<SOS> told him that he <EOS>', '<SOS> is <EOS>', \"<SOS> n't <EOS>\", \"<SOS> before here been 've <EOS>\", '<SOS> know <EOS>']\n"
     ]
    },
    {
     "name": "stderr",
     "output_type": "stream",
     "text": [
      "valid: 100%|██████████| 48/48 [00:01<00:00, 32.10it/s]\n",
      "Train:   0%|          | 2/766 [00:00<00:42, 18.09it/s]"
     ]
    },
    {
     "name": "stdout",
     "output_type": "stream",
     "text": [
      "-----exm-----\n",
      "[\"<SOS> n't that <EOS>\", '<SOS> tom <EOS>', '<SOS> asked he but <EOS>', '<SOS> said would do , i <EOS>', '<SOS> do , <EOS>', '<SOS> asked he , do would said <EOS>', '<SOS> much more have <EOS>', '<SOS> time <EOS>', '<SOS> how more time <EOS>', '<SOS> i time <EOS>']\n",
      "[\"<SOS> n't that <EOS>\", '<SOS> tom <EOS>', '<SOS> mary i , <EOS>', '<SOS> said would do , i <EOS>', '<SOS> do , <EOS>', '<SOS> mary i , do would said <EOS>', '<SOS> much time i <EOS>', '<SOS> do <EOS>', '<SOS> how more do <EOS>', '<SOS> i time <EOS>']\n",
      "Epoch: 06 | Time: 0m 44s\n",
      "\tTrain Loss: 0.266 | Train PPL:   1.305\n",
      "\t Val. Loss: 0.245 |  Val. PPL:   1.277 | val acc: 0.844 \n"
     ]
    },
    {
     "name": "stderr",
     "output_type": "stream",
     "text": [
      "Train: 100%|██████████| 766/766 [00:36<00:00, 20.95it/s]\n",
      "valid: 100%|██████████| 192/192 [00:05<00:00, 32.11it/s]\n",
      "valid:   8%|▊         | 4/48 [00:00<00:01, 31.91it/s]"
     ]
    },
    {
     "name": "stdout",
     "output_type": "stream",
     "text": [
      "-----exm-----\n",
      "['<SOS> you <EOS>', '<SOS> did <EOS>', '<SOS> what <EOS>', '<SOS> well done <EOS>', '<SOS> do to what me told just tom <EOS>', '<SOS> told him that he <EOS>', '<SOS> is <EOS>', \"<SOS> n't <EOS>\", \"<SOS> before here been 've <EOS>\", '<SOS> know <EOS>']\n",
      "['<SOS> you <EOS>', '<SOS> did <EOS>', '<SOS> what <EOS>', '<SOS> well done <EOS>', '<SOS> do to what me told just tom <EOS>', '<SOS> told him that he <EOS>', '<SOS> is <EOS>', \"<SOS> n't <EOS>\", \"<SOS> before here been 've <EOS>\", '<SOS> know <EOS>']\n"
     ]
    },
    {
     "name": "stderr",
     "output_type": "stream",
     "text": [
      "valid: 100%|██████████| 48/48 [00:01<00:00, 32.09it/s]\n",
      "Train:   0%|          | 2/766 [00:00<00:41, 18.40it/s]"
     ]
    },
    {
     "name": "stdout",
     "output_type": "stream",
     "text": [
      "-----exm-----\n",
      "[\"<SOS> n't that <EOS>\", '<SOS> tom <EOS>', '<SOS> asked he , <EOS>', '<SOS> said would do , so <EOS>', '<SOS> do , <EOS>', '<SOS> asked he , do would tom <EOS>', '<SOS> much more have <EOS>', '<SOS> do <EOS>', '<SOS> how more i <EOS>', '<SOS> i time <EOS>']\n",
      "[\"<SOS> n't that <EOS>\", '<SOS> tom <EOS>', '<SOS> mary i , <EOS>', '<SOS> said would do , i <EOS>', '<SOS> do , <EOS>', '<SOS> mary i , do would said <EOS>', '<SOS> much time i <EOS>', '<SOS> do <EOS>', '<SOS> how more do <EOS>', '<SOS> i time <EOS>']\n",
      "Epoch: 07 | Time: 0m 44s\n",
      "\tTrain Loss: 0.216 | Train PPL:   1.241\n",
      "\t Val. Loss: 0.218 |  Val. PPL:   1.244 | val acc: 0.864 \n"
     ]
    },
    {
     "name": "stderr",
     "output_type": "stream",
     "text": [
      "Train: 100%|██████████| 766/766 [00:36<00:00, 20.76it/s]\n",
      "valid: 100%|██████████| 192/192 [00:05<00:00, 33.15it/s]\n",
      "valid:   0%|          | 0/48 [00:00<?, ?it/s]"
     ]
    },
    {
     "name": "stdout",
     "output_type": "stream",
     "text": [
      "-----exm-----\n",
      "['<SOS> you <EOS>', '<SOS> did <EOS>', '<SOS> what <EOS>', '<SOS> well done <EOS>', '<SOS> do to what me told just tom <EOS>', '<SOS> told him that he <EOS>', '<SOS> is <EOS>', \"<SOS> n't <EOS>\", \"<SOS> before here been 've <EOS>\", '<SOS> know <EOS>']\n",
      "['<SOS> you <EOS>', '<SOS> did <EOS>', '<SOS> what <EOS>', '<SOS> well done <EOS>', '<SOS> do to what me told just tom <EOS>', '<SOS> told him that he <EOS>', '<SOS> is <EOS>', \"<SOS> n't <EOS>\", \"<SOS> before here been 've <EOS>\", '<SOS> know <EOS>']\n"
     ]
    },
    {
     "name": "stderr",
     "output_type": "stream",
     "text": [
      "valid: 100%|██████████| 48/48 [00:01<00:00, 28.39it/s]\n",
      "Train:   0%|          | 2/766 [00:00<00:42, 17.99it/s]"
     ]
    },
    {
     "name": "stdout",
     "output_type": "stream",
     "text": [
      "-----exm-----\n",
      "[\"<SOS> n't that <EOS>\", '<SOS> tom <EOS>', '<SOS> asked i that <EOS>', '<SOS> said would do , i <EOS>', '<SOS> do , <EOS>', '<SOS> asked he , do would tom <EOS>', '<SOS> much money have <EOS>', '<SOS> do <EOS>', '<SOS> how more i <EOS>', '<SOS> i do <EOS>']\n",
      "[\"<SOS> n't that <EOS>\", '<SOS> tom <EOS>', '<SOS> mary i , <EOS>', '<SOS> said would do , i <EOS>', '<SOS> do , <EOS>', '<SOS> mary i , do would said <EOS>', '<SOS> much time i <EOS>', '<SOS> do <EOS>', '<SOS> how more do <EOS>', '<SOS> i time <EOS>']\n",
      "Epoch: 08 | Time: 0m 44s\n",
      "\tTrain Loss: 0.182 | Train PPL:   1.199\n",
      "\t Val. Loss: 0.199 |  Val. PPL:   1.221 | val acc: 0.873 \n"
     ]
    },
    {
     "name": "stderr",
     "output_type": "stream",
     "text": [
      "Train: 100%|██████████| 766/766 [00:37<00:00, 20.62it/s]\n",
      "valid: 100%|██████████| 192/192 [00:06<00:00, 31.46it/s]\n",
      "valid:   8%|▊         | 4/48 [00:00<00:01, 30.78it/s]"
     ]
    },
    {
     "name": "stdout",
     "output_type": "stream",
     "text": [
      "-----exm-----\n",
      "['<SOS> you <EOS>', '<SOS> did <EOS>', '<SOS> what <EOS>', '<SOS> well done <EOS>', '<SOS> do to what me told just tom <EOS>', '<SOS> told him that he <EOS>', '<SOS> is <EOS>', \"<SOS> n't <EOS>\", \"<SOS> before here been 've <EOS>\", '<SOS> know <EOS>']\n",
      "['<SOS> you <EOS>', '<SOS> did <EOS>', '<SOS> what <EOS>', '<SOS> well done <EOS>', '<SOS> do to what me told just tom <EOS>', '<SOS> told him that he <EOS>', '<SOS> is <EOS>', \"<SOS> n't <EOS>\", \"<SOS> before here been 've <EOS>\", '<SOS> know <EOS>']\n"
     ]
    },
    {
     "name": "stderr",
     "output_type": "stream",
     "text": [
      "valid: 100%|██████████| 48/48 [00:01<00:00, 32.22it/s]\n",
      "Train:   0%|          | 2/766 [00:00<00:41, 18.32it/s]"
     ]
    },
    {
     "name": "stdout",
     "output_type": "stream",
     "text": [
      "-----exm-----\n",
      "[\"<SOS> n't that <EOS>\", '<SOS> tom <EOS>', '<SOS> asked i that <EOS>', '<SOS> said would do , i <EOS>', '<SOS> do , <EOS>', '<SOS> told but that do would tom <EOS>', '<SOS> much more i <EOS>', '<SOS> do <EOS>', '<SOS> how more i <EOS>', '<SOS> i time <EOS>']\n",
      "[\"<SOS> n't that <EOS>\", '<SOS> tom <EOS>', '<SOS> mary i , <EOS>', '<SOS> said would do , i <EOS>', '<SOS> do , <EOS>', '<SOS> mary i , do would said <EOS>', '<SOS> much time i <EOS>', '<SOS> do <EOS>', '<SOS> how more do <EOS>', '<SOS> i time <EOS>']\n",
      "Epoch: 09 | Time: 0m 45s\n",
      "\tTrain Loss: 0.157 | Train PPL:   1.170\n",
      "\t Val. Loss: 0.193 |  Val. PPL:   1.213 | val acc: 0.880 \n"
     ]
    },
    {
     "name": "stderr",
     "output_type": "stream",
     "text": [
      "Train: 100%|██████████| 766/766 [00:36<00:00, 20.77it/s]\n",
      "valid: 100%|██████████| 192/192 [00:05<00:00, 32.67it/s]\n",
      "valid:   8%|▊         | 4/48 [00:00<00:01, 33.39it/s]"
     ]
    },
    {
     "name": "stdout",
     "output_type": "stream",
     "text": [
      "-----exm-----\n",
      "['<SOS> you <EOS>', '<SOS> did <EOS>', '<SOS> what <EOS>', '<SOS> well done <EOS>', '<SOS> do to what me told just tom <EOS>', '<SOS> told him that he <EOS>', '<SOS> is <EOS>', \"<SOS> n't <EOS>\", \"<SOS> before here been 've <EOS>\", '<SOS> know <EOS>']\n",
      "['<SOS> you <EOS>', '<SOS> did <EOS>', '<SOS> what <EOS>', '<SOS> well done <EOS>', '<SOS> do to what me told just tom <EOS>', '<SOS> told him that he <EOS>', '<SOS> is <EOS>', \"<SOS> n't <EOS>\", \"<SOS> before here been 've <EOS>\", '<SOS> know <EOS>']\n"
     ]
    },
    {
     "name": "stderr",
     "output_type": "stream",
     "text": [
      "valid: 100%|██████████| 48/48 [00:01<00:00, 28.96it/s]\n",
      "Train:   0%|          | 2/766 [00:00<00:40, 19.09it/s]"
     ]
    },
    {
     "name": "stdout",
     "output_type": "stream",
     "text": [
      "-----exm-----\n",
      "[\"<SOS> n't that <EOS>\", '<SOS> tom <EOS>', '<SOS> asked he so <EOS>', '<SOS> said would do , i <EOS>', '<SOS> do , <EOS>', '<SOS> told so , do he tom <EOS>', '<SOS> much time i <EOS>', '<SOS> do <EOS>', '<SOS> how more i <EOS>', '<SOS> i more <EOS>']\n",
      "[\"<SOS> n't that <EOS>\", '<SOS> tom <EOS>', '<SOS> mary i , <EOS>', '<SOS> said would do , i <EOS>', '<SOS> do , <EOS>', '<SOS> mary i , do would said <EOS>', '<SOS> much time i <EOS>', '<SOS> do <EOS>', '<SOS> how more do <EOS>', '<SOS> i time <EOS>']\n",
      "Epoch: 10 | Time: 0m 44s\n",
      "\tTrain Loss: 0.135 | Train PPL:   1.145\n",
      "\t Val. Loss: 0.179 |  Val. PPL:   1.195 | val acc: 0.889 \n"
     ]
    },
    {
     "name": "stderr",
     "output_type": "stream",
     "text": [
      "Train: 100%|██████████| 766/766 [00:38<00:00, 20.13it/s]\n",
      "valid: 100%|██████████| 192/192 [00:05<00:00, 32.22it/s]\n",
      "valid:   8%|▊         | 4/48 [00:00<00:01, 32.17it/s]"
     ]
    },
    {
     "name": "stdout",
     "output_type": "stream",
     "text": [
      "-----exm-----\n",
      "['<SOS> you <EOS>', '<SOS> did <EOS>', '<SOS> what <EOS>', '<SOS> well done <EOS>', '<SOS> do to what me told just tom <EOS>', '<SOS> told him that he <EOS>', '<SOS> is <EOS>', \"<SOS> n't <EOS>\", \"<SOS> before here been 've <EOS>\", '<SOS> know <EOS>']\n",
      "['<SOS> you <EOS>', '<SOS> did <EOS>', '<SOS> what <EOS>', '<SOS> well done <EOS>', '<SOS> do to what me told just tom <EOS>', '<SOS> told him that he <EOS>', '<SOS> is <EOS>', \"<SOS> n't <EOS>\", \"<SOS> before here been 've <EOS>\", '<SOS> know <EOS>']\n"
     ]
    },
    {
     "name": "stderr",
     "output_type": "stream",
     "text": [
      "valid: 100%|██████████| 48/48 [00:01<00:00, 31.59it/s]\n",
      "Train:   0%|          | 2/766 [00:00<00:43, 17.44it/s]"
     ]
    },
    {
     "name": "stdout",
     "output_type": "stream",
     "text": [
      "-----exm-----\n",
      "[\"<SOS> n't that <EOS>\", '<SOS> tom <EOS>', '<SOS> told he so <EOS>', '<SOS> said would do , i <EOS>', '<SOS> do , <EOS>', '<SOS> told so , do he tom <EOS>', '<SOS> much time i <EOS>', '<SOS> do <EOS>', '<SOS> how more i <EOS>', '<SOS> i more <EOS>']\n",
      "[\"<SOS> n't that <EOS>\", '<SOS> tom <EOS>', '<SOS> mary i , <EOS>', '<SOS> said would do , i <EOS>', '<SOS> do , <EOS>', '<SOS> mary i , do would said <EOS>', '<SOS> much time i <EOS>', '<SOS> do <EOS>', '<SOS> how more do <EOS>', '<SOS> i time <EOS>']\n",
      "Epoch: 11 | Time: 0m 46s\n",
      "\tTrain Loss: 0.121 | Train PPL:   1.129\n",
      "\t Val. Loss: 0.166 |  Val. PPL:   1.181 | val acc: 0.898 \n"
     ]
    },
    {
     "name": "stderr",
     "output_type": "stream",
     "text": [
      "Train: 100%|██████████| 766/766 [00:37<00:00, 20.44it/s]\n",
      "valid: 100%|██████████| 192/192 [00:05<00:00, 32.88it/s]\n",
      "valid:   8%|▊         | 4/48 [00:00<00:01, 33.02it/s]"
     ]
    },
    {
     "name": "stdout",
     "output_type": "stream",
     "text": [
      "-----exm-----\n",
      "['<SOS> you <EOS>', '<SOS> did <EOS>', '<SOS> what <EOS>', '<SOS> well done <EOS>', '<SOS> do to what me told just tom <EOS>', '<SOS> told him that he <EOS>', '<SOS> is <EOS>', \"<SOS> n't <EOS>\", \"<SOS> before here been 've <EOS>\", '<SOS> know <EOS>']\n",
      "['<SOS> you <EOS>', '<SOS> did <EOS>', '<SOS> what <EOS>', '<SOS> well done <EOS>', '<SOS> do to what me told just tom <EOS>', '<SOS> told him that he <EOS>', '<SOS> is <EOS>', \"<SOS> n't <EOS>\", \"<SOS> before here been 've <EOS>\", '<SOS> know <EOS>']\n"
     ]
    },
    {
     "name": "stderr",
     "output_type": "stream",
     "text": [
      "valid: 100%|██████████| 48/48 [00:01<00:00, 32.79it/s]\n",
      "Train:   0%|          | 2/766 [00:00<00:40, 19.06it/s]"
     ]
    },
    {
     "name": "stdout",
     "output_type": "stream",
     "text": [
      "-----exm-----\n",
      "[\"<SOS> n't that <EOS>\", '<SOS> tom <EOS>', '<SOS> told he so <EOS>', '<SOS> said would do , i <EOS>', '<SOS> do , <EOS>', '<SOS> asked he , do he said <EOS>', '<SOS> much time have <EOS>', '<SOS> do <EOS>', '<SOS> how time do <EOS>', '<SOS> i time <EOS>']\n",
      "[\"<SOS> n't that <EOS>\", '<SOS> tom <EOS>', '<SOS> mary i , <EOS>', '<SOS> said would do , i <EOS>', '<SOS> do , <EOS>', '<SOS> mary i , do would said <EOS>', '<SOS> much time i <EOS>', '<SOS> do <EOS>', '<SOS> how more do <EOS>', '<SOS> i time <EOS>']\n",
      "Epoch: 12 | Time: 0m 45s\n",
      "\tTrain Loss: 0.110 | Train PPL:   1.116\n",
      "\t Val. Loss: 0.163 |  Val. PPL:   1.177 | val acc: 0.898 \n"
     ]
    },
    {
     "name": "stderr",
     "output_type": "stream",
     "text": [
      "Train: 100%|██████████| 766/766 [00:37<00:00, 20.44it/s]\n",
      "valid: 100%|██████████| 192/192 [00:06<00:00, 30.75it/s]\n",
      "valid:   8%|▊         | 4/48 [00:00<00:01, 31.76it/s]"
     ]
    },
    {
     "name": "stdout",
     "output_type": "stream",
     "text": [
      "-----exm-----\n",
      "['<SOS> you <EOS>', '<SOS> did <EOS>', '<SOS> what <EOS>', '<SOS> well done <EOS>', '<SOS> do to what me told just tom <EOS>', '<SOS> told him that he <EOS>', '<SOS> is <EOS>', \"<SOS> n't <EOS>\", \"<SOS> before here been 've <EOS>\", '<SOS> know <EOS>']\n",
      "['<SOS> you <EOS>', '<SOS> did <EOS>', '<SOS> what <EOS>', '<SOS> well done <EOS>', '<SOS> do to what me told just tom <EOS>', '<SOS> told him that he <EOS>', '<SOS> is <EOS>', \"<SOS> n't <EOS>\", \"<SOS> before here been 've <EOS>\", '<SOS> know <EOS>']\n"
     ]
    },
    {
     "name": "stderr",
     "output_type": "stream",
     "text": [
      "valid: 100%|██████████| 48/48 [00:01<00:00, 31.57it/s]\n",
      "Train:   0%|          | 2/766 [00:00<00:44, 17.10it/s]"
     ]
    },
    {
     "name": "stdout",
     "output_type": "stream",
     "text": [
      "-----exm-----\n",
      "[\"<SOS> n't that <EOS>\", '<SOS> tom <EOS>', '<SOS> to he so <EOS>', '<SOS> said would do , i <EOS>', '<SOS> do , <EOS>', '<SOS> told so , do he said <EOS>', '<SOS> much time have <EOS>', '<SOS> what <EOS>', '<SOS> how more i <EOS>', '<SOS> i more <EOS>']\n",
      "[\"<SOS> n't that <EOS>\", '<SOS> tom <EOS>', '<SOS> mary i , <EOS>', '<SOS> said would do , i <EOS>', '<SOS> do , <EOS>', '<SOS> mary i , do would said <EOS>', '<SOS> much time i <EOS>', '<SOS> do <EOS>', '<SOS> how more do <EOS>', '<SOS> i time <EOS>']\n",
      "Epoch: 13 | Time: 0m 45s\n",
      "\tTrain Loss: 0.100 | Train PPL:   1.105\n",
      "\t Val. Loss: 0.158 |  Val. PPL:   1.171 | val acc: 0.903 \n"
     ]
    },
    {
     "name": "stderr",
     "output_type": "stream",
     "text": [
      "Train: 100%|██████████| 766/766 [00:36<00:00, 21.07it/s]\n",
      "valid: 100%|██████████| 192/192 [00:05<00:00, 33.12it/s]\n",
      "valid:   8%|▊         | 4/48 [00:00<00:01, 30.67it/s]"
     ]
    },
    {
     "name": "stdout",
     "output_type": "stream",
     "text": [
      "-----exm-----\n",
      "['<SOS> you <EOS>', '<SOS> did <EOS>', '<SOS> what <EOS>', '<SOS> well done <EOS>', '<SOS> do to what me told just tom <EOS>', '<SOS> told him that he <EOS>', '<SOS> is <EOS>', \"<SOS> n't <EOS>\", \"<SOS> before here been 've <EOS>\", '<SOS> know <EOS>']\n",
      "['<SOS> you <EOS>', '<SOS> did <EOS>', '<SOS> what <EOS>', '<SOS> well done <EOS>', '<SOS> do to what me told just tom <EOS>', '<SOS> told him that he <EOS>', '<SOS> is <EOS>', \"<SOS> n't <EOS>\", \"<SOS> before here been 've <EOS>\", '<SOS> know <EOS>']\n"
     ]
    },
    {
     "name": "stderr",
     "output_type": "stream",
     "text": [
      "valid: 100%|██████████| 48/48 [00:01<00:00, 32.09it/s]\n",
      "Train:   0%|          | 2/766 [00:00<00:41, 18.53it/s]"
     ]
    },
    {
     "name": "stdout",
     "output_type": "stream",
     "text": [
      "-----exm-----\n",
      "[\"<SOS> n't that <EOS>\", '<SOS> tom <EOS>', '<SOS> asked he that <EOS>', '<SOS> said would do , i <EOS>', '<SOS> do , <EOS>', '<SOS> asked so , do he tom <EOS>', '<SOS> much time i <EOS>', '<SOS> do <EOS>', '<SOS> how more time <EOS>', '<SOS> i do <EOS>']\n",
      "[\"<SOS> n't that <EOS>\", '<SOS> tom <EOS>', '<SOS> mary i , <EOS>', '<SOS> said would do , i <EOS>', '<SOS> do , <EOS>', '<SOS> mary i , do would said <EOS>', '<SOS> much time i <EOS>', '<SOS> do <EOS>', '<SOS> how more do <EOS>', '<SOS> i time <EOS>']\n",
      "Epoch: 14 | Time: 0m 44s\n",
      "\tTrain Loss: 0.090 | Train PPL:   1.094\n",
      "\t Val. Loss: 0.162 |  Val. PPL:   1.176 | val acc: 0.902 \n"
     ]
    },
    {
     "name": "stderr",
     "output_type": "stream",
     "text": [
      "Train: 100%|██████████| 766/766 [00:36<00:00, 21.08it/s]\n",
      "valid: 100%|██████████| 192/192 [00:05<00:00, 32.26it/s]\n",
      "valid:   8%|▊         | 4/48 [00:00<00:01, 33.06it/s]"
     ]
    },
    {
     "name": "stdout",
     "output_type": "stream",
     "text": [
      "-----exm-----\n",
      "['<SOS> you <EOS>', '<SOS> did <EOS>', '<SOS> what <EOS>', '<SOS> well done <EOS>', '<SOS> do to what me told just tom <EOS>', '<SOS> told him that he <EOS>', '<SOS> is <EOS>', \"<SOS> n't <EOS>\", \"<SOS> before here been 've <EOS>\", '<SOS> know <EOS>']\n",
      "['<SOS> you <EOS>', '<SOS> did <EOS>', '<SOS> what <EOS>', '<SOS> well done <EOS>', '<SOS> do to what me told just tom <EOS>', '<SOS> told him that he <EOS>', '<SOS> is <EOS>', \"<SOS> n't <EOS>\", \"<SOS> before here been 've <EOS>\", '<SOS> know <EOS>']\n"
     ]
    },
    {
     "name": "stderr",
     "output_type": "stream",
     "text": [
      "valid: 100%|██████████| 48/48 [00:01<00:00, 32.74it/s]\n",
      "Train:   0%|          | 2/766 [00:00<00:39, 19.22it/s]"
     ]
    },
    {
     "name": "stdout",
     "output_type": "stream",
     "text": [
      "-----exm-----\n",
      "[\"<SOS> n't that <EOS>\", '<SOS> tom <EOS>', '<SOS> asked asked so <EOS>', '<SOS> said would do , i <EOS>', '<SOS> do , <EOS>', '<SOS> asked asked , do would said <EOS>', '<SOS> much time i <EOS>', '<SOS> what <EOS>', '<SOS> how more i <EOS>', '<SOS> i time <EOS>']\n",
      "[\"<SOS> n't that <EOS>\", '<SOS> tom <EOS>', '<SOS> mary i , <EOS>', '<SOS> said would do , i <EOS>', '<SOS> do , <EOS>', '<SOS> mary i , do would said <EOS>', '<SOS> much time i <EOS>', '<SOS> do <EOS>', '<SOS> how more do <EOS>', '<SOS> i time <EOS>']\n",
      "Epoch: 15 | Time: 0m 44s\n",
      "\tTrain Loss: 0.084 | Train PPL:   1.087\n",
      "\t Val. Loss: 0.155 |  Val. PPL:   1.168 | val acc: 0.909 \n"
     ]
    },
    {
     "name": "stderr",
     "output_type": "stream",
     "text": [
      "Train: 100%|██████████| 766/766 [00:37<00:00, 20.32it/s]\n",
      "valid: 100%|██████████| 192/192 [00:05<00:00, 32.09it/s]\n",
      "valid:   8%|▊         | 4/48 [00:00<00:01, 33.29it/s]"
     ]
    },
    {
     "name": "stdout",
     "output_type": "stream",
     "text": [
      "-----exm-----\n",
      "['<SOS> you <EOS>', '<SOS> did <EOS>', '<SOS> what <EOS>', '<SOS> well done <EOS>', '<SOS> do to what me told just tom <EOS>', '<SOS> told him that he <EOS>', '<SOS> is <EOS>', \"<SOS> n't <EOS>\", \"<SOS> before here been 've <EOS>\", '<SOS> know <EOS>']\n",
      "['<SOS> you <EOS>', '<SOS> did <EOS>', '<SOS> what <EOS>', '<SOS> well done <EOS>', '<SOS> do to what me told just tom <EOS>', '<SOS> told him that he <EOS>', '<SOS> is <EOS>', \"<SOS> n't <EOS>\", \"<SOS> before here been 've <EOS>\", '<SOS> know <EOS>']\n"
     ]
    },
    {
     "name": "stderr",
     "output_type": "stream",
     "text": [
      "valid: 100%|██████████| 48/48 [00:01<00:00, 32.40it/s]\n",
      "Train:   0%|          | 3/766 [00:00<00:34, 21.95it/s]"
     ]
    },
    {
     "name": "stdout",
     "output_type": "stream",
     "text": [
      "-----exm-----\n",
      "[\"<SOS> n't that <EOS>\", '<SOS> tom <EOS>', '<SOS> asked mary so <EOS>', '<SOS> said would do , i <EOS>', '<SOS> do so <EOS>', '<SOS> asked so , do would said <EOS>', '<SOS> much time have <EOS>', '<SOS> do <EOS>', '<SOS> how more i <EOS>', '<SOS> i time <EOS>']\n",
      "[\"<SOS> n't that <EOS>\", '<SOS> tom <EOS>', '<SOS> mary i , <EOS>', '<SOS> said would do , i <EOS>', '<SOS> do , <EOS>', '<SOS> mary i , do would said <EOS>', '<SOS> much time i <EOS>', '<SOS> do <EOS>', '<SOS> how more do <EOS>', '<SOS> i time <EOS>']\n",
      "Epoch: 16 | Time: 0m 45s\n",
      "\tTrain Loss: 0.077 | Train PPL:   1.080\n",
      "\t Val. Loss: 0.152 |  Val. PPL:   1.165 | val acc: 0.909 \n"
     ]
    },
    {
     "name": "stderr",
     "output_type": "stream",
     "text": [
      "Train: 100%|██████████| 766/766 [00:36<00:00, 20.83it/s]\n",
      "valid: 100%|██████████| 192/192 [00:06<00:00, 31.11it/s]\n",
      "valid:   8%|▊         | 4/48 [00:00<00:01, 31.68it/s]"
     ]
    },
    {
     "name": "stdout",
     "output_type": "stream",
     "text": [
      "-----exm-----\n",
      "['<SOS> you <EOS>', '<SOS> did <EOS>', '<SOS> what <EOS>', '<SOS> well done <EOS>', '<SOS> do to what me told just tom <EOS>', '<SOS> told him that he <EOS>', '<SOS> is <EOS>', \"<SOS> n't <EOS>\", \"<SOS> before here been 've <EOS>\", '<SOS> know <EOS>']\n",
      "['<SOS> you <EOS>', '<SOS> did <EOS>', '<SOS> what <EOS>', '<SOS> well done <EOS>', '<SOS> do to what me told just tom <EOS>', '<SOS> told him that he <EOS>', '<SOS> is <EOS>', \"<SOS> n't <EOS>\", \"<SOS> before here been 've <EOS>\", '<SOS> know <EOS>']\n"
     ]
    },
    {
     "name": "stderr",
     "output_type": "stream",
     "text": [
      "valid: 100%|██████████| 48/48 [00:01<00:00, 31.99it/s]\n",
      "Train:   0%|          | 2/766 [00:00<00:40, 18.64it/s]"
     ]
    },
    {
     "name": "stdout",
     "output_type": "stream",
     "text": [
      "-----exm-----\n",
      "[\"<SOS> n't that <EOS>\", '<SOS> tom <EOS>', '<SOS> asked mary , that <EOS>', '<SOS> said would do , i <EOS>', '<SOS> do , <EOS>', '<SOS> asked so , do would tom <EOS>', '<SOS> much time i <EOS>', '<SOS> do <EOS>', '<SOS> how more time <EOS>', '<SOS> i time <EOS>']\n",
      "[\"<SOS> n't that <EOS>\", '<SOS> tom <EOS>', '<SOS> mary i , <EOS>', '<SOS> said would do , i <EOS>', '<SOS> do , <EOS>', '<SOS> mary i , do would said <EOS>', '<SOS> much time i <EOS>', '<SOS> do <EOS>', '<SOS> how more do <EOS>', '<SOS> i time <EOS>']\n",
      "Epoch: 17 | Time: 0m 44s\n",
      "\tTrain Loss: 0.073 | Train PPL:   1.076\n",
      "\t Val. Loss: 0.164 |  Val. PPL:   1.178 | val acc: 0.906 \n"
     ]
    },
    {
     "name": "stderr",
     "output_type": "stream",
     "text": [
      "Train: 100%|██████████| 766/766 [00:38<00:00, 19.70it/s]\n",
      "valid: 100%|██████████| 192/192 [00:06<00:00, 31.00it/s]\n",
      "valid:   6%|▋         | 3/48 [00:00<00:01, 28.80it/s]"
     ]
    },
    {
     "name": "stdout",
     "output_type": "stream",
     "text": [
      "-----exm-----\n",
      "['<SOS> you <EOS>', '<SOS> did <EOS>', '<SOS> what <EOS>', '<SOS> well done <EOS>', '<SOS> do to what me told just tom <EOS>', '<SOS> told him that he <EOS>', '<SOS> is <EOS>', \"<SOS> n't <EOS>\", \"<SOS> before here been 've <EOS>\", '<SOS> know <EOS>']\n",
      "['<SOS> you <EOS>', '<SOS> did <EOS>', '<SOS> what <EOS>', '<SOS> well done <EOS>', '<SOS> do to what me told just tom <EOS>', '<SOS> told him that he <EOS>', '<SOS> is <EOS>', \"<SOS> n't <EOS>\", \"<SOS> before here been 've <EOS>\", '<SOS> know <EOS>']\n"
     ]
    },
    {
     "name": "stderr",
     "output_type": "stream",
     "text": [
      "valid: 100%|██████████| 48/48 [00:01<00:00, 31.42it/s]\n",
      "Train:   0%|          | 2/766 [00:00<00:38, 19.76it/s]"
     ]
    },
    {
     "name": "stdout",
     "output_type": "stream",
     "text": [
      "-----exm-----\n",
      "[\"<SOS> n't that <EOS>\", '<SOS> tom <EOS>', '<SOS> asked mary , <EOS>', '<SOS> said would do , i <EOS>', '<SOS> do , <EOS>', \"<SOS> asked mary , do n't said <EOS>\", '<SOS> much time i <EOS>', '<SOS> do <EOS>', '<SOS> how more i <EOS>', '<SOS> i time <EOS>']\n",
      "[\"<SOS> n't that <EOS>\", '<SOS> tom <EOS>', '<SOS> mary i , <EOS>', '<SOS> said would do , i <EOS>', '<SOS> do , <EOS>', '<SOS> mary i , do would said <EOS>', '<SOS> much time i <EOS>', '<SOS> do <EOS>', '<SOS> how more do <EOS>', '<SOS> i time <EOS>']\n",
      "Epoch: 18 | Time: 0m 47s\n",
      "\tTrain Loss: 0.067 | Train PPL:   1.070\n",
      "\t Val. Loss: 0.142 |  Val. PPL:   1.152 | val acc: 0.916 \n"
     ]
    },
    {
     "name": "stderr",
     "output_type": "stream",
     "text": [
      "Train: 100%|██████████| 766/766 [00:37<00:00, 20.61it/s]\n",
      "valid: 100%|██████████| 192/192 [00:05<00:00, 32.26it/s]\n",
      "valid:   8%|▊         | 4/48 [00:00<00:01, 31.79it/s]"
     ]
    },
    {
     "name": "stdout",
     "output_type": "stream",
     "text": [
      "-----exm-----\n",
      "['<SOS> you <EOS>', '<SOS> did <EOS>', '<SOS> what <EOS>', '<SOS> well done <EOS>', '<SOS> do to what me told just tom <EOS>', '<SOS> told him that he <EOS>', '<SOS> is <EOS>', \"<SOS> n't <EOS>\", \"<SOS> before here been 've <EOS>\", '<SOS> know <EOS>']\n",
      "['<SOS> you <EOS>', '<SOS> did <EOS>', '<SOS> what <EOS>', '<SOS> well done <EOS>', '<SOS> do to what me told just tom <EOS>', '<SOS> told him that he <EOS>', '<SOS> is <EOS>', \"<SOS> n't <EOS>\", \"<SOS> before here been 've <EOS>\", '<SOS> know <EOS>']\n"
     ]
    },
    {
     "name": "stderr",
     "output_type": "stream",
     "text": [
      "valid: 100%|██████████| 48/48 [00:01<00:00, 31.89it/s]\n",
      "Train:   0%|          | 2/766 [00:00<00:43, 17.67it/s]"
     ]
    },
    {
     "name": "stdout",
     "output_type": "stream",
     "text": [
      "-----exm-----\n",
      "[\"<SOS> n't that <EOS>\", '<SOS> tom <EOS>', '<SOS> asked i that <EOS>', '<SOS> said would do , i <EOS>', '<SOS> do , <EOS>', '<SOS> asked he , do he tom <EOS>', '<SOS> much time i <EOS>', '<SOS> do <EOS>', '<SOS> how more time <EOS>', '<SOS> i time <EOS>']\n",
      "[\"<SOS> n't that <EOS>\", '<SOS> tom <EOS>', '<SOS> mary i , <EOS>', '<SOS> said would do , i <EOS>', '<SOS> do , <EOS>', '<SOS> mary i , do would said <EOS>', '<SOS> much time i <EOS>', '<SOS> do <EOS>', '<SOS> how more do <EOS>', '<SOS> i time <EOS>']\n",
      "Epoch: 19 | Time: 0m 45s\n",
      "\tTrain Loss: 0.062 | Train PPL:   1.064\n",
      "\t Val. Loss: 0.155 |  Val. PPL:   1.168 | val acc: 0.913 \n"
     ]
    },
    {
     "name": "stderr",
     "output_type": "stream",
     "text": [
      "Train: 100%|██████████| 766/766 [00:37<00:00, 20.39it/s]\n",
      "valid: 100%|██████████| 192/192 [00:06<00:00, 30.85it/s]\n",
      "valid:   8%|▊         | 4/48 [00:00<00:01, 32.71it/s]"
     ]
    },
    {
     "name": "stdout",
     "output_type": "stream",
     "text": [
      "-----exm-----\n",
      "['<SOS> you <EOS>', '<SOS> did <EOS>', '<SOS> what <EOS>', '<SOS> well done <EOS>', '<SOS> do to what me told just tom <EOS>', '<SOS> told him that he <EOS>', '<SOS> is <EOS>', \"<SOS> n't <EOS>\", \"<SOS> before here been 've <EOS>\", '<SOS> know <EOS>']\n",
      "['<SOS> you <EOS>', '<SOS> did <EOS>', '<SOS> what <EOS>', '<SOS> well done <EOS>', '<SOS> do to what me told just tom <EOS>', '<SOS> told him that he <EOS>', '<SOS> is <EOS>', \"<SOS> n't <EOS>\", \"<SOS> before here been 've <EOS>\", '<SOS> know <EOS>']\n"
     ]
    },
    {
     "name": "stderr",
     "output_type": "stream",
     "text": [
      "valid: 100%|██████████| 48/48 [00:01<00:00, 34.41it/s]\n",
      "Train:   0%|          | 2/766 [00:00<00:39, 19.40it/s]"
     ]
    },
    {
     "name": "stdout",
     "output_type": "stream",
     "text": [
      "-----exm-----\n",
      "[\"<SOS> n't that <EOS>\", '<SOS> tom <EOS>', '<SOS> asked i that <EOS>', '<SOS> said would do so i <EOS>', '<SOS> do so <EOS>', '<SOS> asked he , do he said <EOS>', '<SOS> much time i <EOS>', '<SOS> what <EOS>', '<SOS> how more time <EOS>', '<SOS> i time <EOS>']\n",
      "[\"<SOS> n't that <EOS>\", '<SOS> tom <EOS>', '<SOS> mary i , <EOS>', '<SOS> said would do , i <EOS>', '<SOS> do , <EOS>', '<SOS> mary i , do would said <EOS>', '<SOS> much time i <EOS>', '<SOS> do <EOS>', '<SOS> how more do <EOS>', '<SOS> i time <EOS>']\n",
      "Epoch: 20 | Time: 0m 45s\n",
      "\tTrain Loss: 0.060 | Train PPL:   1.062\n",
      "\t Val. Loss: 0.142 |  Val. PPL:   1.152 | val acc: 0.918 \n"
     ]
    },
    {
     "name": "stderr",
     "output_type": "stream",
     "text": [
      "Train: 100%|██████████| 766/766 [00:36<00:00, 20.99it/s]\n",
      "valid: 100%|██████████| 192/192 [00:05<00:00, 32.49it/s]\n",
      "valid:   8%|▊         | 4/48 [00:00<00:01, 33.93it/s]"
     ]
    },
    {
     "name": "stdout",
     "output_type": "stream",
     "text": [
      "-----exm-----\n",
      "['<SOS> you <EOS>', '<SOS> did <EOS>', '<SOS> what <EOS>', '<SOS> well done <EOS>', '<SOS> do to what me told just tom <EOS>', '<SOS> told him that he <EOS>', '<SOS> is <EOS>', \"<SOS> n't <EOS>\", \"<SOS> before here been 've <EOS>\", '<SOS> know <EOS>']\n",
      "['<SOS> you <EOS>', '<SOS> did <EOS>', '<SOS> what <EOS>', '<SOS> well done <EOS>', '<SOS> do to what me told just tom <EOS>', '<SOS> told him that he <EOS>', '<SOS> is <EOS>', \"<SOS> n't <EOS>\", \"<SOS> before here been 've <EOS>\", '<SOS> know <EOS>']\n"
     ]
    },
    {
     "name": "stderr",
     "output_type": "stream",
     "text": [
      "valid: 100%|██████████| 48/48 [00:01<00:00, 32.38it/s]\n",
      "Train:   0%|          | 2/766 [00:00<00:41, 18.27it/s]"
     ]
    },
    {
     "name": "stdout",
     "output_type": "stream",
     "text": [
      "-----exm-----\n",
      "[\"<SOS> n't that <EOS>\", '<SOS> tom <EOS>', '<SOS> asked i so <EOS>', '<SOS> said would do , i <EOS>', '<SOS> do , <EOS>', '<SOS> asked mary , do he tom <EOS>', '<SOS> much time i <EOS>', '<SOS> do <EOS>', '<SOS> how more time <EOS>', '<SOS> i time <EOS>']\n",
      "[\"<SOS> n't that <EOS>\", '<SOS> tom <EOS>', '<SOS> mary i , <EOS>', '<SOS> said would do , i <EOS>', '<SOS> do , <EOS>', '<SOS> mary i , do would said <EOS>', '<SOS> much time i <EOS>', '<SOS> do <EOS>', '<SOS> how more do <EOS>', '<SOS> i time <EOS>']\n",
      "Epoch: 21 | Time: 0m 44s\n",
      "\tTrain Loss: 0.056 | Train PPL:   1.058\n",
      "\t Val. Loss: 0.153 |  Val. PPL:   1.165 | val acc: 0.914 \n"
     ]
    },
    {
     "name": "stderr",
     "output_type": "stream",
     "text": [
      "Train: 100%|██████████| 766/766 [00:35<00:00, 21.61it/s]\n",
      "valid: 100%|██████████| 192/192 [00:05<00:00, 33.64it/s]\n",
      "valid:   8%|▊         | 4/48 [00:00<00:01, 32.10it/s]"
     ]
    },
    {
     "name": "stdout",
     "output_type": "stream",
     "text": [
      "-----exm-----\n",
      "['<SOS> you <EOS>', '<SOS> did <EOS>', '<SOS> what <EOS>', '<SOS> well done <EOS>', '<SOS> do to what me told just tom <EOS>', '<SOS> told him that he <EOS>', '<SOS> is <EOS>', \"<SOS> n't <EOS>\", \"<SOS> before here been 've <EOS>\", '<SOS> know <EOS>']\n",
      "['<SOS> you <EOS>', '<SOS> did <EOS>', '<SOS> what <EOS>', '<SOS> well done <EOS>', '<SOS> do to what me told just tom <EOS>', '<SOS> told him that he <EOS>', '<SOS> is <EOS>', \"<SOS> n't <EOS>\", \"<SOS> before here been 've <EOS>\", '<SOS> know <EOS>']\n"
     ]
    },
    {
     "name": "stderr",
     "output_type": "stream",
     "text": [
      "valid: 100%|██████████| 48/48 [00:01<00:00, 32.12it/s]\n",
      "Train:   0%|          | 2/766 [00:00<00:42, 18.00it/s]"
     ]
    },
    {
     "name": "stdout",
     "output_type": "stream",
     "text": [
      "-----exm-----\n",
      "[\"<SOS> n't that <EOS>\", '<SOS> tom <EOS>', '<SOS> asked mary so <EOS>', '<SOS> said would do , i <EOS>', '<SOS> do , <EOS>', '<SOS> asked mary , do would said <EOS>', '<SOS> much time i <EOS>', '<SOS> do <EOS>', '<SOS> how more time <EOS>', '<SOS> i time <EOS>']\n",
      "[\"<SOS> n't that <EOS>\", '<SOS> tom <EOS>', '<SOS> mary i , <EOS>', '<SOS> said would do , i <EOS>', '<SOS> do , <EOS>', '<SOS> mary i , do would said <EOS>', '<SOS> much time i <EOS>', '<SOS> do <EOS>', '<SOS> how more do <EOS>', '<SOS> i time <EOS>']\n",
      "Epoch: 22 | Time: 0m 43s\n",
      "\tTrain Loss: 0.053 | Train PPL:   1.054\n",
      "\t Val. Loss: 0.144 |  Val. PPL:   1.154 | val acc: 0.920 \n"
     ]
    },
    {
     "name": "stderr",
     "output_type": "stream",
     "text": [
      "Train: 100%|██████████| 766/766 [00:37<00:00, 20.45it/s]\n",
      "valid: 100%|██████████| 192/192 [00:06<00:00, 30.65it/s]\n",
      "valid:   8%|▊         | 4/48 [00:00<00:01, 31.01it/s]"
     ]
    },
    {
     "name": "stdout",
     "output_type": "stream",
     "text": [
      "-----exm-----\n",
      "['<SOS> you <EOS>', '<SOS> did <EOS>', '<SOS> what <EOS>', '<SOS> well done <EOS>', '<SOS> do to what me told just tom <EOS>', '<SOS> told him that he <EOS>', '<SOS> is <EOS>', \"<SOS> n't <EOS>\", \"<SOS> before here been 've <EOS>\", '<SOS> know <EOS>']\n",
      "['<SOS> you <EOS>', '<SOS> did <EOS>', '<SOS> what <EOS>', '<SOS> well done <EOS>', '<SOS> do to what me told just tom <EOS>', '<SOS> told him that he <EOS>', '<SOS> is <EOS>', \"<SOS> n't <EOS>\", \"<SOS> before here been 've <EOS>\", '<SOS> know <EOS>']\n"
     ]
    },
    {
     "name": "stderr",
     "output_type": "stream",
     "text": [
      "valid: 100%|██████████| 48/48 [00:01<00:00, 32.20it/s]\n",
      "Train:   0%|          | 2/766 [00:00<00:39, 19.38it/s]"
     ]
    },
    {
     "name": "stdout",
     "output_type": "stream",
     "text": [
      "-----exm-----\n",
      "[\"<SOS> n't that <EOS>\", '<SOS> tom <EOS>', '<SOS> asked mary , that <EOS>', '<SOS> said would do , i <EOS>', '<SOS> do , <EOS>', '<SOS> asked mary , do would said <EOS>', '<SOS> much time i <EOS>', '<SOS> time <EOS>', '<SOS> how more time <EOS>', '<SOS> i time <EOS>']\n",
      "[\"<SOS> n't that <EOS>\", '<SOS> tom <EOS>', '<SOS> mary i , <EOS>', '<SOS> said would do , i <EOS>', '<SOS> do , <EOS>', '<SOS> mary i , do would said <EOS>', '<SOS> much time i <EOS>', '<SOS> do <EOS>', '<SOS> how more do <EOS>', '<SOS> i time <EOS>']\n",
      "Epoch: 23 | Time: 0m 45s\n",
      "\tTrain Loss: 0.052 | Train PPL:   1.053\n",
      "\t Val. Loss: 0.147 |  Val. PPL:   1.159 | val acc: 0.919 \n"
     ]
    },
    {
     "name": "stderr",
     "output_type": "stream",
     "text": [
      "Train: 100%|██████████| 766/766 [00:37<00:00, 20.66it/s]\n",
      "valid: 100%|██████████| 192/192 [00:05<00:00, 32.08it/s]\n",
      "valid:   8%|▊         | 4/48 [00:00<00:01, 29.67it/s]"
     ]
    },
    {
     "name": "stdout",
     "output_type": "stream",
     "text": [
      "-----exm-----\n",
      "['<SOS> you <EOS>', '<SOS> did <EOS>', '<SOS> what <EOS>', '<SOS> well done <EOS>', '<SOS> do to what me told just tom <EOS>', '<SOS> told him that he <EOS>', '<SOS> is <EOS>', \"<SOS> n't <EOS>\", \"<SOS> before here been 've <EOS>\", '<SOS> know <EOS>']\n",
      "['<SOS> you <EOS>', '<SOS> did <EOS>', '<SOS> what <EOS>', '<SOS> well done <EOS>', '<SOS> do to what me told just tom <EOS>', '<SOS> told him that he <EOS>', '<SOS> is <EOS>', \"<SOS> n't <EOS>\", \"<SOS> before here been 've <EOS>\", '<SOS> know <EOS>']\n"
     ]
    },
    {
     "name": "stderr",
     "output_type": "stream",
     "text": [
      "valid: 100%|██████████| 48/48 [00:01<00:00, 31.97it/s]\n",
      "Train:   0%|          | 2/766 [00:00<00:43, 17.55it/s]"
     ]
    },
    {
     "name": "stdout",
     "output_type": "stream",
     "text": [
      "-----exm-----\n",
      "[\"<SOS> n't that <EOS>\", '<SOS> tom <EOS>', '<SOS> asked mary , <EOS>', '<SOS> said would do , i <EOS>', '<SOS> do , <EOS>', '<SOS> asked mary , do did said <EOS>', '<SOS> much time i <EOS>', '<SOS> do <EOS>', '<SOS> how more i <EOS>', '<SOS> i time <EOS>']\n",
      "[\"<SOS> n't that <EOS>\", '<SOS> tom <EOS>', '<SOS> mary i , <EOS>', '<SOS> said would do , i <EOS>', '<SOS> do , <EOS>', '<SOS> mary i , do would said <EOS>', '<SOS> much time i <EOS>', '<SOS> do <EOS>', '<SOS> how more do <EOS>', '<SOS> i time <EOS>']\n",
      "Epoch: 24 | Time: 0m 45s\n",
      "\tTrain Loss: 0.048 | Train PPL:   1.049\n",
      "\t Val. Loss: 0.149 |  Val. PPL:   1.161 | val acc: 0.920 \n"
     ]
    },
    {
     "name": "stderr",
     "output_type": "stream",
     "text": [
      "Train: 100%|██████████| 766/766 [00:35<00:00, 21.31it/s]\n",
      "valid: 100%|██████████| 192/192 [00:06<00:00, 31.10it/s]\n",
      "valid:   8%|▊         | 4/48 [00:00<00:01, 32.93it/s]"
     ]
    },
    {
     "name": "stdout",
     "output_type": "stream",
     "text": [
      "-----exm-----\n",
      "['<SOS> you <EOS>', '<SOS> did <EOS>', '<SOS> what <EOS>', '<SOS> well done <EOS>', '<SOS> do to what me told just tom <EOS>', '<SOS> told him that he <EOS>', '<SOS> is <EOS>', \"<SOS> n't <EOS>\", \"<SOS> before here been 've <EOS>\", '<SOS> know <EOS>']\n",
      "['<SOS> you <EOS>', '<SOS> did <EOS>', '<SOS> what <EOS>', '<SOS> well done <EOS>', '<SOS> do to what me told just tom <EOS>', '<SOS> told him that he <EOS>', '<SOS> is <EOS>', \"<SOS> n't <EOS>\", \"<SOS> before here been 've <EOS>\", '<SOS> know <EOS>']\n"
     ]
    },
    {
     "name": "stderr",
     "output_type": "stream",
     "text": [
      "valid: 100%|██████████| 48/48 [00:01<00:00, 33.05it/s]\n",
      "Train:   0%|          | 3/766 [00:00<00:34, 21.88it/s]"
     ]
    },
    {
     "name": "stdout",
     "output_type": "stream",
     "text": [
      "-----exm-----\n",
      "[\"<SOS> n't that <EOS>\", '<SOS> tom <EOS>', '<SOS> to i so <EOS>', '<SOS> said would do , i <EOS>', '<SOS> do , <EOS>', '<SOS> asked i , do he said <EOS>', '<SOS> much time i <EOS>', '<SOS> do <EOS>', '<SOS> how more time <EOS>', '<SOS> i time <EOS>']\n",
      "[\"<SOS> n't that <EOS>\", '<SOS> tom <EOS>', '<SOS> mary i , <EOS>', '<SOS> said would do , i <EOS>', '<SOS> do , <EOS>', '<SOS> mary i , do would said <EOS>', '<SOS> much time i <EOS>', '<SOS> do <EOS>', '<SOS> how more do <EOS>', '<SOS> i time <EOS>']\n",
      "Epoch: 25 | Time: 0m 44s\n",
      "\tTrain Loss: 0.047 | Train PPL:   1.048\n",
      "\t Val. Loss: 0.147 |  Val. PPL:   1.158 | val acc: 0.920 \n"
     ]
    },
    {
     "name": "stderr",
     "output_type": "stream",
     "text": [
      "Train: 100%|██████████| 766/766 [00:35<00:00, 21.54it/s]\n",
      "valid: 100%|██████████| 192/192 [00:05<00:00, 32.72it/s]\n",
      "valid:   8%|▊         | 4/48 [00:00<00:01, 31.85it/s]"
     ]
    },
    {
     "name": "stdout",
     "output_type": "stream",
     "text": [
      "-----exm-----\n",
      "['<SOS> you <EOS>', '<SOS> did <EOS>', '<SOS> what <EOS>', '<SOS> well done <EOS>', '<SOS> do to what me told just tom <EOS>', '<SOS> told him that he <EOS>', '<SOS> is <EOS>', \"<SOS> n't <EOS>\", \"<SOS> before here been 've <EOS>\", '<SOS> know <EOS>']\n",
      "['<SOS> you <EOS>', '<SOS> did <EOS>', '<SOS> what <EOS>', '<SOS> well done <EOS>', '<SOS> do to what me told just tom <EOS>', '<SOS> told him that he <EOS>', '<SOS> is <EOS>', \"<SOS> n't <EOS>\", \"<SOS> before here been 've <EOS>\", '<SOS> know <EOS>']\n"
     ]
    },
    {
     "name": "stderr",
     "output_type": "stream",
     "text": [
      "valid: 100%|██████████| 48/48 [00:01<00:00, 32.71it/s]\n",
      "Train:   0%|          | 2/766 [00:00<00:39, 19.54it/s]"
     ]
    },
    {
     "name": "stdout",
     "output_type": "stream",
     "text": [
      "-----exm-----\n",
      "[\"<SOS> n't that <EOS>\", '<SOS> tom <EOS>', '<SOS> asked mary so <EOS>', '<SOS> said would do , i <EOS>', '<SOS> do so <EOS>', '<SOS> asked he , do said said <EOS>', '<SOS> much time i <EOS>', '<SOS> do <EOS>', '<SOS> how time i <EOS>', '<SOS> i time <EOS>']\n",
      "[\"<SOS> n't that <EOS>\", '<SOS> tom <EOS>', '<SOS> mary i , <EOS>', '<SOS> said would do , i <EOS>', '<SOS> do , <EOS>', '<SOS> mary i , do would said <EOS>', '<SOS> much time i <EOS>', '<SOS> do <EOS>', '<SOS> how more do <EOS>', '<SOS> i time <EOS>']\n",
      "Epoch: 26 | Time: 0m 43s\n",
      "\tTrain Loss: 0.044 | Train PPL:   1.045\n",
      "\t Val. Loss: 0.153 |  Val. PPL:   1.165 | val acc: 0.919 \n"
     ]
    },
    {
     "name": "stderr",
     "output_type": "stream",
     "text": [
      "Train: 100%|██████████| 766/766 [00:38<00:00, 19.81it/s]\n",
      "valid: 100%|██████████| 192/192 [00:05<00:00, 33.32it/s]\n",
      "valid:   8%|▊         | 4/48 [00:00<00:01, 31.68it/s]"
     ]
    },
    {
     "name": "stdout",
     "output_type": "stream",
     "text": [
      "-----exm-----\n",
      "['<SOS> you <EOS>', '<SOS> did <EOS>', '<SOS> what <EOS>', '<SOS> well done <EOS>', '<SOS> do to what me told just tom <EOS>', '<SOS> told him that he <EOS>', '<SOS> is <EOS>', \"<SOS> n't <EOS>\", \"<SOS> before here been 've <EOS>\", '<SOS> know <EOS>']\n",
      "['<SOS> you <EOS>', '<SOS> did <EOS>', '<SOS> what <EOS>', '<SOS> well done <EOS>', '<SOS> do to what me told just tom <EOS>', '<SOS> told him that he <EOS>', '<SOS> is <EOS>', \"<SOS> n't <EOS>\", \"<SOS> before here been 've <EOS>\", '<SOS> know <EOS>']\n"
     ]
    },
    {
     "name": "stderr",
     "output_type": "stream",
     "text": [
      "valid: 100%|██████████| 48/48 [00:01<00:00, 31.52it/s]\n",
      "Train:   0%|          | 0/766 [00:00<?, ?it/s]"
     ]
    },
    {
     "name": "stdout",
     "output_type": "stream",
     "text": [
      "-----exm-----\n",
      "[\"<SOS> n't that <EOS>\", '<SOS> tom <EOS>', '<SOS> to mary , <EOS>', '<SOS> said would do , mary <EOS>', '<SOS> do so <EOS>', '<SOS> to so , do would said <EOS>', '<SOS> much time i <EOS>', '<SOS> do <EOS>', '<SOS> how time i <EOS>', '<SOS> i more <EOS>']\n",
      "[\"<SOS> n't that <EOS>\", '<SOS> tom <EOS>', '<SOS> mary i , <EOS>', '<SOS> said would do , i <EOS>', '<SOS> do , <EOS>', '<SOS> mary i , do would said <EOS>', '<SOS> much time i <EOS>', '<SOS> do <EOS>', '<SOS> how more do <EOS>', '<SOS> i time <EOS>']\n",
      "Epoch: 27 | Time: 0m 46s\n",
      "\tTrain Loss: 0.045 | Train PPL:   1.046\n",
      "\t Val. Loss: 0.140 |  Val. PPL:   1.151 | val acc: 0.925 \n"
     ]
    },
    {
     "name": "stderr",
     "output_type": "stream",
     "text": [
      "Train: 100%|██████████| 766/766 [00:35<00:00, 21.55it/s]\n",
      "valid: 100%|██████████| 192/192 [00:06<00:00, 29.96it/s]\n",
      "valid:   8%|▊         | 4/48 [00:00<00:01, 32.94it/s]"
     ]
    },
    {
     "name": "stdout",
     "output_type": "stream",
     "text": [
      "-----exm-----\n",
      "['<SOS> you <EOS>', '<SOS> did <EOS>', '<SOS> what <EOS>', '<SOS> well done <EOS>', '<SOS> do to what me told just tom <EOS>', '<SOS> told him that he <EOS>', '<SOS> is <EOS>', \"<SOS> n't <EOS>\", \"<SOS> before here been 've <EOS>\", '<SOS> know <EOS>']\n",
      "['<SOS> you <EOS>', '<SOS> did <EOS>', '<SOS> what <EOS>', '<SOS> well done <EOS>', '<SOS> do to what me told just tom <EOS>', '<SOS> told him that he <EOS>', '<SOS> is <EOS>', \"<SOS> n't <EOS>\", \"<SOS> before here been 've <EOS>\", '<SOS> know <EOS>']\n"
     ]
    },
    {
     "name": "stderr",
     "output_type": "stream",
     "text": [
      "valid: 100%|██████████| 48/48 [00:01<00:00, 32.81it/s]\n",
      "Train:   0%|          | 2/766 [00:00<00:40, 18.81it/s]"
     ]
    },
    {
     "name": "stdout",
     "output_type": "stream",
     "text": [
      "-----exm-----\n",
      "[\"<SOS> n't that <EOS>\", '<SOS> tom <EOS>', '<SOS> to mary so do <EOS>', '<SOS> said would do , i <EOS>', '<SOS> do , <EOS>', '<SOS> asked mary , do would said <EOS>', '<SOS> much time i <EOS>', '<SOS> do <EOS>', '<SOS> how more do <EOS>', '<SOS> i time <EOS>']\n",
      "[\"<SOS> n't that <EOS>\", '<SOS> tom <EOS>', '<SOS> mary i , <EOS>', '<SOS> said would do , i <EOS>', '<SOS> do , <EOS>', '<SOS> mary i , do would said <EOS>', '<SOS> much time i <EOS>', '<SOS> do <EOS>', '<SOS> how more do <EOS>', '<SOS> i time <EOS>']\n",
      "Epoch: 28 | Time: 0m 43s\n",
      "\tTrain Loss: 0.041 | Train PPL:   1.042\n",
      "\t Val. Loss: 0.142 |  Val. PPL:   1.152 | val acc: 0.920 \n"
     ]
    },
    {
     "name": "stderr",
     "output_type": "stream",
     "text": [
      "Train: 100%|██████████| 766/766 [00:36<00:00, 21.14it/s]\n",
      "valid: 100%|██████████| 192/192 [00:05<00:00, 33.16it/s]\n",
      "valid:   8%|▊         | 4/48 [00:00<00:01, 32.61it/s]"
     ]
    },
    {
     "name": "stdout",
     "output_type": "stream",
     "text": [
      "-----exm-----\n",
      "['<SOS> you <EOS>', '<SOS> did <EOS>', '<SOS> what <EOS>', '<SOS> well done <EOS>', '<SOS> do to what me told just tom <EOS>', '<SOS> told him that he <EOS>', '<SOS> is <EOS>', \"<SOS> n't <EOS>\", \"<SOS> before here been 've <EOS>\", '<SOS> know <EOS>']\n",
      "['<SOS> you <EOS>', '<SOS> did <EOS>', '<SOS> what <EOS>', '<SOS> well done <EOS>', '<SOS> do to what me told just tom <EOS>', '<SOS> told him that he <EOS>', '<SOS> is <EOS>', \"<SOS> n't <EOS>\", \"<SOS> before here been 've <EOS>\", '<SOS> know <EOS>']\n"
     ]
    },
    {
     "name": "stderr",
     "output_type": "stream",
     "text": [
      "valid: 100%|██████████| 48/48 [00:01<00:00, 32.02it/s]\n",
      "Train:   0%|          | 2/766 [00:00<00:42, 17.80it/s]"
     ]
    },
    {
     "name": "stdout",
     "output_type": "stream",
     "text": [
      "-----exm-----\n",
      "[\"<SOS> n't that <EOS>\", '<SOS> tom <EOS>', '<SOS> to asked so , <EOS>', '<SOS> said would do , mary <EOS>', '<SOS> do , <EOS>', '<SOS> asked mary , that would said <EOS>', '<SOS> much time do <EOS>', '<SOS> do <EOS>', '<SOS> how more time <EOS>', '<SOS> i time <EOS>']\n",
      "[\"<SOS> n't that <EOS>\", '<SOS> tom <EOS>', '<SOS> mary i , <EOS>', '<SOS> said would do , i <EOS>', '<SOS> do , <EOS>', '<SOS> mary i , do would said <EOS>', '<SOS> much time i <EOS>', '<SOS> do <EOS>', '<SOS> how more do <EOS>', '<SOS> i time <EOS>']\n",
      "Epoch: 29 | Time: 0m 44s\n",
      "\tTrain Loss: 0.040 | Train PPL:   1.041\n",
      "\t Val. Loss: 0.137 |  Val. PPL:   1.147 | val acc: 0.927 \n"
     ]
    },
    {
     "name": "stderr",
     "output_type": "stream",
     "text": [
      "Train: 100%|██████████| 766/766 [00:37<00:00, 20.60it/s]\n",
      "valid: 100%|██████████| 192/192 [00:06<00:00, 31.99it/s]\n",
      "valid:   8%|▊         | 4/48 [00:00<00:01, 31.60it/s]"
     ]
    },
    {
     "name": "stdout",
     "output_type": "stream",
     "text": [
      "-----exm-----\n",
      "['<SOS> you <EOS>', '<SOS> did <EOS>', '<SOS> what <EOS>', '<SOS> well done <EOS>', '<SOS> do to what me told just tom <EOS>', '<SOS> told him that he <EOS>', '<SOS> is <EOS>', \"<SOS> n't <EOS>\", \"<SOS> before here been 've <EOS>\", '<SOS> know <EOS>']\n",
      "['<SOS> you <EOS>', '<SOS> did <EOS>', '<SOS> what <EOS>', '<SOS> well done <EOS>', '<SOS> do to what me told just tom <EOS>', '<SOS> told him that he <EOS>', '<SOS> is <EOS>', \"<SOS> n't <EOS>\", \"<SOS> before here been 've <EOS>\", '<SOS> know <EOS>']\n"
     ]
    },
    {
     "name": "stderr",
     "output_type": "stream",
     "text": [
      "valid: 100%|██████████| 48/48 [00:01<00:00, 31.85it/s]\n",
      "Train:   0%|          | 3/766 [00:00<00:36, 20.87it/s]"
     ]
    },
    {
     "name": "stdout",
     "output_type": "stream",
     "text": [
      "-----exm-----\n",
      "[\"<SOS> n't that <EOS>\", '<SOS> tom <EOS>', '<SOS> asked mary so do <EOS>', '<SOS> said would do , mary <EOS>', '<SOS> do , <EOS>', '<SOS> asked so , do would said <EOS>', '<SOS> much time i <EOS>', '<SOS> do <EOS>', '<SOS> how time time <EOS>', '<SOS> i time <EOS>']\n",
      "[\"<SOS> n't that <EOS>\", '<SOS> tom <EOS>', '<SOS> mary i , <EOS>', '<SOS> said would do , i <EOS>', '<SOS> do , <EOS>', '<SOS> mary i , do would said <EOS>', '<SOS> much time i <EOS>', '<SOS> do <EOS>', '<SOS> how more do <EOS>', '<SOS> i time <EOS>']\n",
      "Epoch: 30 | Time: 0m 45s\n",
      "\tTrain Loss: 0.037 | Train PPL:   1.037\n",
      "\t Val. Loss: 0.143 |  Val. PPL:   1.153 | val acc: 0.925 \n"
     ]
    },
    {
     "name": "stderr",
     "output_type": "stream",
     "text": [
      "Train: 100%|██████████| 766/766 [00:38<00:00, 19.84it/s]\n",
      "valid: 100%|██████████| 192/192 [00:05<00:00, 32.77it/s]\n",
      "valid:   8%|▊         | 4/48 [00:00<00:01, 33.68it/s]"
     ]
    },
    {
     "name": "stdout",
     "output_type": "stream",
     "text": [
      "-----exm-----\n",
      "['<SOS> you <EOS>', '<SOS> did <EOS>', '<SOS> what <EOS>', '<SOS> well done <EOS>', '<SOS> do to what me told just tom <EOS>', '<SOS> told him that he <EOS>', '<SOS> is <EOS>', \"<SOS> n't <EOS>\", \"<SOS> before here been 've <EOS>\", '<SOS> know <EOS>']\n",
      "['<SOS> you <EOS>', '<SOS> did <EOS>', '<SOS> what <EOS>', '<SOS> well done <EOS>', '<SOS> do to what me told just tom <EOS>', '<SOS> told him that he <EOS>', '<SOS> is <EOS>', \"<SOS> n't <EOS>\", \"<SOS> before here been 've <EOS>\", '<SOS> know <EOS>']\n"
     ]
    },
    {
     "name": "stderr",
     "output_type": "stream",
     "text": [
      "valid: 100%|██████████| 48/48 [00:01<00:00, 32.31it/s]\n",
      "Train:   0%|          | 2/766 [00:00<00:44, 17.20it/s]"
     ]
    },
    {
     "name": "stdout",
     "output_type": "stream",
     "text": [
      "-----exm-----\n",
      "[\"<SOS> n't that <EOS>\", '<SOS> tom <EOS>', '<SOS> to mary so <EOS>', '<SOS> said would do , i <EOS>', '<SOS> do , <EOS>', '<SOS> asked asked , do would tom <EOS>', '<SOS> much time i <EOS>', '<SOS> do <EOS>', '<SOS> how more i <EOS>', '<SOS> i time <EOS>']\n",
      "[\"<SOS> n't that <EOS>\", '<SOS> tom <EOS>', '<SOS> mary i , <EOS>', '<SOS> said would do , i <EOS>', '<SOS> do , <EOS>', '<SOS> mary i , do would said <EOS>', '<SOS> much time i <EOS>', '<SOS> do <EOS>', '<SOS> how more do <EOS>', '<SOS> i time <EOS>']\n",
      "Epoch: 31 | Time: 0m 46s\n",
      "\tTrain Loss: 0.039 | Train PPL:   1.040\n",
      "\t Val. Loss: 0.141 |  Val. PPL:   1.152 | val acc: 0.927 \n"
     ]
    },
    {
     "name": "stderr",
     "output_type": "stream",
     "text": [
      "Train: 100%|██████████| 766/766 [00:37<00:00, 20.44it/s]\n",
      "valid: 100%|██████████| 192/192 [00:05<00:00, 32.78it/s]\n",
      "valid:   6%|▋         | 3/48 [00:00<00:01, 29.27it/s]"
     ]
    },
    {
     "name": "stdout",
     "output_type": "stream",
     "text": [
      "-----exm-----\n",
      "['<SOS> you <EOS>', '<SOS> did <EOS>', '<SOS> what <EOS>', '<SOS> well done <EOS>', '<SOS> do to what me told just tom <EOS>', '<SOS> told him that he <EOS>', '<SOS> is <EOS>', \"<SOS> n't <EOS>\", \"<SOS> before here been 've <EOS>\", '<SOS> know <EOS>']\n",
      "['<SOS> you <EOS>', '<SOS> did <EOS>', '<SOS> what <EOS>', '<SOS> well done <EOS>', '<SOS> do to what me told just tom <EOS>', '<SOS> told him that he <EOS>', '<SOS> is <EOS>', \"<SOS> n't <EOS>\", \"<SOS> before here been 've <EOS>\", '<SOS> know <EOS>']\n"
     ]
    },
    {
     "name": "stderr",
     "output_type": "stream",
     "text": [
      "valid: 100%|██████████| 48/48 [00:01<00:00, 32.05it/s]\n",
      "Train:   0%|          | 0/766 [00:00<?, ?it/s]"
     ]
    },
    {
     "name": "stdout",
     "output_type": "stream",
     "text": [
      "-----exm-----\n",
      "['<SOS> do that <EOS>', '<SOS> tom <EOS>', '<SOS> to mary so do <EOS>', '<SOS> said would do , i <EOS>', '<SOS> do so <EOS>', '<SOS> asked asked , do would said <EOS>', '<SOS> much time i <EOS>', '<SOS> do <EOS>', '<SOS> how more time <EOS>', '<SOS> i time <EOS>']\n",
      "[\"<SOS> n't that <EOS>\", '<SOS> tom <EOS>', '<SOS> mary i , <EOS>', '<SOS> said would do , i <EOS>', '<SOS> do , <EOS>', '<SOS> mary i , do would said <EOS>', '<SOS> much time i <EOS>', '<SOS> do <EOS>', '<SOS> how more do <EOS>', '<SOS> i time <EOS>']\n",
      "Epoch: 32 | Time: 0m 45s\n",
      "\tTrain Loss: 0.035 | Train PPL:   1.035\n",
      "\t Val. Loss: 0.135 |  Val. PPL:   1.145 | val acc: 0.928 \n"
     ]
    },
    {
     "name": "stderr",
     "output_type": "stream",
     "text": [
      "Train: 100%|██████████| 766/766 [00:37<00:00, 20.26it/s]\n",
      "valid: 100%|██████████| 192/192 [00:06<00:00, 30.42it/s]\n",
      "valid:   8%|▊         | 4/48 [00:00<00:01, 32.25it/s]"
     ]
    },
    {
     "name": "stdout",
     "output_type": "stream",
     "text": [
      "-----exm-----\n",
      "['<SOS> you <EOS>', '<SOS> did <EOS>', '<SOS> what <EOS>', '<SOS> well done <EOS>', '<SOS> do to what me told just tom <EOS>', '<SOS> told him that he <EOS>', '<SOS> is <EOS>', \"<SOS> n't <EOS>\", \"<SOS> before here been 've <EOS>\", '<SOS> know <EOS>']\n",
      "['<SOS> you <EOS>', '<SOS> did <EOS>', '<SOS> what <EOS>', '<SOS> well done <EOS>', '<SOS> do to what me told just tom <EOS>', '<SOS> told him that he <EOS>', '<SOS> is <EOS>', \"<SOS> n't <EOS>\", \"<SOS> before here been 've <EOS>\", '<SOS> know <EOS>']\n"
     ]
    },
    {
     "name": "stderr",
     "output_type": "stream",
     "text": [
      "valid: 100%|██████████| 48/48 [00:01<00:00, 32.63it/s]\n",
      "Train:   0%|          | 2/766 [00:00<00:41, 18.51it/s]"
     ]
    },
    {
     "name": "stdout",
     "output_type": "stream",
     "text": [
      "-----exm-----\n",
      "[\"<SOS> n't that <EOS>\", '<SOS> tom <EOS>', '<SOS> asked mary so do <EOS>', '<SOS> said would do , i <EOS>', '<SOS> do , <EOS>', '<SOS> asked asked , do would said <EOS>', '<SOS> much time i <EOS>', '<SOS> do <EOS>', '<SOS> how time what <EOS>', '<SOS> i time <EOS>']\n",
      "[\"<SOS> n't that <EOS>\", '<SOS> tom <EOS>', '<SOS> mary i , <EOS>', '<SOS> said would do , i <EOS>', '<SOS> do , <EOS>', '<SOS> mary i , do would said <EOS>', '<SOS> much time i <EOS>', '<SOS> do <EOS>', '<SOS> how more do <EOS>', '<SOS> i time <EOS>']\n",
      "Epoch: 33 | Time: 0m 46s\n",
      "\tTrain Loss: 0.036 | Train PPL:   1.037\n",
      "\t Val. Loss: 0.130 |  Val. PPL:   1.139 | val acc: 0.930 \n"
     ]
    },
    {
     "name": "stderr",
     "output_type": "stream",
     "text": [
      "Train: 100%|██████████| 766/766 [00:37<00:00, 20.63it/s]\n",
      "valid: 100%|██████████| 192/192 [00:06<00:00, 31.75it/s]\n",
      "valid:   8%|▊         | 4/48 [00:00<00:01, 31.65it/s]"
     ]
    },
    {
     "name": "stdout",
     "output_type": "stream",
     "text": [
      "-----exm-----\n",
      "['<SOS> you <EOS>', '<SOS> did <EOS>', '<SOS> what <EOS>', '<SOS> well done <EOS>', '<SOS> do to what me told just tom <EOS>', '<SOS> told him that he <EOS>', '<SOS> is <EOS>', \"<SOS> n't <EOS>\", \"<SOS> before here been 've <EOS>\", '<SOS> know <EOS>']\n",
      "['<SOS> you <EOS>', '<SOS> did <EOS>', '<SOS> what <EOS>', '<SOS> well done <EOS>', '<SOS> do to what me told just tom <EOS>', '<SOS> told him that he <EOS>', '<SOS> is <EOS>', \"<SOS> n't <EOS>\", \"<SOS> before here been 've <EOS>\", '<SOS> know <EOS>']\n"
     ]
    },
    {
     "name": "stderr",
     "output_type": "stream",
     "text": [
      "valid: 100%|██████████| 48/48 [00:01<00:00, 31.63it/s]\n",
      "Train:   0%|          | 3/766 [00:00<00:34, 22.10it/s]"
     ]
    },
    {
     "name": "stdout",
     "output_type": "stream",
     "text": [
      "-----exm-----\n",
      "[\"<SOS> n't that <EOS>\", '<SOS> tom <EOS>', '<SOS> to asked so do <EOS>', '<SOS> said would do , i <EOS>', '<SOS> do , <EOS>', '<SOS> asked so , do would said <EOS>', '<SOS> much time we <EOS>', '<SOS> do <EOS>', '<SOS> how more what <EOS>', '<SOS> i time <EOS>']\n",
      "[\"<SOS> n't that <EOS>\", '<SOS> tom <EOS>', '<SOS> mary i , <EOS>', '<SOS> said would do , i <EOS>', '<SOS> do , <EOS>', '<SOS> mary i , do would said <EOS>', '<SOS> much time i <EOS>', '<SOS> do <EOS>', '<SOS> how more do <EOS>', '<SOS> i time <EOS>']\n",
      "Epoch: 34 | Time: 0m 45s\n",
      "\tTrain Loss: 0.033 | Train PPL:   1.033\n",
      "\t Val. Loss: 0.143 |  Val. PPL:   1.154 | val acc: 0.927 \n"
     ]
    },
    {
     "name": "stderr",
     "output_type": "stream",
     "text": [
      "Train: 100%|██████████| 766/766 [00:37<00:00, 20.59it/s]\n",
      "valid: 100%|██████████| 192/192 [00:06<00:00, 31.22it/s]\n",
      "valid:   8%|▊         | 4/48 [00:00<00:01, 32.85it/s]"
     ]
    },
    {
     "name": "stdout",
     "output_type": "stream",
     "text": [
      "-----exm-----\n",
      "['<SOS> you <EOS>', '<SOS> did <EOS>', '<SOS> what <EOS>', '<SOS> well done <EOS>', '<SOS> do to what me told just tom <EOS>', '<SOS> told him that he <EOS>', '<SOS> is <EOS>', \"<SOS> n't <EOS>\", \"<SOS> before here been 've <EOS>\", '<SOS> know <EOS>']\n",
      "['<SOS> you <EOS>', '<SOS> did <EOS>', '<SOS> what <EOS>', '<SOS> well done <EOS>', '<SOS> do to what me told just tom <EOS>', '<SOS> told him that he <EOS>', '<SOS> is <EOS>', \"<SOS> n't <EOS>\", \"<SOS> before here been 've <EOS>\", '<SOS> know <EOS>']\n"
     ]
    },
    {
     "name": "stderr",
     "output_type": "stream",
     "text": [
      "valid: 100%|██████████| 48/48 [00:01<00:00, 32.51it/s]\n",
      "Train:   0%|          | 0/766 [00:00<?, ?it/s]"
     ]
    },
    {
     "name": "stdout",
     "output_type": "stream",
     "text": [
      "-----exm-----\n",
      "[\"<SOS> n't that <EOS>\", '<SOS> tom <EOS>', '<SOS> me asked so <EOS>', '<SOS> said would do , i <EOS>', '<SOS> do so <EOS>', '<SOS> asked asked , that would said <EOS>', '<SOS> much time i <EOS>', '<SOS> do <EOS>', '<SOS> how more time <EOS>', '<SOS> i time <EOS>']\n",
      "[\"<SOS> n't that <EOS>\", '<SOS> tom <EOS>', '<SOS> mary i , <EOS>', '<SOS> said would do , i <EOS>', '<SOS> do , <EOS>', '<SOS> mary i , do would said <EOS>', '<SOS> much time i <EOS>', '<SOS> do <EOS>', '<SOS> how more do <EOS>', '<SOS> i time <EOS>']\n",
      "Epoch: 35 | Time: 0m 45s\n",
      "\tTrain Loss: 0.032 | Train PPL:   1.032\n",
      "\t Val. Loss: 0.131 |  Val. PPL:   1.140 | val acc: 0.931 \n"
     ]
    },
    {
     "name": "stderr",
     "output_type": "stream",
     "text": [
      "Train: 100%|██████████| 766/766 [00:36<00:00, 20.87it/s]\n",
      "valid: 100%|██████████| 192/192 [00:05<00:00, 32.64it/s]\n",
      "valid:   8%|▊         | 4/48 [00:00<00:01, 32.38it/s]"
     ]
    },
    {
     "name": "stdout",
     "output_type": "stream",
     "text": [
      "-----exm-----\n",
      "['<SOS> you <EOS>', '<SOS> did <EOS>', '<SOS> what <EOS>', '<SOS> well done <EOS>', '<SOS> do to what me told just tom <EOS>', '<SOS> told him that he <EOS>', '<SOS> is <EOS>', \"<SOS> n't <EOS>\", \"<SOS> before here been 've <EOS>\", '<SOS> know <EOS>']\n",
      "['<SOS> you <EOS>', '<SOS> did <EOS>', '<SOS> what <EOS>', '<SOS> well done <EOS>', '<SOS> do to what me told just tom <EOS>', '<SOS> told him that he <EOS>', '<SOS> is <EOS>', \"<SOS> n't <EOS>\", \"<SOS> before here been 've <EOS>\", '<SOS> know <EOS>']\n"
     ]
    },
    {
     "name": "stderr",
     "output_type": "stream",
     "text": [
      "valid: 100%|██████████| 48/48 [00:01<00:00, 31.08it/s]\n",
      "Train:   0%|          | 2/766 [00:00<00:42, 17.82it/s]"
     ]
    },
    {
     "name": "stdout",
     "output_type": "stream",
     "text": [
      "-----exm-----\n",
      "[\"<SOS> n't that <EOS>\", '<SOS> tom <EOS>', '<SOS> asked i so do <EOS>', '<SOS> said would do , i <EOS>', '<SOS> do so <EOS>', '<SOS> asked asked , do would said <EOS>', '<SOS> much time i <EOS>', '<SOS> do <EOS>', '<SOS> how time do <EOS>', '<SOS> i time <EOS>']\n",
      "[\"<SOS> n't that <EOS>\", '<SOS> tom <EOS>', '<SOS> mary i , <EOS>', '<SOS> said would do , i <EOS>', '<SOS> do , <EOS>', '<SOS> mary i , do would said <EOS>', '<SOS> much time i <EOS>', '<SOS> do <EOS>', '<SOS> how more do <EOS>', '<SOS> i time <EOS>']\n",
      "Epoch: 36 | Time: 0m 44s\n",
      "\tTrain Loss: 0.033 | Train PPL:   1.033\n",
      "\t Val. Loss: 0.141 |  Val. PPL:   1.151 | val acc: 0.925 \n"
     ]
    },
    {
     "name": "stderr",
     "output_type": "stream",
     "text": [
      "Train: 100%|██████████| 766/766 [00:36<00:00, 20.86it/s]\n",
      "valid: 100%|██████████| 192/192 [00:06<00:00, 30.95it/s]\n",
      "valid:   8%|▊         | 4/48 [00:00<00:01, 31.54it/s]"
     ]
    },
    {
     "name": "stdout",
     "output_type": "stream",
     "text": [
      "-----exm-----\n",
      "['<SOS> you <EOS>', '<SOS> did <EOS>', '<SOS> what <EOS>', '<SOS> well done <EOS>', '<SOS> do to what me told just tom <EOS>', '<SOS> told him that he <EOS>', '<SOS> is <EOS>', \"<SOS> n't <EOS>\", \"<SOS> before here been 've <EOS>\", '<SOS> know <EOS>']\n",
      "['<SOS> you <EOS>', '<SOS> did <EOS>', '<SOS> what <EOS>', '<SOS> well done <EOS>', '<SOS> do to what me told just tom <EOS>', '<SOS> told him that he <EOS>', '<SOS> is <EOS>', \"<SOS> n't <EOS>\", \"<SOS> before here been 've <EOS>\", '<SOS> know <EOS>']\n"
     ]
    },
    {
     "name": "stderr",
     "output_type": "stream",
     "text": [
      "valid: 100%|██████████| 48/48 [00:01<00:00, 27.99it/s]\n",
      "Train:   0%|          | 2/766 [00:00<00:39, 19.43it/s]"
     ]
    },
    {
     "name": "stdout",
     "output_type": "stream",
     "text": [
      "-----exm-----\n",
      "[\"<SOS> n't that <EOS>\", '<SOS> tom <EOS>', '<SOS> to mary , <EOS>', '<SOS> said would do , i <EOS>', '<SOS> do , <EOS>', '<SOS> asked mary , do would said <EOS>', '<SOS> much time i <EOS>', '<SOS> do <EOS>', '<SOS> how more time <EOS>', '<SOS> i time <EOS>']\n",
      "[\"<SOS> n't that <EOS>\", '<SOS> tom <EOS>', '<SOS> mary i , <EOS>', '<SOS> said would do , i <EOS>', '<SOS> do , <EOS>', '<SOS> mary i , do would said <EOS>', '<SOS> much time i <EOS>', '<SOS> do <EOS>', '<SOS> how more do <EOS>', '<SOS> i time <EOS>']\n",
      "Epoch: 37 | Time: 0m 45s\n",
      "\tTrain Loss: 0.031 | Train PPL:   1.032\n",
      "\t Val. Loss: 0.140 |  Val. PPL:   1.151 | val acc: 0.929 \n"
     ]
    },
    {
     "name": "stderr",
     "output_type": "stream",
     "text": [
      "Train: 100%|██████████| 766/766 [00:37<00:00, 20.60it/s]\n",
      "valid: 100%|██████████| 192/192 [00:05<00:00, 32.78it/s]\n",
      "valid:   8%|▊         | 4/48 [00:00<00:01, 31.97it/s]"
     ]
    },
    {
     "name": "stdout",
     "output_type": "stream",
     "text": [
      "-----exm-----\n",
      "['<SOS> you <EOS>', '<SOS> did <EOS>', '<SOS> what <EOS>', '<SOS> well done <EOS>', '<SOS> do to what me told just tom <EOS>', '<SOS> told him that he <EOS>', '<SOS> is <EOS>', \"<SOS> n't <EOS>\", \"<SOS> before here been 've <EOS>\", '<SOS> know <EOS>']\n",
      "['<SOS> you <EOS>', '<SOS> did <EOS>', '<SOS> what <EOS>', '<SOS> well done <EOS>', '<SOS> do to what me told just tom <EOS>', '<SOS> told him that he <EOS>', '<SOS> is <EOS>', \"<SOS> n't <EOS>\", \"<SOS> before here been 've <EOS>\", '<SOS> know <EOS>']\n"
     ]
    },
    {
     "name": "stderr",
     "output_type": "stream",
     "text": [
      "valid: 100%|██████████| 48/48 [00:01<00:00, 31.88it/s]\n",
      "Train:   0%|          | 3/766 [00:00<00:34, 22.14it/s]"
     ]
    },
    {
     "name": "stdout",
     "output_type": "stream",
     "text": [
      "-----exm-----\n",
      "[\"<SOS> n't that <EOS>\", '<SOS> tom <EOS>', \"<SOS> mary asked so n't <EOS>\", '<SOS> said would do , i <EOS>', '<SOS> do so <EOS>', '<SOS> asked mary , do did said <EOS>', '<SOS> much time i <EOS>', '<SOS> do <EOS>', '<SOS> how more i <EOS>', '<SOS> i time <EOS>']\n",
      "[\"<SOS> n't that <EOS>\", '<SOS> tom <EOS>', '<SOS> mary i , <EOS>', '<SOS> said would do , i <EOS>', '<SOS> do , <EOS>', '<SOS> mary i , do would said <EOS>', '<SOS> much time i <EOS>', '<SOS> do <EOS>', '<SOS> how more do <EOS>', '<SOS> i time <EOS>']\n",
      "Epoch: 38 | Time: 0m 45s\n",
      "\tTrain Loss: 0.030 | Train PPL:   1.031\n",
      "\t Val. Loss: 0.142 |  Val. PPL:   1.153 | val acc: 0.929 \n"
     ]
    },
    {
     "name": "stderr",
     "output_type": "stream",
     "text": [
      "Train: 100%|██████████| 766/766 [00:36<00:00, 21.13it/s]\n",
      "valid: 100%|██████████| 192/192 [00:05<00:00, 32.49it/s]\n",
      "valid:   8%|▊         | 4/48 [00:00<00:01, 32.19it/s]"
     ]
    },
    {
     "name": "stdout",
     "output_type": "stream",
     "text": [
      "-----exm-----\n",
      "['<SOS> you <EOS>', '<SOS> did <EOS>', '<SOS> what <EOS>', '<SOS> well done <EOS>', '<SOS> do to what me told just tom <EOS>', '<SOS> told him that he <EOS>', '<SOS> is <EOS>', \"<SOS> n't <EOS>\", \"<SOS> before here been 've <EOS>\", '<SOS> know <EOS>']\n",
      "['<SOS> you <EOS>', '<SOS> did <EOS>', '<SOS> what <EOS>', '<SOS> well done <EOS>', '<SOS> do to what me told just tom <EOS>', '<SOS> told him that he <EOS>', '<SOS> is <EOS>', \"<SOS> n't <EOS>\", \"<SOS> before here been 've <EOS>\", '<SOS> know <EOS>']\n"
     ]
    },
    {
     "name": "stderr",
     "output_type": "stream",
     "text": [
      "valid: 100%|██████████| 48/48 [00:01<00:00, 27.70it/s]\n",
      "Train:   0%|          | 3/766 [00:00<00:35, 21.57it/s]"
     ]
    },
    {
     "name": "stdout",
     "output_type": "stream",
     "text": [
      "-----exm-----\n",
      "['<SOS> do that <EOS>', '<SOS> tom <EOS>', '<SOS> asked i , so <EOS>', '<SOS> said would do , i <EOS>', '<SOS> do so <EOS>', '<SOS> asked asked , do would said <EOS>', '<SOS> much time i <EOS>', '<SOS> do <EOS>', '<SOS> how more i <EOS>', '<SOS> i time <EOS>']\n",
      "[\"<SOS> n't that <EOS>\", '<SOS> tom <EOS>', '<SOS> mary i , <EOS>', '<SOS> said would do , i <EOS>', '<SOS> do , <EOS>', '<SOS> mary i , do would said <EOS>', '<SOS> much time i <EOS>', '<SOS> do <EOS>', '<SOS> how more do <EOS>', '<SOS> i time <EOS>']\n",
      "Epoch: 39 | Time: 0m 44s\n",
      "\tTrain Loss: 0.031 | Train PPL:   1.031\n",
      "\t Val. Loss: 0.133 |  Val. PPL:   1.142 | val acc: 0.929 \n"
     ]
    },
    {
     "name": "stderr",
     "output_type": "stream",
     "text": [
      "Train: 100%|██████████| 766/766 [00:38<00:00, 20.16it/s]\n",
      "valid: 100%|██████████| 192/192 [00:05<00:00, 32.99it/s]\n",
      "valid:   8%|▊         | 4/48 [00:00<00:01, 33.25it/s]"
     ]
    },
    {
     "name": "stdout",
     "output_type": "stream",
     "text": [
      "-----exm-----\n",
      "['<SOS> you <EOS>', '<SOS> did <EOS>', '<SOS> what <EOS>', '<SOS> well done <EOS>', '<SOS> do to what me told just tom <EOS>', '<SOS> told him that he <EOS>', '<SOS> is <EOS>', \"<SOS> n't <EOS>\", \"<SOS> before here been 've <EOS>\", '<SOS> know <EOS>']\n",
      "['<SOS> you <EOS>', '<SOS> did <EOS>', '<SOS> what <EOS>', '<SOS> well done <EOS>', '<SOS> do to what me told just tom <EOS>', '<SOS> told him that he <EOS>', '<SOS> is <EOS>', \"<SOS> n't <EOS>\", \"<SOS> before here been 've <EOS>\", '<SOS> know <EOS>']\n"
     ]
    },
    {
     "name": "stderr",
     "output_type": "stream",
     "text": [
      "valid: 100%|██████████| 48/48 [00:01<00:00, 32.57it/s]\n"
     ]
    },
    {
     "name": "stdout",
     "output_type": "stream",
     "text": [
      "-----exm-----\n",
      "['<SOS> do , <EOS>', '<SOS> tom <EOS>', '<SOS> to mary so <EOS>', '<SOS> said would do , mary <EOS>', '<SOS> do so <EOS>', '<SOS> asked asked , do would said <EOS>', '<SOS> much time i <EOS>', '<SOS> do <EOS>', '<SOS> how more time <EOS>', '<SOS> i time <EOS>']\n",
      "[\"<SOS> n't that <EOS>\", '<SOS> tom <EOS>', '<SOS> mary i , <EOS>', '<SOS> said would do , i <EOS>', '<SOS> do , <EOS>', '<SOS> mary i , do would said <EOS>', '<SOS> much time i <EOS>', '<SOS> do <EOS>', '<SOS> how more do <EOS>', '<SOS> i time <EOS>']\n",
      "Epoch: 40 | Time: 0m 45s\n",
      "\tTrain Loss: 0.029 | Train PPL:   1.030\n",
      "\t Val. Loss: 0.136 |  Val. PPL:   1.145 | val acc: 0.934 \n"
     ]
    }
   ],
   "source": [
    "N_EPOCHS = 40\n",
    "CLIP = 1\n",
    "\n",
    "best_valid_loss = float('inf')\n",
    "best_valid_acc = -1\n",
    "train_lm_score = -1\n",
    "history = {'train':[],'val':[]}\n",
    "for epoch in range(N_EPOCHS):\n",
    "    start_time = time.time()\n",
    "    train_loss = train(model, optimizer, criterion, CLIP)\n",
    "    train_loss_2,predictions,acc = evaluate(model, criterion,train_set)\n",
    "    history['train'].append({'loss':train_loss,'acc':acc})\n",
    "    valid_loss,valid_predict,valid_acc = evaluate(model, criterion,test_set)\n",
    "    end_time = time.time()\n",
    "    epoch_mins, epoch_secs = epoch_time(start_time, end_time)\n",
    "    \n",
    "    if valid_acc > best_valid_acc:\n",
    "        best_valid_acc = valid_acc\n",
    "        torch.save(model, './output_final/dataset2/model_128_dp5_dense_LN2.pkl') \n",
    "    history['val'].append({'loss':valid_loss,'acc':valid_acc})\n",
    "    print(f'Epoch: {epoch+1:02} | Time: {epoch_mins}m {epoch_secs}s')\n",
    "#     print(f'\\tTrain Loss: {train_loss:.3f} | Train PPL: {math.exp(train_loss):7.3f} | Train acc: {acc:.3f}| val LM: {train_lm_score:.3f}')\n",
    "    print(f'\\tTrain Loss: {train_loss:.3f} | Train PPL: {math.exp(train_loss):7.3f}')\n",
    "    print(f'\\t Val. Loss: {valid_loss:.3f} |  Val. PPL: {math.exp(valid_loss):7.3f} | val acc: {valid_acc:.3f} ')"
   ]
  },
  {
   "cell_type": "code",
   "execution_count": 91,
   "metadata": {},
   "outputs": [
    {
     "data": {
      "text/plain": [
       "0"
      ]
     },
     "execution_count": 91,
     "metadata": {},
     "output_type": "execute_result"
    }
   ],
   "source": [
    "train_set.vocab.OOV"
   ]
  },
  {
   "cell_type": "code",
   "execution_count": 22,
   "metadata": {},
   "outputs": [],
   "source": [
    "import matplotlib.pyplot as plt\n",
    "%matplotlib inline\n",
    "def plot_hist(history):\n",
    "    train_loss = [l['loss'] for l in history['train']]\n",
    "    valid_loss = [l['loss'] for l in history['val']]\n",
    "    train_f1 = [l['acc'] for l in history['train']]\n",
    "    valid_f1 = [l['acc'] for l in history['val']]\n",
    "\n",
    "    plt.figure(figsize=(7,5))\n",
    "    plt.title('Loss')\n",
    "    plt.plot(train_loss, label='train')\n",
    "    plt.plot(valid_loss, label='valid')\n",
    "    plt.legend()\n",
    "    plt.show()\n",
    "\n",
    "    plt.figure(figsize=(7,5))\n",
    "    plt.title('acc')\n",
    "    plt.plot(train_f1, label='train')\n",
    "    plt.plot(valid_f1, label='valid')\n",
    "    plt.legend()\n",
    "    plt.show()\n",
    "\n",
    "    print('Best acc ', max([[l['acc'], idx] for idx, l in enumerate(history['val'])]))"
   ]
  },
  {
   "cell_type": "code",
   "execution_count": 95,
   "metadata": {},
   "outputs": [],
   "source": [
    "import pickle\n",
    "pickle.dump(history,open('./output_final/history_final.pkl','wb'))"
   ]
  },
  {
   "cell_type": "code",
   "execution_count": 34,
   "metadata": {},
   "outputs": [
    {
     "data": {
      "text/plain": [
       "{'train': [{'loss': 2.331152370588307, 'acc': 0.9393649335244064, 'lm': -1},\n",
       "  {'loss': 2.0850237941289964, 'acc': 0.9468304958071351, 'lm': -1},\n",
       "  {'loss': 2.0284336240161442, 'acc': 0.9543234848432904, 'lm': -1},\n",
       "  {'loss': 1.9979701880218481, 'acc': 0.9506140164423387, 'lm': -1},\n",
       "  {'loss': 1.9783137987972834, 'acc': 0.9532771542000644, 'lm': -1},\n",
       "  {'loss': 1.9628462804834823, 'acc': 0.9535212523055615, 'lm': -1},\n",
       "  {'loss': 1.9527147529584306, 'acc': 0.9531921312644419, 'lm': -1},\n",
       "  {'loss': 1.941058111458635, 'acc': 0.9540080771788841, 'lm': -1},\n",
       "  {'loss': 1.9341200902124278, 'acc': 0.9549309874316902, 'lm': -1},\n",
       "  {'loss': 1.926205194831334, 'acc': 0.9548939613145643, 'lm': -1}],\n",
       " 'val': [{'loss': 9.203364372253418, 'acc': 0.94, 'lm': 54.71903576136504},\n",
       "  {'loss': 9.289450645446777, 'acc': 0.96, 'lm': 54.71903576136504},\n",
       "  {'loss': 9.13467025756836, 'acc': 0.96, 'lm': 54.71903576136504},\n",
       "  {'loss': 9.402077674865723, 'acc': 0.97, 'lm': 54.71903576136504},\n",
       "  {'loss': 9.18008804321289, 'acc': 0.97, 'lm': 54.71903576136504},\n",
       "  {'loss': 9.446121215820312, 'acc': 0.96, 'lm': 54.71903576136504},\n",
       "  {'loss': 9.422471046447754, 'acc': 0.95, 'lm': 54.71903576136504},\n",
       "  {'loss': 9.449626922607422, 'acc': 0.96, 'lm': 54.71903576136504},\n",
       "  {'loss': 9.529511451721191, 'acc': 0.97, 'lm': 54.71903576136504},\n",
       "  {'loss': 9.316190719604492, 'acc': 0.95, 'lm': 54.71903576136504}]}"
      ]
     },
     "execution_count": 34,
     "metadata": {},
     "output_type": "execute_result"
    }
   ],
   "source": [
    "history"
   ]
  },
  {
   "cell_type": "code",
   "execution_count": 93,
   "metadata": {},
   "outputs": [],
   "source": [
    "vocab_save={}\n",
    "vocab_save['word2idx'] = train_set.vocab.word2idx; vocab_save['idx2word'] = train_set.vocab.idx2word\n",
    "vocab_save['num_words'] = train_set.vocab.num_words\n",
    "pickle.dump(vocab_save,open('./output_final/vocab_final.pkl','wb'))"
   ]
  },
  {
   "cell_type": "code",
   "execution_count": 12,
   "metadata": {},
   "outputs": [
    {
     "name": "stderr",
     "output_type": "stream",
     "text": [
      "valid:   0%|          | 0/48 [00:00<?, ?it/s]/root/anaconda3/lib/python3.6/site-packages/ipykernel_launcher.py:52: UserWarning: To copy construct from a tensor, it is recommended to use sourceTensor.clone().detach() or sourceTensor.clone().detach().requires_grad_(True), rather than torch.tensor(sourceTensor).\n",
      "valid: 100%|██████████| 48/48 [00:01<00:00, 27.45it/s]\n"
     ]
    },
    {
     "name": "stdout",
     "output_type": "stream",
     "text": [
      "-----exm-----\n",
      "['<SOS> do , <EOS>', '<SOS> tom <EOS>', '<SOS> to mary so <EOS>', '<SOS> said would do , mary <EOS>', '<SOS> do so <EOS>', '<SOS> asked asked , do would said <EOS>', '<SOS> much time i <EOS>', '<SOS> do <EOS>', '<SOS> how more time <EOS>', '<SOS> i time <EOS>']\n",
      "[\"<SOS> n't that <EOS>\", '<SOS> tom <EOS>', '<SOS> mary i , <EOS>', '<SOS> said would do , i <EOS>', '<SOS> do , <EOS>', '<SOS> mary i , do would said <EOS>', '<SOS> much time i <EOS>', '<SOS> do <EOS>', '<SOS> how more do <EOS>', '<SOS> i time <EOS>']\n",
      "24510 0.9336597307221542\n"
     ]
    }
   ],
   "source": [
    "vocab = Vocabulary()\n",
    "vocab_dic = pickle.load(open('./output_final/vocab_final.pkl','rb'))\n",
    "vocab.word2idx = vocab_dic['word2idx']; vocab.idx2word = vocab_dic['idx2word']\n",
    "vocab.num_words = vocab_dic['num_words']\n",
    "model_load = torch.load(open('./output_final/model_final_9336.pkl','rb'))\n",
    "# test_set = TestData(data_dir+'hw2.1-1_sample_testing_data.txt',max_length=train_set.max_length,vocab=vocab)\n",
    "criterion = nn.CrossEntropyLoss(ignore_index = test_set.PAD_ID)\n",
    "valid_loss,valid_predict,valid_acc = evaluate(model_load, criterion,test_set)\n",
    "print(len(valid_predict),valid_acc)\n",
    "# f_out = open('./output/task2_1_1_sample_predictions.txt','w')\n",
    "# for row in valid_predict:\n",
    "#     f_out.write(row+'\\n')\n",
    "# f_out.close()"
   ]
  },
  {
   "cell_type": "code",
   "execution_count": 33,
   "metadata": {},
   "outputs": [
    {
     "name": "stdout",
     "output_type": "stream",
     "text": [
      "98040\n",
      "0.7814973480212158\n"
     ]
    }
   ],
   "source": [
    "print(len(valid_predict))\n",
    "print(valid_acc)"
   ]
  },
  {
   "cell_type": "code",
   "execution_count": null,
   "metadata": {},
   "outputs": [],
   "source": []
  }
 ],
 "metadata": {
  "accelerator": "GPU",
  "colab": {
   "collapsed_sections": [],
   "name": "Untitled1.ipynb",
   "provenance": []
  },
  "kernelspec": {
   "display_name": "Python 3",
   "language": "python",
   "name": "python3"
  },
  "language_info": {
   "codemirror_mode": {
    "name": "ipython",
    "version": 3
   },
   "file_extension": ".py",
   "mimetype": "text/x-python",
   "name": "python",
   "nbconvert_exporter": "python",
   "pygments_lexer": "ipython3",
   "version": "3.6.9"
  }
 },
 "nbformat": 4,
 "nbformat_minor": 1
}
