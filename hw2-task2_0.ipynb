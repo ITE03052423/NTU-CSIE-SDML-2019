{
 "cells": [
  {
   "cell_type": "code",
   "execution_count": 1,
   "metadata": {
    "colab": {},
    "colab_type": "code",
    "id": "OyQOo0f65daB"
   },
   "outputs": [],
   "source": [
    "import torch\n",
    "import torch.nn as nn\n",
    "import torch.optim as optim\n",
    "\n",
    "# import spacy\n",
    "\n",
    "import random\n",
    "import math\n",
    "import time"
   ]
  },
  {
   "cell_type": "code",
   "execution_count": 0,
   "metadata": {
    "colab": {
     "base_uri": "https://localhost:8080/",
     "height": 122
    },
    "colab_type": "code",
    "id": "QSDd_y5E6rSe",
    "outputId": "bb8bbbe8-5ef5-4f63-b322-1da8639ef00f"
   },
   "outputs": [
    {
     "name": "stdout",
     "output_type": "stream",
     "text": [
      "Go to this URL in a browser: https://accounts.google.com/o/oauth2/auth?client_id=947318989803-6bn6qk8qdgf4n4g3pfee6491hc0brc4i.apps.googleusercontent.com&redirect_uri=urn%3Aietf%3Awg%3Aoauth%3A2.0%3Aoob&scope=email%20https%3A%2F%2Fwww.googleapis.com%2Fauth%2Fdocs.test%20https%3A%2F%2Fwww.googleapis.com%2Fauth%2Fdrive%20https%3A%2F%2Fwww.googleapis.com%2Fauth%2Fdrive.photos.readonly%20https%3A%2F%2Fwww.googleapis.com%2Fauth%2Fpeopleapi.readonly&response_type=code\n",
      "\n",
      "Enter your authorization code:\n",
      "··········\n",
      "Mounted at /content/drive\n"
     ]
    }
   ],
   "source": [
    "from google.colab import drive\n",
    "drive.mount('/content/drive')"
   ]
  },
  {
   "cell_type": "code",
   "execution_count": 2,
   "metadata": {
    "colab": {},
    "colab_type": "code",
    "id": "nQsfWxm26sGU"
   },
   "outputs": [],
   "source": [
    "data_dir = './'\n",
    "proj_dir = './'"
   ]
  },
  {
   "cell_type": "code",
   "execution_count": 0,
   "metadata": {
    "colab": {},
    "colab_type": "code",
    "id": "I2xqCoKA6yzL"
   },
   "outputs": [],
   "source": [
    "!cp '/content/drive/My Drive/sdml/HW2/model/Decoder.py' .\n",
    "!cp '/content/drive/My Drive/sdml/HW2/model/Encoder.py' .\n",
    "!cp '/content/drive/My Drive/sdml/HW2/model/Seq2Seq.py' ."
   ]
  },
  {
   "cell_type": "code",
   "execution_count": 3,
   "metadata": {
    "colab": {},
    "colab_type": "code",
    "id": "Tx8u7Nsf63L5"
   },
   "outputs": [],
   "source": [
    "OOV_list = []\n",
    "OOV=0\n",
    "class Vocabulary(object):\n",
    "\n",
    "    def __init__(self):\n",
    "        self.word2idx = {'<sos>': 0, '<eos>': 1, '<pad>': 2, '<unk>': 3}\n",
    "        self.idx2word = {0: '<sos>', 1: '<eos>', 2: '<pad>', 3: '<unk>'}\n",
    "        self.num_words = 4\n",
    "#         self.max_length = 0\n",
    "#         self.sent_list = []\n",
    "\n",
    "    def build_vocab(self, data_path):\n",
    "        \"\"\"Construct the relation between words and indices\"\"\"\n",
    "        with open(data_path, 'r', encoding='utf-8') as dataset:\n",
    "            for words in dataset:\n",
    "                words = words.strip('\\n').split(' ')\n",
    "\n",
    "#                 self.sent_list.append(words)\n",
    "#                 if self.max_length < len(words):\n",
    "#                     self.max_length = len(words)\n",
    "\n",
    "#                 chars = self.split_sequence(word)\n",
    "                for word in words:\n",
    "                    word = word.lower()\n",
    "                    if word not in self.word2idx:\n",
    "                        self.word2idx[word] = self.num_words\n",
    "                        self.idx2word[self.num_words] = word\n",
    "                        self.num_words += 1\n",
    "\n",
    "    def sequence_to_indices(self, sequence, add_eos=False, add_sos=False):\n",
    "        \"\"\"Transform a char sequence to index sequence\n",
    "            :param sequence: a string composed with chars\n",
    "            :param add_eos: if true, add the <EOS> tag at the end of given sentence\n",
    "            :param add_sos: if true, add the <SOS> tag at the beginning of given sentence\n",
    "        \"\"\"\n",
    "        index_sequence = [self.word2idx['<sos>']] if add_sos else []\n",
    "\n",
    "        for word in sequence:\n",
    "            word = word.lower()\n",
    "            if word not in self.word2idx:\n",
    "                OOV+=1\n",
    "                OOV_list.append(word)\n",
    "                print(\"!!!!\")\n",
    "                index_sequence.append((self.word2idx['<unk>']))\n",
    "            else:\n",
    "                index_sequence.append(self.word2idx[word])\n",
    "\n",
    "        if add_eos:\n",
    "            index_sequence.append(self.word2idx['<eos>'])\n",
    "\n",
    "        return index_sequence\n",
    "\n",
    "    def indices_to_sequence(self, indices):\n",
    "        \"\"\"Transform a list of indices\n",
    "            :param indices: a list\n",
    "        \"\"\"\n",
    "        sequence = []\n",
    "        for idx in indices:\n",
    "            word = self.idx2word[idx]\n",
    "            if word == \"<eos>\":\n",
    "                sequence.append(word)\n",
    "                break\n",
    "            else:\n",
    "                sequence.append(word)\n",
    "        return ' '.join(sequence)\n",
    "\n",
    "    def __str__(self):\n",
    "        str = \"Vocab information:\\n\"\n",
    "        for idx, word in self.idx2word.items():\n",
    "            str += \"word: %s Index: %d\\n\" % (word, idx)\n",
    "        return str"
   ]
  },
  {
   "cell_type": "code",
   "execution_count": 4,
   "metadata": {
    "colab": {},
    "colab_type": "code",
    "id": "jKj7rJox7S4S"
   },
   "outputs": [],
   "source": [
    "from torch.utils.data import DataLoader, Dataset, SequentialSampler, RandomSampler\n",
    "import torch.nn.utils.rnn as rnn_utils\n",
    "class MyData(Dataset):\n",
    "    def __init__(self, path,vocab=None):\n",
    "        self.src_indices_seq = []\n",
    "        self.trg_indices_seq = []\n",
    "        if vocab == None:\n",
    "            self.vocab = Vocabulary()\n",
    "            self.vocab.build_vocab(path)\n",
    "        else:\n",
    "            self.vocab = vocab\n",
    "        self.PAD_ID = self.vocab.word2idx[\"<pad>\"]\n",
    "        self.SOS_ID = self.vocab.word2idx[\"<sos>\"]\n",
    "        self.vocab_size = self.vocab.num_words\n",
    "        self.max_length = -1\n",
    "        self.raw_data = []\n",
    "#         self.max_length = self.vocab.max_length\n",
    "        file=open(path, 'r', encoding='utf-8')\n",
    "        for words in file:\n",
    "            words = [i.lower() for i in words.strip('\\n').split(' ')]\n",
    "            self.raw_data.append(words)\n",
    "            if self.max_length < len(words):\n",
    "                self.max_length = len(words)\n",
    "            \n",
    "        for sent in self.raw_data:\n",
    "            indices_seq = self.vocab.sequence_to_indices(sent, add_eos=False)\n",
    "            # input and target are the same in auto-encoder\n",
    "            self.src_indices_seq.append(torch.tensor(indices_seq))\n",
    "            self.trg_indices_seq.append(torch.tensor(indices_seq))\n",
    "        self.src_indices_seq = rnn_utils.pad_sequence(self.src_indices_seq, batch_first=True, padding_value=self.PAD_ID)\n",
    "        self.trg_indices_seq = rnn_utils.pad_sequence(self.trg_indices_seq, batch_first=True, padding_value=self.PAD_ID)\n",
    "        print(\"## J: Total examples: %d, unique words:%d, Max seq length: %d\"%(len(self.src_indices_seq),self.vocab_size,self.max_length))\n",
    "    # def collate_fn(data):\n",
    "    #     data = rnn_utils.pad_sequence(data, batch_first=True, padding_value=0)\n",
    "    #     return data\n",
    "    def __len__(self):\n",
    "        return len(self.src_indices_seq)\n",
    "\n",
    "    def __getitem__(self, idx):\n",
    "        return torch.tensor(self.src_indices_seq[idx]), torch.tensor(self.trg_indices_seq[idx])\n"
   ]
  },
  {
   "cell_type": "code",
   "execution_count": 5,
   "metadata": {
    "colab": {
     "base_uri": "https://localhost:8080/",
     "height": 51
    },
    "colab_type": "code",
    "id": "bff9czp3--Yi",
    "outputId": "9313241a-7162-4017-d517-d7658263c931"
   },
   "outputs": [
    {
     "name": "stdout",
     "output_type": "stream",
     "text": [
      "## J: Total examples: 382785, unique words:19738, Max seq length: 13\n",
      "## J: Total examples: 20425, unique words:19738, Max seq length: 16\n"
     ]
    }
   ],
   "source": [
    "train_set = MyData(data_dir+'train.txt')\n",
    "test_set = MyData(data_dir+'200_vocab_dataset.txt',vocab=train_set.vocab)"
   ]
  },
  {
   "cell_type": "code",
   "execution_count": 0,
   "metadata": {
    "colab": {
     "base_uri": "https://localhost:8080/",
     "height": 54
    },
    "colab_type": "code",
    "id": "YBBaKs6X_Vuh",
    "outputId": "167d5044-2be5-4603-e4a7-f11735444afe"
   },
   "outputs": [
    {
     "name": "stderr",
     "output_type": "stream",
     "text": [
      "/usr/local/lib/python3.6/dist-packages/ipykernel_launcher.py:28: UserWarning: To copy construct from a tensor, it is recommended to use sourceTensor.clone().detach() or sourceTensor.clone().detach().requires_grad_(True), rather than torch.tensor(sourceTensor).\n"
     ]
    }
   ],
   "source": [
    "# data_loader = DataLoader(train_set, batch_size=4, shuffle=True)\n",
    "# batch_x = iter(data_loader).next()"
   ]
  },
  {
   "cell_type": "code",
   "execution_count": 7,
   "metadata": {
    "colab": {
     "base_uri": "https://localhost:8080/",
     "height": 34
    },
    "colab_type": "code",
    "id": "TG5fZtia_oIg",
    "outputId": "4df17636-02aa-4be8-8163-136c5a25cf79"
   },
   "outputs": [
    {
     "ename": "NameError",
     "evalue": "name 'batch_x' is not defined",
     "output_type": "error",
     "traceback": [
      "\u001b[0;31m---------------------------------------------------------------------------\u001b[0m",
      "\u001b[0;31mNameError\u001b[0m                                 Traceback (most recent call last)",
      "\u001b[0;32m<ipython-input-7-2d531559feb4>\u001b[0m in \u001b[0;36m<module>\u001b[0;34m\u001b[0m\n\u001b[0;32m----> 1\u001b[0;31m \u001b[0mbatch_x\u001b[0m\u001b[0;34m[\u001b[0m\u001b[0;36m0\u001b[0m\u001b[0;34m]\u001b[0m\u001b[0;34m.\u001b[0m\u001b[0mshape\u001b[0m\u001b[0;34m\u001b[0m\u001b[0;34m\u001b[0m\u001b[0m\n\u001b[0m\u001b[1;32m      2\u001b[0m \u001b[0;31m# train_set.src_indices_seq.size()\u001b[0m\u001b[0;34m\u001b[0m\u001b[0;34m\u001b[0m\u001b[0;34m\u001b[0m\u001b[0m\n",
      "\u001b[0;31mNameError\u001b[0m: name 'batch_x' is not defined"
     ]
    }
   ],
   "source": [
    "batch_x[0].shape\n",
    "# train_set.src_indices_seq.size()"
   ]
  },
  {
   "cell_type": "code",
   "execution_count": 6,
   "metadata": {
    "colab": {},
    "colab_type": "code",
    "id": "SKE9EQD1GVZd"
   },
   "outputs": [],
   "source": [
    "SEED = 1234\n",
    "\n",
    "random.seed(SEED)\n",
    "torch.manual_seed(SEED)\n",
    "torch.backends.cudnn.deterministic = True"
   ]
  },
  {
   "cell_type": "code",
   "execution_count": 7,
   "metadata": {
    "colab": {},
    "colab_type": "code",
    "id": "Ts8gDQj_G0WR"
   },
   "outputs": [],
   "source": [
    "device = torch.device('cuda')"
   ]
  },
  {
   "cell_type": "code",
   "execution_count": 8,
   "metadata": {
    "colab": {},
    "colab_type": "code",
    "id": "yqD0fuycHB58"
   },
   "outputs": [],
   "source": [
    "class Encoder(nn.Module):\n",
    "    def __init__(self, input_dim, emb_dim, hid_dim, n_layers, dropout):\n",
    "        super().__init__()\n",
    "        \n",
    "        self.hid_dim = hid_dim\n",
    "        self.n_layers = n_layers\n",
    "        \n",
    "#         self.embedding = nn.Embedding(input_dim, emb_dim)\n",
    "        \n",
    "        # self.rnn = nn.LSTM(emb_dim, hid_dim, n_layers, dropout = dropout)\n",
    "        self.gru = nn.GRU(emb_dim, hid_dim, n_layers, dropout = dropout,batch_first=True)\n",
    "        self.dropout = nn.Dropout(dropout)\n",
    "        \n",
    "    def forward(self, src):\n",
    "        \n",
    "        #src = [src sent len, batch size]\n",
    "        \n",
    "#         embedded = self.dropout(self.embedding(src))\n",
    "        embedded = self.dropout(src)\n",
    "        \n",
    "        #embedded = [src sent len, batch size, emb dim]\n",
    "        \n",
    "        # outputs, (hidden, cell) = self.rnn(embedded)\n",
    "        outputs, hidden = self.gru(embedded)\n",
    "        \n",
    "        #outputs = [src sent len, batch size, hid dim * n directions]\n",
    "        #hidden = [n layers * n directions, batch size, hid dim]\n",
    "        #cell = [n layers * n directions, batch size, hid dim]\n",
    "        \n",
    "        #outputs are always from the top hidden layer\n",
    "        \n",
    "        return hidden"
   ]
  },
  {
   "cell_type": "code",
   "execution_count": 9,
   "metadata": {
    "colab": {},
    "colab_type": "code",
    "id": "VsCJvpPOIR4m"
   },
   "outputs": [],
   "source": [
    "class Decoder(nn.Module):\n",
    "    def __init__(self, output_dim, emb_dim, hid_dim, n_layers, dropout):\n",
    "        super().__init__()\n",
    "        \n",
    "        self.output_dim = output_dim\n",
    "        self.hid_dim = hid_dim\n",
    "        self.n_layers = n_layers\n",
    "        \n",
    "#         self.embedding = nn.Embedding(output_dim, emb_dim)\n",
    "        \n",
    "        # self.rnn = nn.LSTM(emb_dim, hid_dim, n_layers, dropout = dropout)\n",
    "        self.gru = nn.GRU(emb_dim, hid_dim, n_layers, dropout = dropout,batch_first=True)\n",
    "        \n",
    "        self.out = nn.Linear(hid_dim, output_dim)\n",
    "        \n",
    "        self.dropout = nn.Dropout(dropout)\n",
    "        \n",
    "    def forward(self, input, hidden):\n",
    "        \n",
    "        #input = [batch size]\n",
    "        #hidden = [n layers * n directions, batch size, hid dim]\n",
    "        #cell = [n layers * n directions, batch size, hid dim]\n",
    "        \n",
    "        #n directions in the decoder will both always be 1, therefore:\n",
    "        #hidden = [n layers, batch size, hid dim]\n",
    "        #context = [n layers, batch size, hid dim]\n",
    "        \n",
    "#         input = input.unsqueeze(1)\n",
    "        \n",
    "#         #input = [1, batch size]\n",
    "        \n",
    "#         embedded = self.dropout(self.embedding(input))\n",
    "        embedded = self.dropout(input)\n",
    "        \n",
    "        #embedded = [1, batch size, emb dim]\n",
    "                \n",
    "        # output, (hidden, cell) = self.rnn(embedded, (hidden, cell))\n",
    "        output, hidden = self.gru(embedded,hidden)\n",
    "        \n",
    "        #output = [sent len, batch size, hid dim * n directions]\n",
    "        #hidden = [n layers * n directions, batch size, hid dim]\n",
    "        #cell = [n layers * n directions, batch size, hid dim]\n",
    "        \n",
    "        #sent len and n directions will always be 1 in the decoder, therefore:\n",
    "        #output = [1, batch size, hid dim]\n",
    "        #hidden = [n layers, batch size, hid dim]\n",
    "        #cell = [n layers, batch size, hid dim]\n",
    "        \n",
    "        prediction = self.out(output.squeeze(1))\n",
    "        \n",
    "        #prediction = [batch size, output dim]\n",
    "        \n",
    "        return prediction, hidden"
   ]
  },
  {
   "cell_type": "code",
   "execution_count": 10,
   "metadata": {
    "colab": {},
    "colab_type": "code",
    "id": "c31CMiWMJCFh"
   },
   "outputs": [],
   "source": [
    "class Seq2Seq(nn.Module):\n",
    "    def __init__(self, encoder, decoder, device,output_dim, emb_dim):\n",
    "        super().__init__()\n",
    "        self.embedding = nn.Embedding(output_dim, emb_dim)\n",
    "        self.encoder = encoder\n",
    "        self.decoder = decoder\n",
    "        self.device = device\n",
    "        \n",
    "        assert encoder.hid_dim == decoder.hid_dim, \\\n",
    "            \"Hidden dimensions of encoder and decoder must be equal!\"\n",
    "        assert encoder.n_layers == decoder.n_layers, \\\n",
    "            \"Encoder and decoder must have equal number of layers!\"\n",
    "        \n",
    "    def forward(self, src, trg, teacher_forcing_ratio = 0.5):\n",
    "        \n",
    "        #src = [src sent len, batch size]\n",
    "        #trg = [trg sent len, batch size]\n",
    "        #teacher_forcing_ratio is probability to use teacher forcing\n",
    "        #e.g. if teacher_forcing_ratio is 0.75 we use ground-truth inputs 75% of the time\n",
    "        \n",
    "        batch_size = trg.shape[0]\n",
    "        max_len = trg.shape[1]\n",
    "        trg_vocab_size = self.decoder.output_dim\n",
    "        \n",
    "        #tensor to store decoder outputs\n",
    "#         outputs = torch.zeros(max_len, batch_size, trg_vocab_size).to(self.device)\n",
    "        outputs = torch.zeros(batch_size, max_len, trg_vocab_size).to(self.device)\n",
    "        outputs_idx = torch.zeros(batch_size, max_len-1)\n",
    "\n",
    "        #last hidden state of the encoder is used as the initial hidden state of the decoder\n",
    "#         hidden = self.encoder(src)\n",
    "        embedded = self.embedding(src)\n",
    "        hidden = self.encoder(embedded)\n",
    "        \n",
    "        #first input to the decoder is the <sos> tokens\n",
    "        input = trg[:,0]\n",
    "        \n",
    "        for t in range(1, max_len):\n",
    "            \n",
    "            #insert input token embedding, previous hidden and previous cell states\n",
    "            #receive output tensor (predictions) and new hidden and cell states\n",
    "#             output, hidden= self.decoder(input, hidden)\n",
    "            input = input.unsqueeze(1)\n",
    "            embedded = self.embedding(input)\n",
    "            output, hidden= self.decoder(embedded, hidden)\n",
    "            \n",
    "            #place predictions in a tensor holding predictions for each token\n",
    "            outputs[:,t,:] = output\n",
    "            \n",
    "            #decide if we are going to use teacher forcing or not\n",
    "            teacher_force = random.random() < teacher_forcing_ratio\n",
    "            \n",
    "            #get the highest predicted token from our predictions\n",
    "            top1 = output.argmax(1)\n",
    "            outputs_idx[:,t-1] = top1\n",
    "            \n",
    "            #if teacher forcing, use actual next token as next input\n",
    "            #if not, use predicted token\n",
    "            input = trg[:,t] if teacher_force else top1\n",
    "        \n",
    "        return outputs,outputs_idx"
   ]
  },
  {
   "cell_type": "code",
   "execution_count": 11,
   "metadata": {
    "colab": {},
    "colab_type": "code",
    "id": "guiNdiVZJ4ia"
   },
   "outputs": [],
   "source": [
    "INPUT_DIM = train_set.vocab_size\n",
    "OUTPUT_DIM = train_set.vocab_size\n",
    "ENC_EMB_DIM = 256\n",
    "DEC_EMB_DIM = 256\n",
    "HID_DIM = 512\n",
    "N_LAYERS = 1\n",
    "ENC_DROPOUT = 0\n",
    "DEC_DROPOUT = 0\n",
    "\n",
    "enc = Encoder(INPUT_DIM, ENC_EMB_DIM, HID_DIM, N_LAYERS, ENC_DROPOUT)\n",
    "dec = Decoder(OUTPUT_DIM, DEC_EMB_DIM, HID_DIM, N_LAYERS, DEC_DROPOUT)\n",
    "\n",
    "model = Seq2Seq(enc, dec, device,INPUT_DIM, ENC_EMB_DIM).to(device)"
   ]
  },
  {
   "cell_type": "code",
   "execution_count": 12,
   "metadata": {
    "colab": {
     "base_uri": "https://localhost:8080/",
     "height": 238
    },
    "colab_type": "code",
    "id": "h4-SE_JSKqfv",
    "outputId": "07663fc1-75a3-4945-f80f-59a6fb6a1d5a"
   },
   "outputs": [
    {
     "data": {
      "text/plain": [
       "Seq2Seq(\n",
       "  (embedding): Embedding(19738, 256)\n",
       "  (encoder): Encoder(\n",
       "    (gru): GRU(256, 512, batch_first=True)\n",
       "    (dropout): Dropout(p=0, inplace=False)\n",
       "  )\n",
       "  (decoder): Decoder(\n",
       "    (gru): GRU(256, 512, batch_first=True)\n",
       "    (out): Linear(in_features=512, out_features=19738, bias=True)\n",
       "    (dropout): Dropout(p=0, inplace=False)\n",
       "  )\n",
       ")"
      ]
     },
     "execution_count": 12,
     "metadata": {},
     "output_type": "execute_result"
    }
   ],
   "source": [
    "def init_weights(m):\n",
    "    for name, param in m.named_parameters():\n",
    "        nn.init.uniform_(param.data, -0.08, 0.08)\n",
    "        \n",
    "model.apply(init_weights)"
   ]
  },
  {
   "cell_type": "code",
   "execution_count": 13,
   "metadata": {
    "colab": {
     "base_uri": "https://localhost:8080/",
     "height": 34
    },
    "colab_type": "code",
    "id": "4zSS9lLcKuM_",
    "outputId": "5f644f9d-6108-41e7-dee5-3c518e73897d"
   },
   "outputs": [
    {
     "name": "stdout",
     "output_type": "stream",
     "text": [
      "The model has 17,543,962 trainable parameters\n"
     ]
    }
   ],
   "source": [
    "def count_parameters(model):\n",
    "    return sum(p.numel() for p in model.parameters() if p.requires_grad)\n",
    "\n",
    "print(f'The model has {count_parameters(model):,} trainable parameters')"
   ]
  },
  {
   "cell_type": "code",
   "execution_count": 14,
   "metadata": {
    "colab": {},
    "colab_type": "code",
    "id": "JYTHv4rWKwi2"
   },
   "outputs": [],
   "source": [
    "optimizer = optim.Adam(model.parameters())"
   ]
  },
  {
   "cell_type": "code",
   "execution_count": 15,
   "metadata": {
    "colab": {},
    "colab_type": "code",
    "id": "ql0jyibYK0ih"
   },
   "outputs": [],
   "source": [
    "criterion = nn.CrossEntropyLoss(ignore_index = train_set.PAD_ID)"
   ]
  },
  {
   "cell_type": "code",
   "execution_count": 16,
   "metadata": {
    "colab": {},
    "colab_type": "code",
    "id": "mcEuKqL5LCXL"
   },
   "outputs": [],
   "source": [
    "from tqdm import tqdm, trange\n",
    "def train(model, optimizer, criterion, clip):\n",
    "    model.train()\n",
    "    \n",
    "    epoch_loss = 0\n",
    "    batch_size = 128\n",
    "    data_loader = DataLoader(train_set, batch_size=batch_size, shuffle=True)\n",
    "    trange = tqdm(enumerate(data_loader), total=len(data_loader),desc='Train')\n",
    "    for step,batch in trange:\n",
    "        # print(step)\n",
    "        src = batch[0]\n",
    "        trg = batch[1]\n",
    "        src = src.to(device)\n",
    "        trg = trg.to(device)       \n",
    "        optimizer.zero_grad()\n",
    "        # print(trg.size())\n",
    "        output,output_idx = model(src, trg)\n",
    "        \n",
    "        #trg = [trg sent len, batch size]\n",
    "        #output = [trg sent len, batch size, output dim]\n",
    "        \n",
    "        output = output[:,1:].reshape(-1, output.shape[-1])\n",
    "        trg = trg[:,1:].reshape(-1)\n",
    "        \n",
    "        #trg = [(trg sent len - 1) * batch size]\n",
    "        #output = [(trg sent len - 1) * batch size, output dim]\n",
    "        \n",
    "        loss = criterion(output, trg)\n",
    "        \n",
    "        loss.backward()\n",
    "        \n",
    "        torch.nn.utils.clip_grad_norm_(model.parameters(), clip)\n",
    "        \n",
    "        optimizer.step()\n",
    "        \n",
    "        epoch_loss += loss.item()\n",
    "    return epoch_loss / len(data_loader)\n"
   ]
  },
  {
   "cell_type": "code",
   "execution_count": 17,
   "metadata": {
    "colab": {},
    "colab_type": "code",
    "id": "WEnMgjnlOATV"
   },
   "outputs": [],
   "source": [
    "def decode_string(output,dataset):\n",
    "    results = []\n",
    "    trg = []\n",
    "    correct = 0\n",
    "    for i,seq in enumerate(output):\n",
    "        results.append('<sos> '+dataset.vocab.indices_to_sequence(seq))\n",
    "        trg.append(' '.join(dataset.raw_data[i]))\n",
    "        if results[-1] == trg[-1]:\n",
    "            correct+=1\n",
    "    print('-----exm-----')\n",
    "    print(results[:10])\n",
    "    print(trg[:10])\n",
    "    return results, correct/len(output)\n",
    "\n",
    "def evaluate(model,criterion,dataset):\n",
    "    prediction = []\n",
    "    model.eval()\n",
    "    \n",
    "    epoch_loss = 0\n",
    "    data_loader = DataLoader(dataset, batch_size=128, shuffle=False)\n",
    "    trange = tqdm(enumerate(data_loader), total=len(data_loader),desc='valid')\n",
    "    for step, batch in trange:\n",
    "        src = batch[0]\n",
    "        trg = batch[1]\n",
    "        src = src.to(device)\n",
    "        trg = trg.to(device)\n",
    "        with torch.no_grad():\n",
    "            output,output_idx = model(src, trg, 0) #turn off teacher forcing\n",
    "            prediction.append(output_idx.to('cpu'))\n",
    "\n",
    "            #trg = [trg sent len, batch size]\n",
    "            #output = [trg sent len, batch size, output dim]\n",
    "\n",
    "            output = output[:,1:].reshape(-1, output.shape[-1])\n",
    "            trg = trg[:,1:].reshape(-1)\n",
    "\n",
    "            #trg = [(trg sent len - 1) * batch size]\n",
    "            #output = [(trg sent len - 1) * batch size, output dim]\n",
    "\n",
    "            loss = criterion(output, trg)\n",
    "\n",
    "            epoch_loss += loss.item()\n",
    "    prediction = torch.cat(prediction).detach().numpy().astype(int)\n",
    "    prediction,acc = decode_string(prediction,dataset)\n",
    "    return epoch_loss / len(data_loader),prediction,acc"
   ]
  },
  {
   "cell_type": "code",
   "execution_count": 18,
   "metadata": {
    "colab": {},
    "colab_type": "code",
    "id": "vNToEQa1NCoC"
   },
   "outputs": [],
   "source": [
    "def epoch_time(start_time, end_time):\n",
    "    elapsed_time = end_time - start_time\n",
    "    elapsed_mins = int(elapsed_time / 60)\n",
    "    elapsed_secs = int(elapsed_time - (elapsed_mins * 60))\n",
    "    return elapsed_mins, elapsed_secs"
   ]
  },
  {
   "cell_type": "code",
   "execution_count": 19,
   "metadata": {
    "colab": {
     "base_uri": "https://localhost:8080/",
     "height": 1000
    },
    "colab_type": "code",
    "id": "1WH3st1fPIJN",
    "outputId": "3427a5eb-a2ac-437f-b918-cf545b28b358"
   },
   "outputs": [
    {
     "name": "stderr",
     "output_type": "stream",
     "text": [
      "Train:   0%|          | 0/2991 [00:00<?, ?it/s]/root/anaconda3/lib/python3.6/site-packages/ipykernel_launcher.py:40: UserWarning: To copy construct from a tensor, it is recommended to use sourceTensor.clone().detach() or sourceTensor.clone().detach().requires_grad_(True), rather than torch.tensor(sourceTensor).\n",
      "Train: 100%|██████████| 2991/2991 [06:55<00:00,  7.20it/s]\n",
      "valid: 100%|██████████| 2991/2991 [03:37<00:00, 13.78it/s]\n",
      "valid:   1%|▏         | 2/160 [00:00<00:13, 11.53it/s]"
     ]
    },
    {
     "name": "stdout",
     "output_type": "stream",
     "text": [
      "-----exm-----\n",
      "['<sos> tom seemed annoyed <eos>', '<sos> i was celebrating <eos>', '<sos> please behave windsurfing <eos>', \"<sos> who 's overreacting <eos>\", '<sos> i like australia <eos>', '<sos> conditions all devastating <eos>', '<sos> tom fired me <eos>', \"<sos> tom 's interesting <eos>\", '<sos> it was marvelous <eos>', \"<sos> you 're wise <eos>\"]\n",
      "['<sos> tom seemed annoyed <eos>', '<sos> i was enthusiastic <eos>', '<sos> please behave prudently <eos>', \"<sos> who 's overreacting <eos>\", '<sos> i like australia <eos>', '<sos> heed all warnings <eos>', '<sos> tom fired me <eos>', \"<sos> tom 's interesting <eos>\", '<sos> it was marvelous <eos>', \"<sos> you 're wise <eos>\"]\n"
     ]
    },
    {
     "name": "stderr",
     "output_type": "stream",
     "text": [
      "valid: 100%|██████████| 160/160 [00:13<00:00, 11.44it/s]\n",
      "/root/anaconda3/lib/python3.6/site-packages/torch/serialization.py:256: UserWarning: Couldn't retrieve source code for container of type Seq2Seq. It won't be checked for correctness upon loading.\n",
      "  \"type \" + obj.__name__ + \". It won't be checked \"\n",
      "/root/anaconda3/lib/python3.6/site-packages/torch/serialization.py:256: UserWarning: Couldn't retrieve source code for container of type Encoder. It won't be checked for correctness upon loading.\n",
      "  \"type \" + obj.__name__ + \". It won't be checked \"\n",
      "/root/anaconda3/lib/python3.6/site-packages/torch/serialization.py:256: UserWarning: Couldn't retrieve source code for container of type Decoder. It won't be checked for correctness upon loading.\n",
      "  \"type \" + obj.__name__ + \". It won't be checked \"\n",
      "Train:   0%|          | 0/2991 [00:00<?, ?it/s]"
     ]
    },
    {
     "name": "stdout",
     "output_type": "stream",
     "text": [
      "-----exm-----\n",
      "['<sos> you know me <eos>', \"<sos> i 'll leave <eos>\", \"<sos> we 'll see <eos>\", '<sos> they were right <eos>', \"<sos> do n't speak <eos>\", '<sos> they know something <eos>', '<sos> who told tom <eos>', '<sos> is that all <eos>', '<sos> you made it <eos>', '<sos> tom is back <eos>']\n",
      "['<sos> you know me <eos>', \"<sos> i 'll leave <eos>\", \"<sos> we 'll see <eos>\", '<sos> they were right <eos>', \"<sos> do n't speak <eos>\", '<sos> they know something <eos>', '<sos> who told tom <eos>', '<sos> is that all <eos>', '<sos> you made it <eos>', '<sos> tom is back <eos>']\n",
      "Epoch: 01 | Time: 10m 49s\n",
      "\tTrain Loss: 1.624 | Train PPL:   5.073 | Train acc: 0.742\n",
      "\t Val. Loss: 2.767 |  Val. PPL:  15.910 | Train acc: 0.201\n"
     ]
    },
    {
     "name": "stderr",
     "output_type": "stream",
     "text": [
      "Train: 100%|██████████| 2991/2991 [07:02<00:00,  7.09it/s]\n",
      "valid: 100%|██████████| 2991/2991 [03:37<00:00, 13.74it/s]\n",
      "valid:   1%|▏         | 2/160 [00:00<00:13, 11.38it/s]"
     ]
    },
    {
     "name": "stdout",
     "output_type": "stream",
     "text": [
      "-----exm-----\n",
      "['<sos> tom seemed annoyed <eos>', '<sos> i was enthusiastic <eos>', '<sos> please behave upon <eos>', \"<sos> who 's overreacting <eos>\", '<sos> i like australia <eos>', '<sos> knead all warnings <eos>', '<sos> tom fired me <eos>', \"<sos> tom 's interesting <eos>\", '<sos> it was marvelous <eos>', \"<sos> you 're wise <eos>\"]\n",
      "['<sos> tom seemed annoyed <eos>', '<sos> i was enthusiastic <eos>', '<sos> please behave prudently <eos>', \"<sos> who 's overreacting <eos>\", '<sos> i like australia <eos>', '<sos> heed all warnings <eos>', '<sos> tom fired me <eos>', \"<sos> tom 's interesting <eos>\", '<sos> it was marvelous <eos>', \"<sos> you 're wise <eos>\"]\n"
     ]
    },
    {
     "name": "stderr",
     "output_type": "stream",
     "text": [
      "valid: 100%|██████████| 160/160 [00:14<00:00, 11.29it/s]\n",
      "Train:   0%|          | 0/2991 [00:00<?, ?it/s]"
     ]
    },
    {
     "name": "stdout",
     "output_type": "stream",
     "text": [
      "-----exm-----\n",
      "['<sos> you know me <eos>', \"<sos> i 'll leave <eos>\", \"<sos> we 'll see <eos>\", '<sos> they were right <eos>', \"<sos> do n't speak <eos>\", '<sos> they know something <eos>', '<sos> who told tom <eos>', '<sos> is that all <eos>', '<sos> you made it <eos>', '<sos> tom is back <eos>']\n",
      "['<sos> you know me <eos>', \"<sos> i 'll leave <eos>\", \"<sos> we 'll see <eos>\", '<sos> they were right <eos>', \"<sos> do n't speak <eos>\", '<sos> they know something <eos>', '<sos> who told tom <eos>', '<sos> is that all <eos>', '<sos> you made it <eos>', '<sos> tom is back <eos>']\n",
      "Epoch: 02 | Time: 10m 56s\n",
      "\tTrain Loss: 0.227 | Train PPL:   1.255 | Train acc: 0.909\n",
      "\t Val. Loss: 2.270 |  Val. PPL:   9.676 | Train acc: 0.353\n"
     ]
    },
    {
     "name": "stderr",
     "output_type": "stream",
     "text": [
      "Train: 100%|██████████| 2991/2991 [07:03<00:00,  7.06it/s]\n",
      "valid: 100%|██████████| 2991/2991 [03:38<00:00, 13.67it/s]\n",
      "valid:   1%|▏         | 2/160 [00:00<00:14, 11.28it/s]"
     ]
    },
    {
     "name": "stdout",
     "output_type": "stream",
     "text": [
      "-----exm-----\n",
      "['<sos> tom seemed annoyed <eos>', '<sos> i was enthusiastic <eos>', '<sos> please behave <eos>', \"<sos> who 's overreacting <eos>\", '<sos> i like australia <eos>', '<sos> heed all warnings <eos>', '<sos> tom fired me <eos>', \"<sos> tom 's interesting <eos>\", '<sos> it was marvelous <eos>', \"<sos> you 're wise <eos>\"]\n",
      "['<sos> tom seemed annoyed <eos>', '<sos> i was enthusiastic <eos>', '<sos> please behave prudently <eos>', \"<sos> who 's overreacting <eos>\", '<sos> i like australia <eos>', '<sos> heed all warnings <eos>', '<sos> tom fired me <eos>', \"<sos> tom 's interesting <eos>\", '<sos> it was marvelous <eos>', \"<sos> you 're wise <eos>\"]\n"
     ]
    },
    {
     "name": "stderr",
     "output_type": "stream",
     "text": [
      "valid: 100%|██████████| 160/160 [00:14<00:00, 11.24it/s]\n",
      "Train:   0%|          | 0/2991 [00:00<?, ?it/s]"
     ]
    },
    {
     "name": "stdout",
     "output_type": "stream",
     "text": [
      "-----exm-----\n",
      "['<sos> you know me <eos>', \"<sos> i 'll leave <eos>\", \"<sos> we 'll see <eos>\", '<sos> they were right <eos>', \"<sos> do n't speak <eos>\", '<sos> they know something <eos>', '<sos> who told tom <eos>', '<sos> is that all <eos>', '<sos> you made it <eos>', '<sos> tom is back <eos>']\n",
      "['<sos> you know me <eos>', \"<sos> i 'll leave <eos>\", \"<sos> we 'll see <eos>\", '<sos> they were right <eos>', \"<sos> do n't speak <eos>\", '<sos> they know something <eos>', '<sos> who told tom <eos>', '<sos> is that all <eos>', '<sos> you made it <eos>', '<sos> tom is back <eos>']\n",
      "Epoch: 03 | Time: 10m 59s\n",
      "\tTrain Loss: 0.097 | Train PPL:   1.102 | Train acc: 0.950\n",
      "\t Val. Loss: 1.406 |  Val. PPL:   4.082 | Train acc: 0.594\n"
     ]
    },
    {
     "name": "stderr",
     "output_type": "stream",
     "text": [
      "Train: 100%|██████████| 2991/2991 [06:52<00:00,  7.25it/s]\n",
      "valid: 100%|██████████| 2991/2991 [03:36<00:00, 13.80it/s]\n",
      "valid:   1%|▏         | 2/160 [00:00<00:13, 11.59it/s]"
     ]
    },
    {
     "name": "stdout",
     "output_type": "stream",
     "text": [
      "-----exm-----\n",
      "['<sos> tom seemed annoyed <eos>', '<sos> i was enthusiastic <eos>', '<sos> please behave prudently <eos>', \"<sos> who 's overreacting <eos>\", '<sos> i like australia <eos>', '<sos> heed all warnings <eos>', '<sos> tom fired me <eos>', \"<sos> tom 's interesting <eos>\", '<sos> it was marvelous <eos>', \"<sos> you 're wise <eos>\"]\n",
      "['<sos> tom seemed annoyed <eos>', '<sos> i was enthusiastic <eos>', '<sos> please behave prudently <eos>', \"<sos> who 's overreacting <eos>\", '<sos> i like australia <eos>', '<sos> heed all warnings <eos>', '<sos> tom fired me <eos>', \"<sos> tom 's interesting <eos>\", '<sos> it was marvelous <eos>', \"<sos> you 're wise <eos>\"]\n"
     ]
    },
    {
     "name": "stderr",
     "output_type": "stream",
     "text": [
      "valid: 100%|██████████| 160/160 [00:14<00:00, 11.28it/s]\n",
      "Train:   0%|          | 0/2991 [00:00<?, ?it/s]"
     ]
    },
    {
     "name": "stdout",
     "output_type": "stream",
     "text": [
      "-----exm-----\n",
      "['<sos> you know me <eos>', \"<sos> i 'll leave <eos>\", \"<sos> we 'll see <eos>\", '<sos> they were right <eos>', \"<sos> do n't speak <eos>\", '<sos> they know something <eos>', '<sos> who told tom <eos>', '<sos> is that all <eos>', '<sos> you made it <eos>', '<sos> tom is back <eos>']\n",
      "['<sos> you know me <eos>', \"<sos> i 'll leave <eos>\", \"<sos> we 'll see <eos>\", '<sos> they were right <eos>', \"<sos> do n't speak <eos>\", '<sos> they know something <eos>', '<sos> who told tom <eos>', '<sos> is that all <eos>', '<sos> you made it <eos>', '<sos> tom is back <eos>']\n",
      "Epoch: 04 | Time: 10m 46s\n",
      "\tTrain Loss: 0.054 | Train PPL:   1.055 | Train acc: 0.961\n",
      "\t Val. Loss: 1.127 |  Val. PPL:   3.087 | Train acc: 0.715\n"
     ]
    },
    {
     "name": "stderr",
     "output_type": "stream",
     "text": [
      "Train: 100%|██████████| 2991/2991 [06:57<00:00,  7.17it/s]\n",
      "valid: 100%|██████████| 2991/2991 [03:35<00:00, 13.87it/s]\n",
      "valid:   1%|▏         | 2/160 [00:00<00:13, 11.49it/s]"
     ]
    },
    {
     "name": "stdout",
     "output_type": "stream",
     "text": [
      "-----exm-----\n",
      "['<sos> tom seemed annoyed <eos>', '<sos> i was enthusiastic <eos>', '<sos> please behave prudently <eos>', \"<sos> who 's overreacting <eos>\", '<sos> i like australia <eos>', '<sos> heed all warnings <eos>', '<sos> tom fired me <eos>', \"<sos> tom 's interesting <eos>\", '<sos> it was marvelous <eos>', \"<sos> you 're wise <eos>\"]\n",
      "['<sos> tom seemed annoyed <eos>', '<sos> i was enthusiastic <eos>', '<sos> please behave prudently <eos>', \"<sos> who 's overreacting <eos>\", '<sos> i like australia <eos>', '<sos> heed all warnings <eos>', '<sos> tom fired me <eos>', \"<sos> tom 's interesting <eos>\", '<sos> it was marvelous <eos>', \"<sos> you 're wise <eos>\"]\n"
     ]
    },
    {
     "name": "stderr",
     "output_type": "stream",
     "text": [
      "valid: 100%|██████████| 160/160 [00:13<00:00, 11.44it/s]\n",
      "Train:   0%|          | 0/2991 [00:00<?, ?it/s]"
     ]
    },
    {
     "name": "stdout",
     "output_type": "stream",
     "text": [
      "-----exm-----\n",
      "['<sos> you know me <eos>', \"<sos> i 'll leave <eos>\", \"<sos> we 'll see <eos>\", '<sos> they were right <eos>', \"<sos> do n't speak <eos>\", '<sos> they know something <eos>', '<sos> who told tom <eos>', '<sos> is that all <eos>', '<sos> you made it <eos>', '<sos> tom is back <eos>']\n",
      "['<sos> you know me <eos>', \"<sos> i 'll leave <eos>\", \"<sos> we 'll see <eos>\", '<sos> they were right <eos>', \"<sos> do n't speak <eos>\", '<sos> they know something <eos>', '<sos> who told tom <eos>', '<sos> is that all <eos>', '<sos> you made it <eos>', '<sos> tom is back <eos>']\n",
      "Epoch: 05 | Time: 10m 49s\n",
      "\tTrain Loss: 0.036 | Train PPL:   1.037 | Train acc: 0.970\n",
      "\t Val. Loss: 1.096 |  Val. PPL:   2.991 | Train acc: 0.721\n"
     ]
    },
    {
     "name": "stderr",
     "output_type": "stream",
     "text": [
      "Train: 100%|██████████| 2991/2991 [07:00<00:00,  7.11it/s]\n",
      "valid: 100%|██████████| 2991/2991 [03:34<00:00, 13.95it/s]\n",
      "valid:   1%|▏         | 2/160 [00:00<00:13, 11.58it/s]"
     ]
    },
    {
     "name": "stdout",
     "output_type": "stream",
     "text": [
      "-----exm-----\n",
      "['<sos> tom seemed annoyed <eos>', '<sos> i was enthusiastic <eos>', '<sos> please behave prudently <eos>', \"<sos> who 's overreacting <eos>\", '<sos> i like australia <eos>', '<sos> heed all warnings <eos>', '<sos> tom fired me <eos>', \"<sos> tom 's interesting <eos>\", '<sos> it was marvelous <eos>', \"<sos> you 're wise <eos>\"]\n",
      "['<sos> tom seemed annoyed <eos>', '<sos> i was enthusiastic <eos>', '<sos> please behave prudently <eos>', \"<sos> who 's overreacting <eos>\", '<sos> i like australia <eos>', '<sos> heed all warnings <eos>', '<sos> tom fired me <eos>', \"<sos> tom 's interesting <eos>\", '<sos> it was marvelous <eos>', \"<sos> you 're wise <eos>\"]\n"
     ]
    },
    {
     "name": "stderr",
     "output_type": "stream",
     "text": [
      "valid: 100%|██████████| 160/160 [00:14<00:00, 11.34it/s]\n",
      "Train:   0%|          | 0/2991 [00:00<?, ?it/s]"
     ]
    },
    {
     "name": "stdout",
     "output_type": "stream",
     "text": [
      "-----exm-----\n",
      "['<sos> you know me <eos>', \"<sos> i 'll leave <eos>\", \"<sos> we 'll see <eos>\", '<sos> they were right <eos>', \"<sos> do n't speak <eos>\", '<sos> they know something <eos>', '<sos> who told tom <eos>', '<sos> is that all <eos>', '<sos> you made it <eos>', '<sos> tom is back <eos>']\n",
      "['<sos> you know me <eos>', \"<sos> i 'll leave <eos>\", \"<sos> we 'll see <eos>\", '<sos> they were right <eos>', \"<sos> do n't speak <eos>\", '<sos> they know something <eos>', '<sos> who told tom <eos>', '<sos> is that all <eos>', '<sos> you made it <eos>', '<sos> tom is back <eos>']\n",
      "Epoch: 06 | Time: 10m 51s\n",
      "\tTrain Loss: 0.029 | Train PPL:   1.029 | Train acc: 0.970\n",
      "\t Val. Loss: 1.022 |  Val. PPL:   2.780 | Train acc: 0.728\n"
     ]
    },
    {
     "name": "stderr",
     "output_type": "stream",
     "text": [
      "Train: 100%|██████████| 2991/2991 [06:54<00:00,  7.21it/s]\n",
      "valid: 100%|██████████| 2991/2991 [03:36<00:00, 13.80it/s]\n",
      "valid:   1%|▏         | 2/160 [00:00<00:13, 11.57it/s]"
     ]
    },
    {
     "name": "stdout",
     "output_type": "stream",
     "text": [
      "-----exm-----\n",
      "['<sos> tom seemed annoyed <eos>', '<sos> i was enthusiastic <eos>', '<sos> please behave prudently <eos>', \"<sos> who 's overreacting <eos>\", '<sos> i like australia <eos>', '<sos> heed all warnings <eos>', '<sos> tom fired me <eos>', \"<sos> tom 's interesting <eos>\", '<sos> it was marvelous <eos>', \"<sos> you 're wise <eos>\"]\n",
      "['<sos> tom seemed annoyed <eos>', '<sos> i was enthusiastic <eos>', '<sos> please behave prudently <eos>', \"<sos> who 's overreacting <eos>\", '<sos> i like australia <eos>', '<sos> heed all warnings <eos>', '<sos> tom fired me <eos>', \"<sos> tom 's interesting <eos>\", '<sos> it was marvelous <eos>', \"<sos> you 're wise <eos>\"]\n"
     ]
    },
    {
     "name": "stderr",
     "output_type": "stream",
     "text": [
      "valid: 100%|██████████| 160/160 [00:14<00:00, 11.13it/s]\n",
      "Train:   0%|          | 1/2991 [00:00<08:03,  6.19it/s]"
     ]
    },
    {
     "name": "stdout",
     "output_type": "stream",
     "text": [
      "-----exm-----\n",
      "['<sos> you know me <eos>', \"<sos> i 'll leave <eos>\", \"<sos> we 'll see <eos>\", '<sos> they were right <eos>', \"<sos> do n't speak <eos>\", '<sos> they know something <eos>', '<sos> who told tom <eos>', '<sos> is that all <eos>', '<sos> you made it <eos>', '<sos> tom is back <eos>']\n",
      "['<sos> you know me <eos>', \"<sos> i 'll leave <eos>\", \"<sos> we 'll see <eos>\", '<sos> they were right <eos>', \"<sos> do n't speak <eos>\", '<sos> they know something <eos>', '<sos> who told tom <eos>', '<sos> is that all <eos>', '<sos> you made it <eos>', '<sos> tom is back <eos>']\n",
      "Epoch: 07 | Time: 10m 48s\n",
      "\tTrain Loss: 0.026 | Train PPL:   1.026 | Train acc: 0.967\n",
      "\t Val. Loss: 1.114 |  Val. PPL:   3.046 | Train acc: 0.726\n"
     ]
    },
    {
     "name": "stderr",
     "output_type": "stream",
     "text": [
      "Train: 100%|██████████| 2991/2991 [06:55<00:00,  7.20it/s]\n",
      "valid: 100%|██████████| 2991/2991 [03:36<00:00, 13.80it/s]\n",
      "valid:   1%|▏         | 2/160 [00:00<00:13, 11.70it/s]"
     ]
    },
    {
     "name": "stdout",
     "output_type": "stream",
     "text": [
      "-----exm-----\n",
      "['<sos> tom seemed annoyed <eos>', '<sos> i was enthusiastic <eos>', '<sos> please behave prudently <eos>', \"<sos> who 's overreacting <eos>\", '<sos> i like australia <eos>', '<sos> heed all warnings <eos>', '<sos> tom fired me <eos>', \"<sos> tom 's interesting <eos>\", '<sos> it was marvelous <eos>', \"<sos> you 're wise <eos>\"]\n",
      "['<sos> tom seemed annoyed <eos>', '<sos> i was enthusiastic <eos>', '<sos> please behave prudently <eos>', \"<sos> who 's overreacting <eos>\", '<sos> i like australia <eos>', '<sos> heed all warnings <eos>', '<sos> tom fired me <eos>', \"<sos> tom 's interesting <eos>\", '<sos> it was marvelous <eos>', \"<sos> you 're wise <eos>\"]\n"
     ]
    },
    {
     "name": "stderr",
     "output_type": "stream",
     "text": [
      "valid: 100%|██████████| 160/160 [00:14<00:00, 11.39it/s]\n",
      "Train:   0%|          | 0/2991 [00:00<?, ?it/s]"
     ]
    },
    {
     "name": "stdout",
     "output_type": "stream",
     "text": [
      "-----exm-----\n",
      "['<sos> you know me <eos>', \"<sos> i 'll leave <eos>\", \"<sos> we 'll see <eos>\", '<sos> they were right <eos>', \"<sos> do n't speak <eos>\", '<sos> they know something <eos>', '<sos> who told tom <eos>', '<sos> is that all <eos>', '<sos> you made it <eos>', '<sos> tom is back <eos>']\n",
      "['<sos> you know me <eos>', \"<sos> i 'll leave <eos>\", \"<sos> we 'll see <eos>\", '<sos> they were right <eos>', \"<sos> do n't speak <eos>\", '<sos> they know something <eos>', '<sos> who told tom <eos>', '<sos> is that all <eos>', '<sos> you made it <eos>', '<sos> tom is back <eos>']\n",
      "Epoch: 08 | Time: 10m 48s\n",
      "\tTrain Loss: 0.023 | Train PPL:   1.023 | Train acc: 0.973\n",
      "\t Val. Loss: 1.017 |  Val. PPL:   2.764 | Train acc: 0.732\n"
     ]
    },
    {
     "name": "stderr",
     "output_type": "stream",
     "text": [
      "Train: 100%|██████████| 2991/2991 [07:01<00:00,  7.10it/s]\n",
      "valid: 100%|██████████| 2991/2991 [03:35<00:00, 13.88it/s]\n",
      "valid:   1%|▏         | 2/160 [00:00<00:13, 11.56it/s]"
     ]
    },
    {
     "name": "stdout",
     "output_type": "stream",
     "text": [
      "-----exm-----\n",
      "['<sos> tom seemed annoyed <eos>', '<sos> i was enthusiastic <eos>', '<sos> please behave prudently <eos>', \"<sos> who 's overreacting <eos>\", '<sos> i like australia <eos>', '<sos> heed all warnings <eos>', '<sos> tom fired me <eos>', \"<sos> tom 's interesting <eos>\", '<sos> it was marvelous <eos>', \"<sos> you 're wise <eos>\"]\n",
      "['<sos> tom seemed annoyed <eos>', '<sos> i was enthusiastic <eos>', '<sos> please behave prudently <eos>', \"<sos> who 's overreacting <eos>\", '<sos> i like australia <eos>', '<sos> heed all warnings <eos>', '<sos> tom fired me <eos>', \"<sos> tom 's interesting <eos>\", '<sos> it was marvelous <eos>', \"<sos> you 're wise <eos>\"]\n"
     ]
    },
    {
     "name": "stderr",
     "output_type": "stream",
     "text": [
      "valid: 100%|██████████| 160/160 [00:14<00:00, 11.08it/s]\n",
      "Train:   0%|          | 1/2991 [00:00<07:59,  6.24it/s]"
     ]
    },
    {
     "name": "stdout",
     "output_type": "stream",
     "text": [
      "-----exm-----\n",
      "['<sos> you know me <eos>', \"<sos> i 'll leave <eos>\", \"<sos> we 'll see <eos>\", '<sos> they were right <eos>', \"<sos> do n't speak <eos>\", '<sos> they know something <eos>', '<sos> who told tom <eos>', '<sos> is that all <eos>', '<sos> you made it <eos>', '<sos> tom is back <eos>']\n",
      "['<sos> you know me <eos>', \"<sos> i 'll leave <eos>\", \"<sos> we 'll see <eos>\", '<sos> they were right <eos>', \"<sos> do n't speak <eos>\", '<sos> they know something <eos>', '<sos> who told tom <eos>', '<sos> is that all <eos>', '<sos> you made it <eos>', '<sos> tom is back <eos>']\n",
      "Epoch: 09 | Time: 10m 53s\n",
      "\tTrain Loss: 0.022 | Train PPL:   1.022 | Train acc: 0.962\n",
      "\t Val. Loss: 1.080 |  Val. PPL:   2.945 | Train acc: 0.733\n"
     ]
    },
    {
     "name": "stderr",
     "output_type": "stream",
     "text": [
      "Train: 100%|██████████| 2991/2991 [06:55<00:00,  7.20it/s]\n",
      "valid: 100%|██████████| 2991/2991 [03:33<00:00, 13.98it/s]\n",
      "valid:   1%|▏         | 2/160 [00:00<00:13, 11.52it/s]"
     ]
    },
    {
     "name": "stdout",
     "output_type": "stream",
     "text": [
      "-----exm-----\n",
      "['<sos> tom seemed annoyed <eos>', '<sos> i was enthusiastic <eos>', '<sos> please behave prudently <eos>', \"<sos> who 's overreacting <eos>\", '<sos> i like australia <eos>', '<sos> heed all warnings <eos>', '<sos> tom fired me <eos>', \"<sos> tom 's interesting <eos>\", '<sos> it was marvelous <eos>', \"<sos> you 're wise <eos>\"]\n",
      "['<sos> tom seemed annoyed <eos>', '<sos> i was enthusiastic <eos>', '<sos> please behave prudently <eos>', \"<sos> who 's overreacting <eos>\", '<sos> i like australia <eos>', '<sos> heed all warnings <eos>', '<sos> tom fired me <eos>', \"<sos> tom 's interesting <eos>\", '<sos> it was marvelous <eos>', \"<sos> you 're wise <eos>\"]\n"
     ]
    },
    {
     "name": "stderr",
     "output_type": "stream",
     "text": [
      "valid: 100%|██████████| 160/160 [00:14<00:00, 11.39it/s]\n"
     ]
    },
    {
     "name": "stdout",
     "output_type": "stream",
     "text": [
      "-----exm-----\n",
      "['<sos> you know me <eos>', \"<sos> i 'll leave <eos>\", \"<sos> we 'll see <eos>\", '<sos> they were right <eos>', \"<sos> do n't speak <eos>\", '<sos> they know something <eos>', '<sos> who told tom <eos>', '<sos> is that all <eos>', '<sos> you made it <eos>', '<sos> tom is back <eos>']\n",
      "['<sos> you know me <eos>', \"<sos> i 'll leave <eos>\", \"<sos> we 'll see <eos>\", '<sos> they were right <eos>', \"<sos> do n't speak <eos>\", '<sos> they know something <eos>', '<sos> who told tom <eos>', '<sos> is that all <eos>', '<sos> you made it <eos>', '<sos> tom is back <eos>']\n",
      "Epoch: 10 | Time: 10m 46s\n",
      "\tTrain Loss: 0.020 | Train PPL:   1.020 | Train acc: 0.974\n",
      "\t Val. Loss: 1.050 |  Val. PPL:   2.857 | Train acc: 0.737\n"
     ]
    }
   ],
   "source": [
    "N_EPOCHS = 10\n",
    "CLIP = 1\n",
    "\n",
    "best_valid_loss = float('inf')\n",
    "best_valid_acc = 0\n",
    "history = {'train':[],'val':[]}\n",
    "\n",
    "for epoch in range(N_EPOCHS):\n",
    "    \n",
    "    start_time = time.time()\n",
    "    \n",
    "    train_loss = train(model, optimizer, criterion, CLIP)\n",
    "    train_loss_2,predictions,acc = evaluate(model, criterion,train_set)\n",
    "    history['train'].append({'loss':train_loss,'acc':acc})\n",
    "    valid_loss,valid_predict,valid_acc = evaluate(model, criterion,test_set)\n",
    "    end_time = time.time()\n",
    "    \n",
    "    epoch_mins, epoch_secs = epoch_time(start_time, end_time)\n",
    "    \n",
    "    if valid_loss < best_valid_loss:\n",
    "        best_valid_loss = valid_loss\n",
    "        torch.save(model, 'model_'+str(int(valid_acc*10000))+'.pkl') \n",
    "        torch.save(model.state_dict(), 'param_'+str(int(valid_acc*10000))+'.pt')\n",
    "    history['val'].append({'loss':valid_loss,'acc':valid_acc})\n",
    "    print(f'Epoch: {epoch+1:02} | Time: {epoch_mins}m {epoch_secs}s')\n",
    "    print(f'\\tTrain Loss: {train_loss:.3f} | Train PPL: {math.exp(train_loss):7.3f} | Train acc: {acc:.3f}')\n",
    "    print(f'\\t Val. Loss: {valid_loss:.3f} |  Val. PPL: {math.exp(valid_loss):7.3f} | Train acc: {valid_acc:.3f}')"
   ]
  },
  {
   "cell_type": "code",
   "execution_count": 20,
   "metadata": {
    "colab": {},
    "colab_type": "code",
    "id": "VcLqtCltrpgf"
   },
   "outputs": [
    {
     "data": {
      "text/plain": [
       "{'train': [{'loss': 1.623956356866429, 'acc': 0.7423253262275168},\n",
       "  {'loss': 0.22696194058425528, 'acc': 0.9092467050694254},\n",
       "  {'loss': 0.09705644825847701, 'acc': 0.9500006531081416},\n",
       "  {'loss': 0.05352617025005453, 'acc': 0.9614274331543817},\n",
       "  {'loss': 0.035866831190166704, 'acc': 0.9699909871076453},\n",
       "  {'loss': 0.028789088557670792, 'acc': 0.9700536854892433},\n",
       "  {'loss': 0.025988047706808327, 'acc': 0.9666470734224173},\n",
       "  {'loss': 0.022813581867549546, 'acc': 0.9734602975560693},\n",
       "  {'loss': 0.021725931917670624, 'acc': 0.9621301775147929},\n",
       "  {'loss': 0.019985367443109886, 'acc': 0.9740507073161174}],\n",
       " 'val': [{'loss': 2.766957180562895, 'acc': 0.20122399020807832},\n",
       "  {'loss': 2.2696548412000994, 'acc': 0.35290085679314565},\n",
       "  {'loss': 1.4064702002659033, 'acc': 0.5935862913096696},\n",
       "  {'loss': 1.1270683588234534, 'acc': 0.7147613219094248},\n",
       "  {'loss': 1.0957045394850866, 'acc': 0.7210771113831089},\n",
       "  {'loss': 1.0223493266442347, 'acc': 0.7279314565483476},\n",
       "  {'loss': 1.1138126049925632, 'acc': 0.7259241126070991},\n",
       "  {'loss': 1.0165496573609745, 'acc': 0.7320440636474909},\n",
       "  {'loss': 1.0802026204377397, 'acc': 0.7327294981640147},\n",
       "  {'loss': 1.0497494746554366, 'acc': 0.7371848225214198}]}"
      ]
     },
     "execution_count": 20,
     "metadata": {},
     "output_type": "execute_result"
    }
   ],
   "source": [
    "import pickle\n",
    "pickle.dump(history,open('history1.pkl','wb'))\n",
    "history"
   ]
  },
  {
   "cell_type": "code",
   "execution_count": 20,
   "metadata": {},
   "outputs": [
    {
     "data": {
      "text/plain": [
       "array([[[1, 1],\n",
       "        [2, 1],\n",
       "        [3, 1]],\n",
       "\n",
       "       [[4, 1],\n",
       "        [5, 1],\n",
       "        [6, 1]],\n",
       "\n",
       "       [[7, 1],\n",
       "        [8, 1],\n",
       "        [9, 1]]])"
      ]
     },
     "execution_count": 20,
     "metadata": {},
     "output_type": "execute_result"
    }
   ],
   "source": [
    "import numpy as np\n",
    "a=np.array([[[1,1],[2,1],[3,1]],[[4,1],[5,1],[6,1]],[[7,1],[8,1],[9,1]]])\n",
    "a"
   ]
  },
  {
   "cell_type": "code",
   "execution_count": 30,
   "metadata": {},
   "outputs": [
    {
     "name": "stdout",
     "output_type": "stream",
     "text": [
      "0\n",
      "[]\n"
     ]
    }
   ],
   "source": [
    "print(OOV)\n",
    "print(OOV_list)"
   ]
  },
  {
   "cell_type": "code",
   "execution_count": 50,
   "metadata": {},
   "outputs": [
    {
     "data": {
      "text/plain": [
       "array([3, 6, 9])"
      ]
     },
     "execution_count": 50,
     "metadata": {},
     "output_type": "execute_result"
    }
   ],
   "source": [
    "a[:,2]"
   ]
  },
  {
   "cell_type": "code",
   "execution_count": 66,
   "metadata": {},
   "outputs": [
    {
     "data": {
      "text/plain": [
       "tensor([[-1.1133],\n",
       "        [ 0.0000],\n",
       "        [ 1.9238],\n",
       "        [ 1.8364],\n",
       "        [ 0.4400],\n",
       "        [-1.7066],\n",
       "        [-2.8024],\n",
       "        [-2.0669],\n",
       "        [-0.0000],\n",
       "        [ 0.8218]])"
      ]
     },
     "execution_count": 66,
     "metadata": {},
     "output_type": "execute_result"
    }
   ],
   "source": [
    "m = nn.Dropout(p=0.2)\n",
    "input = torch.randn(10,1)\n",
    "output = m(input)\n",
    "output"
   ]
  },
  {
   "cell_type": "code",
   "execution_count": 28,
   "metadata": {},
   "outputs": [],
   "source": [
    "outputs = torch.zeros(3, 2, 4)\n",
    "a = torch.ones(3,4)"
   ]
  },
  {
   "cell_type": "code",
   "execution_count": 29,
   "metadata": {},
   "outputs": [],
   "source": [
    "outputs[:,0,:] = a"
   ]
  },
  {
   "cell_type": "code",
   "execution_count": 30,
   "metadata": {},
   "outputs": [
    {
     "data": {
      "text/plain": [
       "tensor([[[1., 1., 1., 1.],\n",
       "         [0., 0., 0., 0.]],\n",
       "\n",
       "        [[1., 1., 1., 1.],\n",
       "         [0., 0., 0., 0.]],\n",
       "\n",
       "        [[1., 1., 1., 1.],\n",
       "         [0., 0., 0., 0.]]])"
      ]
     },
     "execution_count": 30,
     "metadata": {},
     "output_type": "execute_result"
    }
   ],
   "source": [
    "outputs"
   ]
  },
  {
   "cell_type": "code",
   "execution_count": null,
   "metadata": {},
   "outputs": [],
   "source": []
  }
 ],
 "metadata": {
  "accelerator": "GPU",
  "colab": {
   "collapsed_sections": [],
   "name": "Untitled1.ipynb",
   "provenance": []
  },
  "kernelspec": {
   "display_name": "Python 3",
   "language": "python",
   "name": "python3"
  },
  "language_info": {
   "codemirror_mode": {
    "name": "ipython",
    "version": 3
   },
   "file_extension": ".py",
   "mimetype": "text/x-python",
   "name": "python",
   "nbconvert_exporter": "python",
   "pygments_lexer": "ipython3",
   "version": "3.6.9"
  }
 },
 "nbformat": 4,
 "nbformat_minor": 1
}
