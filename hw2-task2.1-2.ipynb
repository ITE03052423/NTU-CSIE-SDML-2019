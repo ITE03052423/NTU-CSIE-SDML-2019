{
 "cells": [
  {
   "cell_type": "code",
   "execution_count": 1,
   "metadata": {
    "colab": {},
    "colab_type": "code",
    "id": "OyQOo0f65daB"
   },
   "outputs": [],
   "source": [
    "import torch\n",
    "import torch.nn as nn\n",
    "import torch.optim as optim\n",
    "\n",
    "# import spacy\n",
    "\n",
    "import random\n",
    "import math\n",
    "import time\n",
    "\n",
    "import collections\n",
    "import pickle\n",
    "import os\n",
    "\n",
    "from nltk import bigrams, trigrams\n",
    "import tensorflow as tf\n",
    "import jieba"
   ]
  },
  {
   "cell_type": "code",
   "execution_count": 2,
   "metadata": {
    "colab": {},
    "colab_type": "code",
    "id": "nQsfWxm26sGU"
   },
   "outputs": [],
   "source": [
    "data_dir = './data/'\n",
    "proj_dir = './'"
   ]
  },
  {
   "cell_type": "code",
   "execution_count": 3,
   "metadata": {
    "colab": {},
    "colab_type": "code",
    "id": "Tx8u7Nsf63L5"
   },
   "outputs": [],
   "source": [
    "\n",
    "class Vocabulary(object):\n",
    "\n",
    "    def __init__(self):\n",
    "        self.word2idx = {'<SOS>': 0, '<EOS>': 1, '<PAD>': 2, '<UNK>': 3}\n",
    "        self.idx2word = {0: '<SOS>', 1: '<EOS>', 2: '<PAD>', 3: '<UNK>'}\n",
    "        self.num_words = 4\n",
    "        self.OOV_list = []\n",
    "        self.OOV=0\n",
    "        for i in range(10):\n",
    "            word = str(i)\n",
    "            self.word2idx[word] = self.num_words\n",
    "            self.idx2word[self.num_words] = word\n",
    "            self.num_words += 1           \n",
    "\n",
    "    def build_vocab(self, data_path):\n",
    "        \"\"\"Construct the relation between words and indices\"\"\"\n",
    "        i=0\n",
    "        with open(data_path, 'r', encoding='utf-8') as dataset:\n",
    "            for words in dataset:\n",
    "                words = list(words.strip('\\n').strip())\n",
    "                if i<5:\n",
    "                    print(words)\n",
    "                i+=1\n",
    "                for word in words:\n",
    "                    if word not in self.word2idx:\n",
    "                        self.word2idx[word] = self.num_words\n",
    "                        self.idx2word[self.num_words] = word\n",
    "                        self.num_words += 1\n",
    "\n",
    "    def sequence_to_indices(self, sequence, add_eos=False, add_sos=False):\n",
    "        \"\"\"Transform a char sequence to index sequence\n",
    "            :param sequence: a string composed with chars\n",
    "            :param add_eos: if true, add the <EOS> tag at the end of given sentence\n",
    "            :param add_sos: if true, add the <SOS> tag at the beginning of given sentence\n",
    "        \"\"\"\n",
    "        index_sequence = [self.word2idx['<SOS>']] if add_sos else []\n",
    "\n",
    "        for word in sequence:\n",
    "            if word not in self.word2idx:\n",
    "                self.OOV+=1\n",
    "                self.OOV_list.append(word)\n",
    "                index_sequence.append((self.word2idx['<UNK>']))\n",
    "            else:\n",
    "                index_sequence.append(self.word2idx[word])\n",
    "\n",
    "        if add_eos:\n",
    "            index_sequence.append(self.word2idx['<EOS>'])\n",
    "\n",
    "        return index_sequence\n",
    "\n",
    "    def indices_to_sequence(self, indices):\n",
    "        \"\"\"Transform a list of indices\n",
    "            :param indices: a list\n",
    "        \"\"\"\n",
    "        sequence = []\n",
    "        for idx in indices:\n",
    "            word = self.idx2word[idx]\n",
    "            if word == \"<EOS>\":\n",
    "                sequence.append(word)\n",
    "                break\n",
    "            else:\n",
    "                sequence.append(word)\n",
    "        return sequence\n",
    "\n",
    "    def __str__(self):\n",
    "        str = \"Vocab information:\\n\"\n",
    "        for idx, word in self.idx2word.items():\n",
    "            str += \"word: %s Index: %d\\n\" % (word, idx)\n",
    "        return str"
   ]
  },
  {
   "cell_type": "code",
   "execution_count": 4,
   "metadata": {},
   "outputs": [],
   "source": [
    "from torch.utils.data import DataLoader, Dataset, SequentialSampler, RandomSampler\n",
    "import torch.nn.utils.rnn as rnn_utils\n",
    "class TestData(Dataset):\n",
    "    def __init__(self, path,max_length,corpus_path=None,vocab=None):\n",
    "        self.src_indices_seq = []\n",
    "        if vocab == None:\n",
    "            self.vocab = Vocabulary()\n",
    "            self.vocab.build_vocab(corpus_path)\n",
    "        else:\n",
    "            self.vocab = vocab\n",
    "        self.PAD_ID = self.vocab.word2idx[\"<PAD>\"]\n",
    "        self.SOS_ID = self.vocab.word2idx[\"<SOS>\"]\n",
    "        self.vocab_size = self.vocab.num_words\n",
    "        self.max_length = max_length\n",
    "        self.raw_data = []\n",
    "        self.raw_trg_word = []\n",
    "        self.trg_pos = []\n",
    "#         self.max_length = self.vocab.max_length\n",
    "        file=open(path, 'r', encoding='utf-8')\n",
    "        for words in file:\n",
    "            parts = words.strip('\\n').split('<EOS>')\n",
    "            assert len(parts) == 2,'ERROR!'\n",
    "            words = words.strip('\\n').split()\n",
    "            control_signal = parts[1].strip().split()\n",
    "            control_cnt = len(control_signal) // 2\n",
    "            trg_pos_t = []; trg_word_t = []\n",
    "            for j in range(control_cnt):\n",
    "                position, word = control_signal[j*2: j*2+2]\n",
    "#                 print(position, word)\n",
    "                trg_pos_t.append(int(position)); trg_word_t.append(word)\n",
    "            self.trg_pos.append(trg_pos_t)\n",
    "            self.raw_trg_word.append(trg_word_t)\n",
    "            self.raw_data.append(words)\n",
    "        assert len(self.raw_data)==len(self.trg_pos) and len(self.trg_pos)==len(self.raw_trg_word),'Error 2!'\n",
    "        for i,sent in enumerate(self.raw_data):\n",
    "            indices_seq = self.vocab.sequence_to_indices(sent, add_eos=False)\n",
    "            self.src_indices_seq.append(torch.tensor(indices_seq))\n",
    "        self.src_indices_seq = rnn_utils.pad_sequence(self.src_indices_seq, batch_first=True, padding_value=self.PAD_ID)\n",
    "        print(\"## J: Total examples: %d, unique words:%d, Max seq length: %d\"%(len(self.src_indices_seq),self.vocab_size,self.max_length))\n",
    "    # def collate_fn(data):\n",
    "    #     data = rnn_utils.pad_sequence(data, batch_first=True, padding_value=0)\n",
    "    #     return data\n",
    "    def __len__(self):\n",
    "        return len(self.src_indices_seq)\n",
    "\n",
    "    def __getitem__(self, idx):\n",
    "        return torch.tensor(self.src_indices_seq[idx]),torch.tensor(self.src_indices_seq[idx])"
   ]
  },
  {
   "cell_type": "code",
   "execution_count": 5,
   "metadata": {
    "colab": {},
    "colab_type": "code",
    "id": "jKj7rJox7S4S"
   },
   "outputs": [],
   "source": [
    "class MyData(Dataset):\n",
    "    def __init__(self, path,corpus_path=None,vocab=None):\n",
    "        self.src_indices_seq = []\n",
    "        self.trg_indices_seq = []\n",
    "        if vocab == None:\n",
    "            self.vocab = Vocabulary()\n",
    "            self.vocab.build_vocab(corpus_path)\n",
    "        else:\n",
    "            self.vocab = vocab\n",
    "        self.PAD_ID = self.vocab.word2idx[\"<PAD>\"]\n",
    "        self.SOS_ID = self.vocab.word2idx[\"<SOS>\"]\n",
    "        self.vocab_size = self.vocab.num_words\n",
    "        self.max_length = -1\n",
    "        self.raw_src_sent_data = [] #src sentence\n",
    "        self.raw_trg_sent_data = [] #target sentence\n",
    "        self.raw_trg_word = []\n",
    "        self.trg_pos = []\n",
    "#         self.max_length = self.vocab.max_length\n",
    "        c=0\n",
    "        file=open(path, 'r', encoding='utf-8')\n",
    "        for line in file:\n",
    "            pparts = line.strip('\\n').split(',')\n",
    "            assert len(pparts) == 2, 'Error!!'\n",
    "            words,trg_sentence = pparts\n",
    "            trg_sentence = trg_sentence.split()\n",
    "            self.raw_trg_sent_data.append(trg_sentence)\n",
    "            if trg_sentence[0]!='<SOS>':\n",
    "                print('trg:',trg_sentence)\n",
    "            if self.max_length < len(trg_sentence):\n",
    "                self.max_length = len(trg_sentence)\n",
    "            \n",
    "            parts = words.strip('\\n').split('<EOS>')\n",
    "            assert len(parts) == 2,'ERROR!'\n",
    "            src_sent = words.strip('\\n').split()\n",
    "            control_signal = parts[1].strip().split()\n",
    "            control_cnt = len(control_signal) // 2\n",
    "            trg_pos_t = []; trg_word_t = []\n",
    "#             try:\n",
    "            for j in range(control_cnt):\n",
    "                position, word = control_signal[j*2: j*2+2]\n",
    "#                 print(position, word)\n",
    "                trg_pos_t.append(int(position)); trg_word_t.append(word)\n",
    "#             except:\n",
    "#                 print(src_sent,control_signal,position,word,trg_sentence)\n",
    "            self.trg_pos.append(trg_pos_t)\n",
    "            self.raw_trg_word.append(trg_word_t)\n",
    "            self.raw_src_sent_data.append(src_sent)\n",
    "            if src_sent[0]!='<SOS>':\n",
    "                print('src:',src_sent)\n",
    "            if self.max_length < len(src_sent):\n",
    "                self.max_length = len(src_sent)\n",
    "#             if self.max_length > 100:\n",
    "#                 print(c,trg_sentence,src_sent)\n",
    "#             c+=1\n",
    "        assert len(self.raw_trg_sent_data)==len(self.raw_src_sent_data) and len(self.trg_pos)==len(self.raw_trg_word),'Error 2!'\n",
    "        for i,trg_sent in enumerate(self.raw_trg_sent_data):\n",
    "            indices_seq = self.vocab.sequence_to_indices(self.raw_src_sent_data[i], add_eos=False)\n",
    "            self.src_indices_seq.append(torch.tensor(indices_seq))\n",
    "            indices_seq = self.vocab.sequence_to_indices(trg_sent, add_eos=False)\n",
    "            self.trg_indices_seq.append(torch.tensor(indices_seq))\n",
    "        self.src_indices_seq = rnn_utils.pad_sequence(self.src_indices_seq, batch_first=True, padding_value=self.PAD_ID)\n",
    "#         self.trg_pos = rnn_utils.pad_sequence(self.trg_pos, batch_first=True, padding_value=0)\n",
    "        self.trg_indices_seq = rnn_utils.pad_sequence(self.trg_indices_seq, batch_first=True, padding_value=self.SOS_ID)\n",
    "        print(\"## J: Total examples: %d, unique words:%d, Max seq length: %d\"%(len(self.src_indices_seq),self.vocab_size,self.max_length))\n",
    "    # def collate_fn(data):\n",
    "    #     data = rnn_utils.pad_sequence(data, batch_first=True, padding_value=0)\n",
    "    #     return data\n",
    "    def __len__(self):\n",
    "        return len(self.src_indices_seq)\n",
    "\n",
    "    def __getitem__(self, idx):\n",
    "        return torch.tensor(self.src_indices_seq[idx]), torch.tensor(self.trg_indices_seq[idx])\n"
   ]
  },
  {
   "cell_type": "code",
   "execution_count": 7,
   "metadata": {
    "colab": {
     "base_uri": "https://localhost:8080/",
     "height": 51
    },
    "colab_type": "code",
    "id": "bff9czp3--Yi",
    "outputId": "9313241a-7162-4017-d517-d7658263c931"
   },
   "outputs": [
    {
     "name": "stdout",
     "output_type": "stream",
     "text": [
      "['心', '疼', '你', '还', '没', '挣', '脱', '思', '念', '的', '囚', '禁']\n",
      "['他', '在', '你', '一', '段', '难', '忘', '远', '行', '最', '后', '却', '离', '去']\n",
      "['你', '无', '力', '依', '靠', '在', '我', '这', '里']\n",
      "['隔', '着', '刚', '被', '雨', '淋', '湿', '的', '玻', '璃']\n",
      "['你', '问', '了', '我', '到', '底', '爱', '在', '哪', '里']\n",
      "## J: Total examples: 719521, unique words:6573, Max seq length: 26\n",
      "## J: Total examples: 100, unique words:6573, Max seq length: 26\n"
     ]
    }
   ],
   "source": [
    "train_set = MyData(data_dir+'training_2w.txt',corpus_path=data_dir+'hw2.1_corpus.txt')\n",
    "test_set = TestData(data_dir+'hw2.1-2_sample_testing_data.txt',max_length=train_set.max_length,vocab=train_set.vocab)"
   ]
  },
  {
   "cell_type": "code",
   "execution_count": 10,
   "metadata": {},
   "outputs": [
    {
     "name": "stdout",
     "output_type": "stream",
     "text": [
      "---- 0 -----\n",
      "data: ['<SOS>', '心', '疼', '你', '还', '没', '挣', '脱', '思', '念', '的', '囚', '禁', '<EOS>']\n",
      "pos: [4]  word: ['一']\n",
      "---- 1 -----\n",
      "data: ['<SOS>', '他', '在', '你', '一', '段', '难', '忘', '远', '行', '最', '后', '却', '离', '去', '<EOS>']\n",
      "pos: [8]  word: ['这']\n",
      "---- 2 -----\n",
      "data: ['<SOS>', '你', '无', '力', '依', '靠', '在', '我', '这', '里', '<EOS>']\n",
      "pos: [4, 9]  word: ['被', '玻']\n",
      "---- 3 -----\n",
      "data: ['<SOS>', '隔', '着', '刚', '被', '雨', '淋', '湿', '的', '玻', '璃', '<EOS>']\n",
      "pos: [7]  word: ['爱']\n",
      "---- 4 -----\n",
      "data: ['<SOS>', '你', '问', '了', '我', '到', '底', '爱', '在', '哪', '里', '<EOS>']\n",
      "pos: [7]  word: ['的']\n",
      "---- 5 -----\n",
      "data: ['<SOS>', '你', '最', '想', '去', '的', '目', '的', '地', '剩', '多', '少', '公', '里', '<EOS>']\n",
      "pos: [8, 10]  word: ['可', '暂']\n",
      "---- 6 -----\n",
      "data: ['<SOS>', '累', '了', '也', '没', '关', '系', '我', '可', '以', '暂', '停', '<EOS>']\n",
      "pos: [2, 6]  word: ['中', '勇']\n",
      "---- 7 -----\n",
      "data: ['<SOS>', '途', '中', '先', '加', '满', '勇', '气', '<EOS>']\n",
      "pos: [5]  word: ['问']\n",
      "---- 8 -----\n",
      "data: ['<SOS>', '能', '不', '能', '别', '问', '目', '的', '地', '<EOS>']\n",
      "pos: [3, 4]  word: ['带', '你']\n",
      "---- 9 -----\n",
      "data: ['<SOS>', '让', '我', '带', '你', '去', '<EOS>']\n",
      "pos: [6, 7]  word: ['很', '近']\n",
      "---- 10 -----\n",
      "data: ['<SOS>', '其', '实', '爱', '真', '的', '很', '近', '<EOS>']\n",
      "pos: [3, 5]  word: ['幸', '在']\n",
      "---- 11 -----\n",
      "data: ['<SOS>', '你', '的', '幸', '福', '在', '我', '这', '里', '<EOS>']\n",
      "pos: [6]  word: ['开']\n",
      "---- 12 -----\n",
      "data: ['<SOS>', '相', '信', '我', '这', '是', '开', '往', '明', '天', '的', '旅', '行', '<EOS>']\n",
      "pos: [11]  word: ['路']\n",
      "---- 13 -----\n",
      "data: ['<SOS>', '跟', '定', '我', '这', '次', '不', '会', '让', '你', '迷', '路', '或', '伤', '心', '<EOS>']\n",
      "pos: [6]  word: ['情']\n",
      "---- 14 -----\n",
      "data: ['<SOS>', '昨', '天', '是', '否', '是', '情', '的', '风', '景', '<EOS>']\n",
      "pos: [7, 8]  word: ['见', '了']\n",
      "---- 15 -----\n",
      "data: ['<SOS>', '转', '个', '弯', '就', '能', '不', '见', '了', '踪', '影', '<EOS>']\n",
      "pos: [3, 8]  word: ['对', '的']\n",
      "---- 16 -----\n",
      "data: ['<SOS>', '换', '我', '对', '你', '收', '集', '新', '的', '回', '忆', '<EOS>']\n",
      "pos: [1, 10]  word: ['你', '多']\n",
      "---- 17 -----\n",
      "data: ['<SOS>', '你', '最', '想', '去', '的', '目', '的', '地', '剩', '多', '少', '公', '里', '<EOS>']\n",
      "pos: [1]  word: ['累']\n",
      "---- 18 -----\n",
      "data: ['<SOS>', '累', '了', '也', '没', '关', '系', '我', '可', '以', '暂', '停', '<EOS>']\n",
      "pos: [5, 7]  word: ['满', '气']\n",
      "---- 19 -----\n",
      "data: ['<SOS>', '途', '中', '先', '加', '满', '勇', '气', '<EOS>']\n",
      "pos: [7, 8]  word: ['的', '地']\n",
      "---- 20 -----\n",
      "data: ['<SOS>', '能', '不', '能', '别', '问', '目', '的', '地', '<EOS>']\n",
      "pos: [1]  word: ['让']\n",
      "---- 21 -----\n",
      "data: ['<SOS>', '让', '我', '带', '你', '去', '<EOS>']\n",
      "pos: [3, 4]  word: ['爱', '真']\n",
      "---- 22 -----\n",
      "data: ['<SOS>', '其', '实', '爱', '真', '的', '很', '近', '<EOS>']\n",
      "pos: [2]  word: ['的']\n",
      "---- 23 -----\n",
      "data: ['<SOS>', '你', '的', '幸', '福', '在', '我', '这', '里', '<EOS>']\n",
      "pos: [12]  word: ['公']\n",
      "---- 24 -----\n",
      "data: ['<SOS>', '你', '最', '想', '去', '的', '目', '的', '地', '剩', '多', '少', '公', '里', '<EOS>']\n",
      "pos: [6, 11]  word: ['系', '停']\n",
      "---- 25 -----\n",
      "data: ['<SOS>', '累', '了', '也', '没', '关', '系', '我', '可', '以', '暂', '停', '<EOS>']\n",
      "pos: [5, 6]  word: ['满', '勇']\n",
      "---- 26 -----\n",
      "data: ['<SOS>', '途', '中', '先', '加', '满', '勇', '气', '<EOS>']\n",
      "pos: [2, 7]  word: ['不', '的']\n",
      "---- 27 -----\n",
      "data: ['<SOS>', '能', '不', '能', '别', '问', '目', '的', '地', '<EOS>']\n",
      "pos: [3]  word: ['带']\n",
      "---- 28 -----\n",
      "data: ['<SOS>', '让', '我', '带', '你', '去', '<EOS>']\n",
      "pos: [3]  word: ['我']\n",
      "---- 29 -----\n",
      "data: ['<SOS>', '其', '实', '我', '想', '告', '诉', '你', '<EOS>']\n",
      "pos: [2]  word: ['你']\n",
      "---- 30 -----\n",
      "data: ['<SOS>', '哈', '<EOS>']\n",
      "pos: [4]  word: ['雾']\n",
      "---- 31 -----\n",
      "data: ['<SOS>', '腾', '云', '驾', '雾', '<EOS>']\n",
      "pos: [3]  word: ['逐']\n",
      "---- 32 -----\n",
      "data: ['<SOS>', '追', '风', '逐', '电', '<EOS>']\n",
      "pos: [1]  word: ['一']\n",
      "---- 33 -----\n",
      "data: ['<SOS>', '一', '个', '跟', '头', '<EOS>']\n",
      "pos: [1]  word: ['十']\n",
      "---- 34 -----\n",
      "data: ['<SOS>', '十', '万', '八', '千', '<EOS>']\n",
      "pos: [1]  word: ['火']\n",
      "---- 35 -----\n",
      "data: ['<SOS>', '火', '眼', '金', '睛', '<EOS>']\n",
      "pos: [2, 3]  word: ['头', '铁']\n",
      "---- 36 -----\n",
      "data: ['<SOS>', '铜', '头', '铁', '肩', '<EOS>']\n",
      "pos: [1, 2]  word: ['威', '风']\n",
      "---- 37 -----\n",
      "data: ['<SOS>', '威', '风', '凛', '凛', '<EOS>']\n",
      "pos: [2, 3]  word: ['圣', '齐']\n",
      "---- 38 -----\n",
      "data: ['<SOS>', '说', '什', '么', '<EOS>']\n",
      "pos: [1]  word: ['艰']\n",
      "---- 39 -----\n",
      "data: ['<SOS>', '怕', '什', '么', '<EOS>']\n",
      "pos: [2, 3]  word: ['怪', '神']\n",
      "---- 40 -----\n",
      "data: ['<SOS>', '鬼', '怪', '神', '仙', '<EOS>']\n",
      "pos: [2, 6]  word: ['开', '箍']\n",
      "---- 41 -----\n",
      "data: ['<SOS>', '扯', '开', '如', '意', '金', '箍', '棒', '<EOS>']\n",
      "pos: [8]  word: ['翻']\n",
      "---- 42 -----\n",
      "data: ['<SOS>', '打', '它', '个', '地', '覆', '天', '也', '翻', '<EOS>']\n",
      "pos: [2]  word: ['开']\n",
      "---- 43 -----\n",
      "data: ['<SOS>', '扯', '开', '如', '意', '金', '箍', '棒', '<EOS>']\n",
      "pos: [2]  word: ['它']\n",
      "---- 44 -----\n",
      "data: ['<SOS>', '打', '它', '个', '地', '覆', '天', '也', '翻', '<EOS>']\n",
      "pos: [4, 7]  word: ['尊', '我']\n",
      "---- 45 -----\n",
      "data: ['<SOS>', '强', '者', '为', '尊', '应', '让', '我', '<EOS>']\n",
      "pos: [3, 4]  word: ['只', '此']\n",
      "---- 46 -----\n",
      "data: ['<SOS>', '英', '雄', '只', '此', '敢', '争', '先', '<EOS>']\n",
      "pos: [3, 4]  word: ['热', '血']\n",
      "---- 47 -----\n",
      "data: ['<SOS>', '一', '腔', '热', '血', '一', '身', '胆', '<EOS>']\n",
      "pos: [1, 2]  word: ['不', '知']\n",
      "---- 48 -----\n",
      "data: ['<SOS>', '不', '知', '退', '后', '总', '向', '前', '<EOS>']\n",
      "pos: [6]  word: ['身']\n",
      "---- 49 -----\n",
      "data: ['<SOS>', '一', '腔', '热', '血', '一', '身', '胆', '<EOS>']\n",
      "pos: [1]  word: ['不']\n",
      "---- 50 -----\n",
      "data: ['<SOS>', '不', '知', '退', '后', '总', '向', '前', '<EOS>']\n",
      "pos: [4]  word: ['尊']\n",
      "---- 51 -----\n",
      "data: ['<SOS>', '强', '者', '为', '尊', '应', '让', '我', '<EOS>']\n",
      "pos: [4]  word: ['此']\n",
      "---- 52 -----\n",
      "data: ['<SOS>', '敢', '争', '先', '<EOS>']\n",
      "pos: [3, 11]  word: ['真', '瑰']\n",
      "---- 53 -----\n",
      "data: ['<SOS>', '一', '颗', '真', '心', '加', '九', '十', '九', '朵', '玫', '瑰', '<EOS>']\n",
      "pos: [9, 11]  word: ['动', '觉']\n",
      "---- 54 -----\n",
      "data: ['<SOS>', '等', '于', '满', '分', '的', '恋', '爱', '心', '动', '感', '觉', '<EOS>']\n",
      "pos: [4, 8]  word: ['综', '力']\n",
      "---- 55 -----\n",
      "data: ['<SOS>', '感', '动', '像', '综', '合', '巧', '克', '力', '般', '多', '变', '<EOS>']\n",
      "pos: [2]  word: ['怎']\n",
      "---- 56 -----\n",
      "data: ['<SOS>', '但', '怎', '么', '选', '择', '<EOS>']\n",
      "pos: [1, 6]  word: ['都', '味']\n",
      "---- 57 -----\n",
      "data: ['<SOS>', '都', '是', '快', '乐', '滋', '味', '<EOS>']\n",
      "pos: [2]  word: ['情']\n",
      "---- 58 -----\n",
      "data: ['<SOS>', '爱', '情', '添', '加', '了', '梦', '想', '<EOS>']\n",
      "pos: [1]  word: ['秘']\n",
      "---- 59 -----\n",
      "data: ['<SOS>', '秘', '密', '花', '园', '<EOS>']\n",
      "pos: [4]  word: ['现']\n",
      "---- 60 -----\n",
      "data: ['<SOS>', '就', '会', '浮', '现', '<EOS>']\n",
      "pos: [2]  word: ['我']\n",
      "---- 61 -----\n",
      "data: ['<SOS>', '等', '我', '们', '一', '起', '去', '探', '险', '<EOS>']\n",
      "pos: [4]  word: ['的']\n",
      "---- 62 -----\n",
      "data: ['<SOS>', '原', '来', '爱', '的', '甜', '美', '<EOS>']\n",
      "pos: [4]  word: ['在']\n",
      "---- 63 -----\n",
      "data: ['<SOS>', '就', '制', '造', '在', '<EOS>']\n",
      "pos: [1, 2]  word: ['每', '一']\n",
      "---- 64 -----\n",
      "data: ['<SOS>', '每', '一', '个', '瞬', '间', '<EOS>']\n",
      "pos: [4]  word: ['限']\n",
      "---- 65 -----\n",
      "data: ['<SOS>', '恋', '爱', '<EOS>']\n",
      "pos: [2]  word: ['久']\n",
      "---- 66 -----\n",
      "data: ['<SOS>', '久', '久', '延', '续', '的', '浪', '漫', '<EOS>']\n",
      "pos: [4]  word: ['没']\n",
      "---- 67 -----\n",
      "data: ['<SOS>', '喜', '欢', '你', '没', '有', '道', '理', '<EOS>']\n",
      "pos: [3]  word: ['情']\n",
      "---- 68 -----\n",
      "data: ['<SOS>', '恋', '爱', '<EOS>']\n",
      "pos: [5]  word: ['在']\n",
      "---- 69 -----\n",
      "data: ['<SOS>', '久', '久', '甜', '蜜', '在', '心', '坎', '<EOS>']\n",
      "pos: [4, 5]  word: ['温', '柔']\n",
      "---- 70 -----\n",
      "data: ['<SOS>', '品', '尝', '你', '温', '柔', '宠', '爱', '<EOS>']\n",
      "pos: [1, 4]  word: ['超', '的']\n",
      "---- 71 -----\n",
      "data: ['<SOS>', '超', '完', '美', '的', '口', '感', '<EOS>']\n",
      "pos: [8]  word: ['九']\n",
      "---- 72 -----\n",
      "data: ['<SOS>', '一', '个', '微', '笑', '加', '九', '十', '九', '滴', '眼', '泪', '<EOS>']\n",
      "pos: [2, 7]  word: ['于', '爱']\n",
      "---- 73 -----\n",
      "data: ['<SOS>', '等', '于', '百', '分', '百', '恋', '爱', '苦', '辣', '酸', '甜', '<EOS>']\n",
      "pos: [2, 4]  word: ['手', '进']\n",
      "---- 74 -----\n",
      "data: ['<SOS>', '把', '手', '伸', '进', '糖', '果', '盒', '<EOS>']\n",
      "pos: [1, 4]  word: ['挑', '愿']\n",
      "---- 75 -----\n",
      "data: ['<SOS>', '挑', '个', '心', '愿', '<EOS>']\n",
      "pos: [3]  word: ['或']\n",
      "---- 76 -----\n",
      "data: ['<SOS>', '薄', '荷', '或', '草', '莓', '<EOS>']\n",
      "pos: [2, 3]  word: ['都', '为']\n",
      "---- 77 -----\n",
      "data: ['<SOS>', '你', '都', '为', '我', '实', '现', '<EOS>']\n",
      "pos: [5]  word: ['了']\n",
      "---- 78 -----\n",
      "data: ['<SOS>', '爱', '情', '添', '加', '了', '梦', '想', '<EOS>']\n",
      "pos: [1]  word: ['秘']\n",
      "---- 79 -----\n",
      "data: ['<SOS>', '秘', '密', '花', '园', '<EOS>']\n",
      "pos: [2, 4]  word: ['会', '现']\n",
      "---- 80 -----\n",
      "data: ['<SOS>', '就', '会', '浮', '现', '<EOS>']\n",
      "pos: [2]  word: ['我']\n",
      "---- 81 -----\n",
      "data: ['<SOS>', '等', '我', '们', '一', '起', '去', '探', '险', '<EOS>']\n",
      "pos: [2]  word: ['来']\n",
      "---- 82 -----\n",
      "data: ['<SOS>', '原', '来', '爱', '的', '甜', '美', '<EOS>']\n",
      "pos: [1, 3]  word: ['就', '造']\n",
      "---- 83 -----\n",
      "data: ['<SOS>', '就', '制', '造', '在', '<EOS>']\n",
      "pos: [1, 4]  word: ['每', '瞬']\n",
      "---- 84 -----\n",
      "data: ['<SOS>', '每', '一', '个', '瞬', '间', '<EOS>']\n",
      "pos: [3, 7]  word: ['期', '远']\n",
      "---- 85 -----\n",
      "data: ['<SOS>', '恋', '爱', '<EOS>']\n",
      "pos: [5]  word: ['的']\n",
      "---- 86 -----\n",
      "data: ['<SOS>', '久', '久', '延', '续', '的', '浪', '漫', '<EOS>']\n",
      "pos: [6]  word: ['道']\n",
      "---- 87 -----\n",
      "data: ['<SOS>', '喜', '欢', '你', '没', '有', '道', '理', '<EOS>']\n",
      "pos: [3]  word: ['情']\n",
      "---- 88 -----\n",
      "data: ['<SOS>', '恋', '爱', '<EOS>']\n",
      "pos: [4, 6]  word: ['蜜', '心']\n",
      "---- 89 -----\n",
      "data: ['<SOS>', '久', '久', '甜', '蜜', '在', '心', '坎', '<EOS>']\n",
      "pos: [7]  word: ['爱']\n",
      "---- 90 -----\n",
      "data: ['<SOS>', '品', '尝', '你', '温', '柔', '宠', '爱', '<EOS>']\n",
      "pos: [6]  word: ['感']\n",
      "---- 91 -----\n",
      "data: ['<SOS>', '恋', '爱', '<EOS>']\n",
      "pos: [5]  word: ['的']\n",
      "---- 92 -----\n",
      "data: ['<SOS>', '久', '久', '延', '续', '的', '浪', '漫', '<EOS>']\n",
      "pos: [4]  word: ['没']\n",
      "---- 93 -----\n",
      "data: ['<SOS>', '喜', '欢', '你', '没', '有', '道', '理', '<EOS>']\n",
      "pos: [1, 2]  word: ['好', '心']\n",
      "---- 94 -----\n",
      "data: ['<SOS>', '恋', '爱', '<EOS>']\n",
      "pos: [3]  word: ['甜']\n",
      "---- 95 -----\n",
      "data: ['<SOS>', '久', '久', '甜', '蜜', '在', '心', '坎', '<EOS>']\n",
      "pos: [3, 7]  word: ['你', '爱']\n",
      "---- 96 -----\n",
      "data: ['<SOS>', '品', '尝', '你', '温', '柔', '宠', '爱', '<EOS>']\n",
      "pos: [2]  word: ['完']\n",
      "---- 97 -----\n",
      "data: ['<SOS>', '恋', '爱', '<EOS>']\n",
      "pos: [4, 5]  word: ['续', '的']\n",
      "---- 98 -----\n",
      "data: ['<SOS>', '久', '久', '延', '续', '的', '浪', '漫', '<EOS>']\n",
      "pos: [4]  word: ['没']\n",
      "---- 99 -----\n",
      "data: ['<SOS>', '喜', '欢', '你', '没', '有', '道', '理', '<EOS>']\n",
      "pos: [1, 2]  word: ['好', '心']\n"
     ]
    }
   ],
   "source": [
    "dataset=test_set\n",
    "for i in range(len(dataset.src_indices_seq)):\n",
    "    print('----',i,'-----')\n",
    "    print('data:',dataset.vocab.indices_to_sequence(dataset.src_indices_seq[i].numpy()))\n",
    "    print('pos:',dataset.trg_pos[i],' word:',dataset.raw_trg_word[i])\n",
    "#     print('trg:',dataset.vocab.indices_to_sequence(dataset.trg_indices_seq[i].numpy()))\n",
    "    if i>100:\n",
    "        break"
   ]
  },
  {
   "cell_type": "code",
   "execution_count": 7,
   "metadata": {
    "colab": {
     "base_uri": "https://localhost:8080/",
     "height": 54
    },
    "colab_type": "code",
    "id": "YBBaKs6X_Vuh",
    "outputId": "167d5044-2be5-4603-e4a7-f11735444afe"
   },
   "outputs": [],
   "source": [
    "# data_loader = DataLoader(train_set, batch_size=4, shuffle=True)\n",
    "# batch_x = iter(data_loader).next()"
   ]
  },
  {
   "cell_type": "code",
   "execution_count": 8,
   "metadata": {
    "colab": {
     "base_uri": "https://localhost:8080/",
     "height": 34
    },
    "colab_type": "code",
    "id": "TG5fZtia_oIg",
    "outputId": "4df17636-02aa-4be8-8163-136c5a25cf79"
   },
   "outputs": [
    {
     "ename": "NameError",
     "evalue": "name 'batch_x' is not defined",
     "output_type": "error",
     "traceback": [
      "\u001b[0;31m---------------------------------------------------------------------------\u001b[0m",
      "\u001b[0;31mNameError\u001b[0m                                 Traceback (most recent call last)",
      "\u001b[0;32m<ipython-input-8-2d531559feb4>\u001b[0m in \u001b[0;36m<module>\u001b[0;34m\u001b[0m\n\u001b[0;32m----> 1\u001b[0;31m \u001b[0mbatch_x\u001b[0m\u001b[0;34m[\u001b[0m\u001b[0;36m0\u001b[0m\u001b[0;34m]\u001b[0m\u001b[0;34m.\u001b[0m\u001b[0mshape\u001b[0m\u001b[0;34m\u001b[0m\u001b[0;34m\u001b[0m\u001b[0m\n\u001b[0m\u001b[1;32m      2\u001b[0m \u001b[0;31m# train_set.src_indices_seq.size()\u001b[0m\u001b[0;34m\u001b[0m\u001b[0;34m\u001b[0m\u001b[0;34m\u001b[0m\u001b[0m\n",
      "\u001b[0;31mNameError\u001b[0m: name 'batch_x' is not defined"
     ]
    }
   ],
   "source": [
    "batch_x[0].shape\n",
    "# train_set.src_indices_seq.size()"
   ]
  },
  {
   "cell_type": "code",
   "execution_count": 11,
   "metadata": {
    "colab": {},
    "colab_type": "code",
    "id": "SKE9EQD1GVZd"
   },
   "outputs": [],
   "source": [
    "SEED = 1234\n",
    "\n",
    "random.seed(SEED)\n",
    "torch.manual_seed(SEED)\n",
    "torch.backends.cudnn.deterministic = True"
   ]
  },
  {
   "cell_type": "code",
   "execution_count": 12,
   "metadata": {
    "colab": {},
    "colab_type": "code",
    "id": "Ts8gDQj_G0WR"
   },
   "outputs": [],
   "source": [
    "device = torch.device('cuda')"
   ]
  },
  {
   "cell_type": "code",
   "execution_count": 13,
   "metadata": {
    "colab": {},
    "colab_type": "code",
    "id": "yqD0fuycHB58"
   },
   "outputs": [],
   "source": [
    "class Encoder(nn.Module):\n",
    "    def __init__(self, input_dim, emb_dim, hid_dim, n_layers, dropout):\n",
    "        super().__init__()\n",
    "        \n",
    "        self.hid_dim = hid_dim\n",
    "        self.n_layers = n_layers\n",
    "        \n",
    "        self.embedding = nn.Embedding(input_dim, emb_dim)\n",
    "        \n",
    "        # self.rnn = nn.LSTM(emb_dim, hid_dim, n_layers, dropout = dropout)\n",
    "        self.gru = nn.GRU(emb_dim, hid_dim, n_layers, dropout = dropout,batch_first=True)\n",
    "        self.dropout = nn.Dropout(dropout)\n",
    "        \n",
    "    def forward(self, src):\n",
    "        \n",
    "        #src = [src sent len, batch size]\n",
    "        \n",
    "        embedded = self.dropout(self.embedding(src))\n",
    "#         embedded = self.dropout(src)\n",
    "        \n",
    "        #embedded = [src sent len, batch size, emb dim]\n",
    "        \n",
    "        # outputs, (hidden, cell) = self.rnn(embedded)\n",
    "        outputs, hidden = self.gru(embedded)\n",
    "        \n",
    "        #outputs = [src sent len, batch size, hid dim * n directions]\n",
    "        #hidden = [n layers * n directions, batch size, hid dim]\n",
    "        #cell = [n layers * n directions, batch size, hid dim]\n",
    "        \n",
    "        #outputs are always from the top hidden layer\n",
    "        \n",
    "        return hidden"
   ]
  },
  {
   "cell_type": "code",
   "execution_count": 14,
   "metadata": {},
   "outputs": [],
   "source": [
    "class Decoder(nn.Module):\n",
    "    def __init__(self, output_dim, emb_dim, hid_dim, n_layers, dropout):\n",
    "        super().__init__()\n",
    "        \n",
    "        self.output_dim = output_dim\n",
    "        self.hid_dim = hid_dim\n",
    "        self.n_layers = n_layers\n",
    "        \n",
    "        self.embedding = nn.Embedding(output_dim, emb_dim)\n",
    "        \n",
    "        # self.rnn = nn.LSTM(emb_dim, hid_dim, n_layers, dropout = dropout)\n",
    "        self.gru = nn.GRU(emb_dim, hid_dim, n_layers, dropout = dropout,batch_first=True)\n",
    "        \n",
    "        self.out = nn.Linear(hid_dim, output_dim)\n",
    "        \n",
    "        self.dropout = nn.Dropout(dropout)\n",
    "        \n",
    "    def forward(self, input, hidden):\n",
    "        \n",
    "        #input = [batch size]\n",
    "        #hidden = [n layers * n directions, batch size, hid dim]\n",
    "        #cell = [n layers * n directions, batch size, hid dim]\n",
    "        \n",
    "        #n directions in the decoder will both always be 1, therefore:\n",
    "        #hidden = [n layers, batch size, hid dim]\n",
    "        #context = [n layers, batch size, hid dim]\n",
    "        \n",
    "        input = input.unsqueeze(1)\n",
    "        \n",
    "#         #input = [1, batch size]\n",
    "        \n",
    "        embedded = self.dropout(self.embedding(input))\n",
    "#         embedded = self.dropout(input)\n",
    "        \n",
    "        #embedded = [1, batch size, emb dim]\n",
    "                \n",
    "        # output, (hidden, cell) = self.rnn(embedded, (hidden, cell))\n",
    "        output, hidden = self.gru(embedded,hidden)\n",
    "        \n",
    "        #output = [sent len, batch size, hid dim * n directions]\n",
    "        #hidden = [n layers * n directions, batch size, hid dim]\n",
    "        #cell = [n layers * n directions, batch size, hid dim]\n",
    "        \n",
    "        #sent len and n directions will always be 1 in the decoder, therefore:\n",
    "        #output = [1, batch size, hid dim]\n",
    "        #hidden = [n layers, batch size, hid dim]\n",
    "        #cell = [n layers, batch size, hid dim]\n",
    "        \n",
    "        prediction = self.out(output.squeeze(1))\n",
    "        \n",
    "        #prediction = [batch size, output dim]\n",
    "        \n",
    "        return prediction, hidden\n",
    "class Seq2Seq(nn.Module):\n",
    "    def __init__(self, encoder, decoder, device):\n",
    "        super().__init__()\n",
    "#         self.embedding = nn.Embedding(output_dim, emb_dim)\n",
    "        self.encoder = encoder\n",
    "        self.decoder = decoder\n",
    "        self.device = device\n",
    "        \n",
    "        assert encoder.hid_dim == decoder.hid_dim, \\\n",
    "            \"Hidden dimensions of encoder and decoder must be equal!\"\n",
    "        assert encoder.n_layers == decoder.n_layers, \\\n",
    "            \"Encoder and decoder must have equal number of layers!\"\n",
    "        \n",
    "    def forward(self, src, trg, teacher_forcing_ratio = 0.5):\n",
    "        \n",
    "        #src = [src sent len, batch size]\n",
    "        #trg = [trg sent len, batch size]\n",
    "        #teacher_forcing_ratio is probability to use teacher forcing\n",
    "        #e.g. if teacher_forcing_ratio is 0.75 we use ground-truth inputs 75% of the time\n",
    "        \n",
    "        batch_size = trg.shape[0]\n",
    "        max_len = trg.shape[1]\n",
    "        trg_vocab_size = self.decoder.output_dim\n",
    "        \n",
    "        #tensor to store decoder outputs\n",
    "#         outputs = torch.zeros(max_len, batch_size, trg_vocab_size).to(self.device)\n",
    "        outputs = torch.zeros(batch_size, max_len, trg_vocab_size).to(self.device)\n",
    "        outputs_idx = torch.zeros(batch_size, max_len-1)\n",
    "\n",
    "        #last hidden state of the encoder is used as the initial hidden state of the decoder\n",
    "        hidden = self.encoder(src)\n",
    "#         embedded = self.embedding(src)\n",
    "#         hidden = self.encoder(embedded)\n",
    "        \n",
    "        #first input to the decoder is the <sos> tokens\n",
    "        input = trg[:,0]\n",
    "        \n",
    "        for t in range(1, max_len):\n",
    "            \n",
    "            #insert input token embedding, previous hidden and previous cell states\n",
    "            #receive output tensor (predictions) and new hidden and cell states\n",
    "            output, hidden= self.decoder(input, hidden)\n",
    "#             input = input.unsqueeze(1)\n",
    "#             embedded = self.embedding(input)\n",
    "#             output, hidden= self.decoder(embedded, hidden)\n",
    "            \n",
    "            #place predictions in a tensor holding predictions for each token\n",
    "            outputs[:,t,:] = output\n",
    "            \n",
    "            #decide if we are going to use teacher forcing or not\n",
    "            teacher_force = random.random() < teacher_forcing_ratio\n",
    "            \n",
    "            #get the highest predicted token from our predictions\n",
    "            top1 = output.argmax(1)\n",
    "            outputs_idx[:,t-1] = top1\n",
    "            \n",
    "            #if teacher forcing, use actual next token as next input\n",
    "            #if not, use predicted token\n",
    "            input = trg[:,t] if teacher_force else top1\n",
    "        \n",
    "        return outputs,outputs_idx"
   ]
  },
  {
   "cell_type": "code",
   "execution_count": 15,
   "metadata": {
    "colab": {},
    "colab_type": "code",
    "id": "guiNdiVZJ4ia"
   },
   "outputs": [],
   "source": [
    "INPUT_DIM = train_set.vocab_size\n",
    "OUTPUT_DIM = train_set.vocab_size\n",
    "ENC_EMB_DIM = 256\n",
    "DEC_EMB_DIM = 256\n",
    "HID_DIM = 512\n",
    "N_LAYERS = 1\n",
    "ENC_DROPOUT = 0\n",
    "DEC_DROPOUT = 0\n",
    "\n",
    "enc = Encoder(INPUT_DIM, ENC_EMB_DIM, HID_DIM, N_LAYERS, ENC_DROPOUT)\n",
    "dec = Decoder(OUTPUT_DIM, DEC_EMB_DIM, HID_DIM, N_LAYERS, DEC_DROPOUT)\n",
    "\n",
    "model = Seq2Seq(enc, dec, device).to(device)"
   ]
  },
  {
   "cell_type": "code",
   "execution_count": 16,
   "metadata": {
    "colab": {
     "base_uri": "https://localhost:8080/",
     "height": 238
    },
    "colab_type": "code",
    "id": "h4-SE_JSKqfv",
    "outputId": "07663fc1-75a3-4945-f80f-59a6fb6a1d5a"
   },
   "outputs": [
    {
     "data": {
      "text/plain": [
       "Seq2Seq(\n",
       "  (encoder): Encoder(\n",
       "    (embedding): Embedding(6573, 256)\n",
       "    (gru): GRU(256, 512, batch_first=True)\n",
       "    (dropout): Dropout(p=0, inplace=False)\n",
       "  )\n",
       "  (decoder): Decoder(\n",
       "    (embedding): Embedding(6573, 256)\n",
       "    (gru): GRU(256, 512, batch_first=True)\n",
       "    (out): Linear(in_features=512, out_features=6573, bias=True)\n",
       "    (dropout): Dropout(p=0, inplace=False)\n",
       "  )\n",
       ")"
      ]
     },
     "execution_count": 16,
     "metadata": {},
     "output_type": "execute_result"
    }
   ],
   "source": [
    "def init_weights(m):\n",
    "    for name, param in m.named_parameters():\n",
    "        nn.init.uniform_(param.data, -0.08, 0.08)\n",
    "        \n",
    "model.apply(init_weights)"
   ]
  },
  {
   "cell_type": "code",
   "execution_count": 17,
   "metadata": {
    "colab": {
     "base_uri": "https://localhost:8080/",
     "height": 34
    },
    "colab_type": "code",
    "id": "4zSS9lLcKuM_",
    "outputId": "5f644f9d-6108-41e7-dee5-3c518e73897d"
   },
   "outputs": [
    {
     "name": "stdout",
     "output_type": "stream",
     "text": [
      "The model has 9,102,765 trainable parameters\n"
     ]
    }
   ],
   "source": [
    "def count_parameters(model):\n",
    "    return sum(p.numel() for p in model.parameters() if p.requires_grad)\n",
    "\n",
    "print(f'The model has {count_parameters(model):,} trainable parameters')"
   ]
  },
  {
   "cell_type": "code",
   "execution_count": 18,
   "metadata": {
    "colab": {},
    "colab_type": "code",
    "id": "JYTHv4rWKwi2"
   },
   "outputs": [],
   "source": [
    "optimizer = optim.Adam(model.parameters())"
   ]
  },
  {
   "cell_type": "code",
   "execution_count": 19,
   "metadata": {
    "colab": {},
    "colab_type": "code",
    "id": "ql0jyibYK0ih"
   },
   "outputs": [],
   "source": [
    "criterion = nn.CrossEntropyLoss(ignore_index = train_set.PAD_ID)"
   ]
  },
  {
   "cell_type": "code",
   "execution_count": 20,
   "metadata": {
    "colab": {},
    "colab_type": "code",
    "id": "mcEuKqL5LCXL"
   },
   "outputs": [],
   "source": [
    "from tqdm import tqdm, trange\n",
    "def train(model, optimizer, criterion, clip):\n",
    "    model.train()\n",
    "    \n",
    "    epoch_loss = 0\n",
    "    batch_size = 128\n",
    "    data_loader = DataLoader(train_set, batch_size=batch_size, shuffle=True)\n",
    "    trange = tqdm(enumerate(data_loader), total=len(data_loader),desc='Train')\n",
    "    for step,batch in trange:\n",
    "        # print(step)\n",
    "        src = batch[0]\n",
    "        trg = batch[1]\n",
    "        src = src.to(device)\n",
    "        trg = trg.to(device)       \n",
    "        optimizer.zero_grad()\n",
    "        # print(trg.size())\n",
    "        output,output_idx = model(src, trg)\n",
    "        \n",
    "        #trg = [trg sent len, batch size]\n",
    "        #output = [trg sent len, batch size, output dim]\n",
    "        \n",
    "        output = output[:,1:].reshape(-1, output.shape[-1])\n",
    "        trg = trg[:,1:].reshape(-1)\n",
    "        \n",
    "        #trg = [(trg sent len - 1) * batch size]\n",
    "        #output = [(trg sent len - 1) * batch size, output dim]\n",
    "        \n",
    "        loss = criterion(output, trg)\n",
    "        \n",
    "        loss.backward()\n",
    "        \n",
    "        torch.nn.utils.clip_grad_norm_(model.parameters(), clip)\n",
    "        \n",
    "        optimizer.step()\n",
    "        \n",
    "        epoch_loss += loss.item()\n",
    "    return epoch_loss / len(data_loader)\n",
    "\n"
   ]
  },
  {
   "cell_type": "code",
   "execution_count": 21,
   "metadata": {
    "colab": {},
    "colab_type": "code",
    "id": "WEnMgjnlOATV"
   },
   "outputs": [],
   "source": [
    "def decode_string(output,dataset):\n",
    "    results = []\n",
    "    trg = []\n",
    "    all_assign_cnt = 0\n",
    "    correct_cnt = 0\n",
    "    for i,seq in enumerate(output):\n",
    "        result = ['<SOS>']+dataset.vocab.indices_to_sequence(seq)\n",
    "        positions = dataset.trg_pos[i]\n",
    "        trg_word = dataset.raw_trg_word[i]\n",
    "#         positions = positions[positions!=0]\n",
    "        assert len(positions) == len(trg_word),'Error!!!'\n",
    "        all_assign_cnt += len(positions)\n",
    "        pos_word = []\n",
    "        for i,position in enumerate(positions):\n",
    "            position = int(position)\n",
    "            word = trg_word[i]\n",
    "            pos_word.append(str(position)+word)\n",
    "            if position < len(result) and result[position] == word:\n",
    "                correct_cnt += 1\n",
    "        results.append(' '.join(result))\n",
    "        trg.append(pos_word)\n",
    "        \n",
    "    print('-----exm-----')\n",
    "    print(results[:10])\n",
    "    print(trg[:10])\n",
    "    return results, correct_cnt / all_assign_cnt\n",
    "\n",
    "def evaluate(model,criterion,dataset):\n",
    "    prediction = []\n",
    "    model.eval()\n",
    "    \n",
    "    epoch_loss = 0\n",
    "    data_loader = DataLoader(dataset, batch_size=128, shuffle=False)\n",
    "    trange = tqdm(enumerate(data_loader), total=len(data_loader),desc='valid')\n",
    "    for step, batch in trange:\n",
    "        src = batch[0]\n",
    "        trg = batch[1]\n",
    "        src = src.to(device)\n",
    "        trg = trg.to(device)\n",
    "        with torch.no_grad():\n",
    "            output,output_idx = model(src, trg, 0) #turn off teacher forcing\n",
    "            prediction.append(output_idx.to('cpu'))\n",
    "\n",
    "            #trg = [trg sent len, batch size]\n",
    "            #output = [trg sent len, batch size, output dim]\n",
    "\n",
    "            output = output[:,1:].reshape(-1, output.shape[-1])\n",
    "            trg = trg[:,1:].reshape(-1)\n",
    "\n",
    "            #trg = [(trg sent len - 1) * batch size]\n",
    "            #output = [(trg sent len - 1) * batch size, output dim]\n",
    "\n",
    "            loss = criterion(output, trg)\n",
    "\n",
    "            epoch_loss += loss.item()\n",
    "    prediction = torch.cat(prediction).detach().numpy().astype(int)\n",
    "    prediction,acc = decode_string(prediction,dataset)\n",
    "    return epoch_loss / len(data_loader),prediction,acc"
   ]
  },
  {
   "cell_type": "code",
   "execution_count": 22,
   "metadata": {
    "colab": {},
    "colab_type": "code",
    "id": "vNToEQa1NCoC"
   },
   "outputs": [],
   "source": [
    "def epoch_time(start_time, end_time):\n",
    "    elapsed_time = end_time - start_time\n",
    "    elapsed_mins = int(elapsed_time / 60)\n",
    "    elapsed_secs = int(elapsed_time - (elapsed_mins * 60))\n",
    "    return elapsed_mins, elapsed_secs"
   ]
  },
  {
   "cell_type": "code",
   "execution_count": 23,
   "metadata": {},
   "outputs": [],
   "source": [
    "def dd():\n",
    "    return collections.defaultdict(int)\n",
    "def _read_words(filename):\n",
    "    with tf.gfile.GFile(filename, \"r\") as f:\n",
    "        return f.read().replace(\"\\n\", \" <eos> \").split() \n",
    "class Lm_utility():\n",
    "    def __init__(self,tri_LM_path):\n",
    "        f = open(tri_LM_path+'trigram_model.pkl', 'rb')\n",
    "        self.model = pickle.load(f)\n",
    "        f.close()\n",
    "\n",
    "        f = open(tri_LM_path+'w2i.pkl', 'rb')\n",
    "        self.word_to_id = pickle.load(f)\n",
    "        f.close()\n",
    "   \n",
    "    def calculate_Lm_score(self,text):\n",
    "        sentence_pool = []\n",
    "        cnt_s = 0\n",
    "        prob_all = 0\n",
    "        for line in text:\n",
    "            prob_s = 0\n",
    "            cnt = 0\n",
    "            # rule base filter\n",
    "            line = line.replace(' ', '').strip()\n",
    "            if len(line) == 0:\n",
    "                prob_all += 0\n",
    "                cnt_s += 1\n",
    "                sentence_pool.append(set('\\n'))\n",
    "                continue\n",
    "            counter = collections.Counter(line)\n",
    "            split_line = list(jieba.cut(line))\n",
    "            sentence_pool.append(set(split_line))\n",
    "            common_cnt = 0\n",
    "            last = None\n",
    "            for w in split_line:\n",
    "                if w == last:\n",
    "                    common_cnt += 1\n",
    "                last = w\n",
    "            if common_cnt >= 2:\n",
    "                prob_all += 0\n",
    "                cnt_s += 1\n",
    "                continue\n",
    "\n",
    "            # trigram LM\n",
    "            splitted_line = ['<sos>', '<sos>'] + split_line + ['<eos>', '<eos>']\n",
    "            for w1, w2, w3 in zip(splitted_line, splitted_line[1:], splitted_line[2:]):\n",
    "                if (w1, w2) not in self.model:\n",
    "                    continue\n",
    "                else:\n",
    "                    prob_s += max(self.model[(w1, w2)][w3], self.model[(w1, w2)]['BACKGROUND'])\n",
    "                cnt += 1\n",
    "            if prob_s == 0:\n",
    "                prob_all += 0\n",
    "            else:\n",
    "                prob_s /= max(cnt, 1)\n",
    "                prob_all += 10 ** prob_s\n",
    "            cnt_s += 1\n",
    "\n",
    "        # jaccard distance of randomly chosen sentences pairs\n",
    "        sample = 0\n",
    "        jaccard = 0\n",
    "        while sample < 3000:\n",
    "            r1 = random.randint(0, cnt_s-1)\n",
    "            r2 = random.randint(0, cnt_s-1)\n",
    "            if r1 == r2:\n",
    "                continue\n",
    "            s1 = sentence_pool[r1]\n",
    "            s2 = sentence_pool[r2]\n",
    "            jaccard += (len(s1 & s2)/len(s1 | s2))\n",
    "            sample += 1\n",
    "        LM_score = prob_all/cnt_s * 1000\n",
    "        print ('LM score: ',LM_score)\n",
    "        print ('Jaccard Distance score: ' + str(jaccard/sample))\n",
    "        return LM_score"
   ]
  },
  {
   "cell_type": "code",
   "execution_count": null,
   "metadata": {
    "colab": {
     "base_uri": "https://localhost:8080/",
     "height": 1000
    },
    "colab_type": "code",
    "id": "1WH3st1fPIJN",
    "outputId": "3427a5eb-a2ac-437f-b918-cf545b28b358"
   },
   "outputs": [
    {
     "name": "stderr",
     "output_type": "stream",
     "text": [
      "Train:   0%|          | 0/5622 [00:00<?, ?it/s]/root/anaconda3/lib/python3.6/site-packages/ipykernel_launcher.py:72: UserWarning: To copy construct from a tensor, it is recommended to use sourceTensor.clone().detach() or sourceTensor.clone().detach().requires_grad_(True), rather than torch.tensor(sourceTensor).\n",
      "Train: 100%|██████████| 5622/5622 [09:50<00:00,  9.52it/s]\n",
      "valid: 100%|██████████| 5622/5622 [04:39<00:00, 20.11it/s]\n",
      "valid:   0%|          | 0/1 [00:00<?, ?it/s]/root/anaconda3/lib/python3.6/site-packages/ipykernel_launcher.py:47: UserWarning: To copy construct from a tensor, it is recommended to use sourceTensor.clone().detach() or sourceTensor.clone().detach().requires_grad_(True), rather than torch.tensor(sourceTensor).\n",
      "valid: 100%|██████████| 1/1 [00:00<00:00, 26.66it/s]\n",
      "Building prefix dict from the default dictionary ...\n",
      "Loading model from cache /tmp/jieba.cache\n"
     ]
    },
    {
     "name": "stdout",
     "output_type": "stream",
     "text": [
      "-----exm-----\n",
      "['<SOS> 我 是 我 的 我 难 过 的 你 最 后 <EOS>', '<SOS> 爱 无 力 <EOS>', '<SOS> 我 你 的 我 的 我 的 的 玻 璃 <EOS>', '<SOS> 我 在 我 的 的 在 我 的 里 里 <EOS>', '<SOS> 你 是 我 的 的 目 光 <EOS>', '<SOS> 我 是 我 没 有 什 么 可 以 <EOS>', '<SOS> 我 是 我 的 的 勇 气 <EOS>', '<SOS> 我 不 能 够 到 你 的 <EOS>', '<SOS> 让 我 们 起 去 <EOS>', '<SOS> 让 我 们 一 起 接 近 <EOS>']\n",
      "[['6难', '11后'], ['3力', '2无'], ['9玻'], ['10里'], ['6目'], ['8可', '4没'], ['7气'], ['7的', '3能'], ['1让', '5去'], ['7近']]\n",
      "-----exm-----\n",
      "['<SOS> 我 是 我 一 个 <EOS>', '<SOS> 这 样 的 是 你 <EOS>', '<SOS> 我 是 你 被 你 的 的 的 玻 璃 <EOS>', '<SOS> 我 是 我 的 我 的 爱 <EOS>', '<SOS> 我 是 我 我 我 你 的 爱 <EOS>', '<SOS> 你 是 我 的 我 不 可 可 以 暂 时 <EOS>', '<SOS> 心 中 的 有 多 勇 敢 <EOS>', '<SOS> 我 不 我 不 问 <EOS>', '<SOS> 我 不 带 你 的 <EOS>', '<SOS> 我 我 的 心 里 很 近 <EOS>']\n",
      "[['4一'], ['8这'], ['4被', '9玻'], ['7爱'], ['7的'], ['8可', '10暂'], ['2中', '6勇'], ['5问'], ['3带', '4你'], ['6很', '7近']]\n"
     ]
    },
    {
     "name": "stderr",
     "output_type": "stream",
     "text": [
      "Loading model cost 0.619 seconds.\n",
      "Prefix dict has been built succesfully.\n",
      "/root/anaconda3/lib/python3.6/site-packages/torch/serialization.py:256: UserWarning: Couldn't retrieve source code for container of type Seq2Seq. It won't be checked for correctness upon loading.\n",
      "  \"type \" + obj.__name__ + \". It won't be checked \"\n",
      "/root/anaconda3/lib/python3.6/site-packages/torch/serialization.py:256: UserWarning: Couldn't retrieve source code for container of type Encoder. It won't be checked for correctness upon loading.\n",
      "  \"type \" + obj.__name__ + \". It won't be checked \"\n",
      "/root/anaconda3/lib/python3.6/site-packages/torch/serialization.py:256: UserWarning: Couldn't retrieve source code for container of type Decoder. It won't be checked for correctness upon loading.\n",
      "  \"type \" + obj.__name__ + \". It won't be checked \"\n",
      "Train:   0%|          | 0/5622 [00:00<?, ?it/s]"
     ]
    },
    {
     "name": "stdout",
     "output_type": "stream",
     "text": [
      "LM score:  64.64719290928852\n",
      "Jaccard Distance score: 0.4710754134754149\n",
      "Epoch: 01 | Time: 14m 38s\n",
      "\tTrain Loss: 2.155 | Train PPL:   8.630 | Train acc: 0.937| val LM: -1.000\n",
      "\t Val. Loss: 9.649 |  Val. PPL: 15510.418 | val acc: 0.938 | val LM: 64.647\n"
     ]
    },
    {
     "name": "stderr",
     "output_type": "stream",
     "text": [
      "Train:  53%|█████▎    | 2961/5622 [05:08<04:43,  9.39it/s]"
     ]
    }
   ],
   "source": [
    "N_EPOCHS = 10\n",
    "CLIP = 1\n",
    "\n",
    "best_valid_loss = float('inf')\n",
    "best_valid_acc = 0\n",
    "train_lm_score = -1\n",
    "history = {'train':[],'val':[]}\n",
    "lm_utility = Lm_utility(data_dir+'trigram_model/')\n",
    "for epoch in range(N_EPOCHS):\n",
    "    \n",
    "    start_time = time.time()\n",
    "    \n",
    "    train_loss = train(model, optimizer, criterion, CLIP)\n",
    "    train_loss_2,predictions,acc = evaluate(model, criterion,train_set)\n",
    "#     train_lm_score = lm_utility.calculate_Lm_score(predictions)\n",
    "    history['train'].append({'loss':train_loss,'acc':acc,'lm':train_lm_score})\n",
    "    valid_loss,valid_predict,valid_acc = evaluate(model, criterion,test_set)\n",
    "    valid_lm_score = lm_utility.calculate_Lm_score(valid_predict)\n",
    "    end_time = time.time()\n",
    "    \n",
    "    epoch_mins, epoch_secs = epoch_time(start_time, end_time)\n",
    "    \n",
    "    if valid_loss < best_valid_loss:\n",
    "        best_valid_loss = valid_loss\n",
    "        torch.save(model, './output/Task2_1_2_model.pkl') \n",
    "        torch.save(model.state_dict(), './output/Task2_1_2_model.pt')\n",
    "    history['val'].append({'loss':valid_loss,'acc':valid_acc,'lm':valid_lm_score})\n",
    "    print(f'Epoch: {epoch+1:02} | Time: {epoch_mins}m {epoch_secs}s')\n",
    "    print(f'\\tTrain Loss: {train_loss:.3f} | Train PPL: {math.exp(train_loss):7.3f} | Train acc: {acc:.3f}| val LM: {train_lm_score:.3f}')\n",
    "#     print(f'\\tTrain Loss: {train_loss:.3f} | Train PPL: {math.exp(train_loss):7.3f}')\n",
    "    print(f'\\t Val. Loss: {valid_loss:.3f} |  Val. PPL: {math.exp(valid_loss):7.3f} | val acc: {valid_acc:.3f} | val LM: {valid_lm_score:.3f}')"
   ]
  },
  {
   "cell_type": "code",
   "execution_count": 25,
   "metadata": {
    "colab": {},
    "colab_type": "code",
    "id": "VcLqtCltrpgf"
   },
   "outputs": [
    {
     "data": {
      "text/plain": [
       "{'train': [{'loss': 2.1552482512827575, 'acc': 0.936892617723683, 'lm': -1},\n",
       "  {'loss': 1.8443456195461838, 'acc': 0.9452894455887118, 'lm': -1},\n",
       "  {'loss': 1.7802427597675234, 'acc': 0.9441132294776784, 'lm': -1},\n",
       "  {'loss': 1.7328689797244348, 'acc': 0.9452781525241303, 'lm': -1},\n",
       "  {'loss': 1.6977374463563117, 'acc': 0.9479268105171442, 'lm': -1},\n",
       "  {'loss': 1.6687043663107683, 'acc': 0.9448898448419796, 'lm': -1},\n",
       "  {'loss': 1.642506844820988, 'acc': 0.9440037736209648, 'lm': -1},\n",
       "  {'loss': 1.6282475776453538, 'acc': 0.9469755870004665, 'lm': -1},\n",
       "  {'loss': 1.6083944619062405, 'acc': 0.9469608191467829, 'lm': -1},\n",
       "  {'loss': 1.5926768426070728, 'acc': 0.9442061800861574, 'lm': -1}],\n",
       " 'val': [{'loss': 9.649267196655273, 'acc': 0.9375, 'lm': 64.64719290928852},\n",
       "  {'loss': 10.220865249633789, 'acc': 0.9375, 'lm': 44.500095963576975},\n",
       "  {'loss': 10.506912231445312,\n",
       "   'acc': 0.9236111111111112,\n",
       "   'lm': 49.67632675711894},\n",
       "  {'loss': 10.517874717712402, 'acc': 0.9375, 'lm': 34.025929997019055},\n",
       "  {'loss': 10.288975715637207, 'acc': 0.9375, 'lm': 56.888136397503},\n",
       "  {'loss': 10.481398582458496,\n",
       "   'acc': 0.9513888888888888,\n",
       "   'lm': 56.54431826931917},\n",
       "  {'loss': 10.496293067932129, 'acc': 0.9375, 'lm': 59.350672743020006},\n",
       "  {'loss': 10.731101036071777,\n",
       "   'acc': 0.9513888888888888,\n",
       "   'lm': 32.80790090864113},\n",
       "  {'loss': 10.773755073547363,\n",
       "   'acc': 0.9305555555555556,\n",
       "   'lm': 55.01439107608018},\n",
       "  {'loss': 10.846463203430176,\n",
       "   'acc': 0.9444444444444444,\n",
       "   'lm': 42.12383014284292}]}"
      ]
     },
     "execution_count": 25,
     "metadata": {},
     "output_type": "execute_result"
    }
   ],
   "source": [
    "import pickle\n",
    "pickle.dump(history,open('./output/task2_1_2_history0.pkl','wb'))\n",
    "history"
   ]
  },
  {
   "cell_type": "code",
   "execution_count": 16,
   "metadata": {},
   "outputs": [
    {
     "data": {
      "text/plain": [
       "array([[[1, 1],\n",
       "        [2, 1],\n",
       "        [3, 1]],\n",
       "\n",
       "       [[4, 1],\n",
       "        [5, 1],\n",
       "        [6, 1]],\n",
       "\n",
       "       [[7, 1],\n",
       "        [8, 1],\n",
       "        [9, 1]]])"
      ]
     },
     "execution_count": 16,
     "metadata": {},
     "output_type": "execute_result"
    }
   ],
   "source": [
    "\n",
    "valid_loss,valid_predict,valid_acc = evaluate(model, criterion,test_set)\n",
    "valid_lm_score = lm_utility.calculate_Lm_score(valid_predict)"
   ]
  },
  {
   "cell_type": "code",
   "execution_count": 72,
   "metadata": {},
   "outputs": [
    {
     "data": {
      "text/plain": [
       "array([[[2, 1],\n",
       "        [3, 1]],\n",
       "\n",
       "       [[5, 1],\n",
       "        [6, 1]],\n",
       "\n",
       "       [[8, 1],\n",
       "        [9, 1]]])"
      ]
     },
     "execution_count": 72,
     "metadata": {},
     "output_type": "execute_result"
    }
   ],
   "source": []
  },
  {
   "cell_type": "code",
   "execution_count": 50,
   "metadata": {},
   "outputs": [
    {
     "data": {
      "text/plain": [
       "array([3, 6, 9])"
      ]
     },
     "execution_count": 50,
     "metadata": {},
     "output_type": "execute_result"
    }
   ],
   "source": [
    "a[:,2]"
   ]
  },
  {
   "cell_type": "code",
   "execution_count": 66,
   "metadata": {},
   "outputs": [
    {
     "data": {
      "text/plain": [
       "tensor([[-1.1133],\n",
       "        [ 0.0000],\n",
       "        [ 1.9238],\n",
       "        [ 1.8364],\n",
       "        [ 0.4400],\n",
       "        [-1.7066],\n",
       "        [-2.8024],\n",
       "        [-2.0669],\n",
       "        [-0.0000],\n",
       "        [ 0.8218]])"
      ]
     },
     "execution_count": 66,
     "metadata": {},
     "output_type": "execute_result"
    }
   ],
   "source": [
    "m = nn.Dropout(p=0.2)\n",
    "input = torch.randn(10,1)\n",
    "output = m(input)\n",
    "output"
   ]
  },
  {
   "cell_type": "code",
   "execution_count": 9,
   "metadata": {},
   "outputs": [],
   "source": [
    "outputs = torch.zeros(3, 2, 4)\n",
    "a = torch.ones(3,4)*2"
   ]
  },
  {
   "cell_type": "code",
   "execution_count": 29,
   "metadata": {},
   "outputs": [],
   "source": [
    "outputs[:,0,:] = a"
   ]
  },
  {
   "cell_type": "code",
   "execution_count": 15,
   "metadata": {},
   "outputs": [],
   "source": [
    "if 2.10 in a[0]:\n",
    "    print('Y')"
   ]
  },
  {
   "cell_type": "code",
   "execution_count": 18,
   "metadata": {},
   "outputs": [
    {
     "data": {
      "text/plain": [
       "tensor([[[1, 1],\n",
       "         [2, 1],\n",
       "         [3, 1]],\n",
       "\n",
       "        [[4, 1],\n",
       "         [5, 1],\n",
       "         [6, 1]],\n",
       "\n",
       "        [[7, 1],\n",
       "         [8, 1],\n",
       "         [9, 1]]])"
      ]
     },
     "execution_count": 18,
     "metadata": {},
     "output_type": "execute_result"
    }
   ],
   "source": [
    "a=torch.tensor(a)\n",
    "a"
   ]
  },
  {
   "cell_type": "code",
   "execution_count": 38,
   "metadata": {},
   "outputs": [
    {
     "data": {
      "text/plain": [
       "tensor([[[3, 1],\n",
       "         [5, 1],\n",
       "         [7, 1]]])"
      ]
     },
     "execution_count": 38,
     "metadata": {},
     "output_type": "execute_result"
    }
   ],
   "source": [
    "b=np.array([[1,2],[0,1],[2,0]])\n",
    "a[[range(3)],b[:,1],:]"
   ]
  },
  {
   "cell_type": "code",
   "execution_count": 70,
   "metadata": {},
   "outputs": [
    {
     "data": {
      "text/plain": [
       "array([1, 2])"
      ]
     },
     "execution_count": 70,
     "metadata": {},
     "output_type": "execute_result"
    }
   ],
   "source": [
    "b=np.array([1,2,0,0])\n",
    "b[b!=0]"
   ]
  },
  {
   "cell_type": "code",
   "execution_count": 71,
   "metadata": {},
   "outputs": [
    {
     "data": {
      "text/plain": [
       "[1, 'a']"
      ]
     },
     "execution_count": 71,
     "metadata": {},
     "output_type": "execute_result"
    }
   ],
   "source": [
    "a=[1,'a']\n",
    "a"
   ]
  },
  {
   "cell_type": "code",
   "execution_count": 122,
   "metadata": {},
   "outputs": [],
   "source": [
    "class a():\n",
    "    def __init__(self):\n",
    "        print('ok')\n",
    "    def b(self,i):\n",
    "        print('b')"
   ]
  },
  {
   "cell_type": "code",
   "execution_count": 123,
   "metadata": {},
   "outputs": [
    {
     "name": "stdout",
     "output_type": "stream",
     "text": [
      "ok\n",
      "b\n"
     ]
    }
   ],
   "source": [
    "aa =a()\n",
    "aa.b(1)"
   ]
  },
  {
   "cell_type": "code",
   "execution_count": 111,
   "metadata": {},
   "outputs": [
    {
     "data": {
      "text/plain": [
       "__main__.Lm_utility"
      ]
     },
     "execution_count": 111,
     "metadata": {},
     "output_type": "execute_result"
    }
   ],
   "source": [
    "type(lm_utility)"
   ]
  },
  {
   "cell_type": "code",
   "execution_count": 25,
   "metadata": {},
   "outputs": [],
   "source": [
    "import numpy as np\n",
    "a=np.array([[1]])\n",
    "a = a[a!=0]"
   ]
  },
  {
   "cell_type": "code",
   "execution_count": 26,
   "metadata": {},
   "outputs": [
    {
     "data": {
      "text/plain": [
       "array([1])"
      ]
     },
     "execution_count": 26,
     "metadata": {},
     "output_type": "execute_result"
    }
   ],
   "source": [
    "a"
   ]
  },
  {
   "cell_type": "code",
   "execution_count": null,
   "metadata": {},
   "outputs": [],
   "source": []
  }
 ],
 "metadata": {
  "accelerator": "GPU",
  "colab": {
   "collapsed_sections": [],
   "name": "Untitled1.ipynb",
   "provenance": []
  },
  "kernelspec": {
   "display_name": "Python 3",
   "language": "python",
   "name": "python3"
  },
  "language_info": {
   "codemirror_mode": {
    "name": "ipython",
    "version": 3
   },
   "file_extension": ".py",
   "mimetype": "text/x-python",
   "name": "python",
   "nbconvert_exporter": "python",
   "pygments_lexer": "ipython3",
   "version": "3.6.9"
  }
 },
 "nbformat": 4,
 "nbformat_minor": 1
}
